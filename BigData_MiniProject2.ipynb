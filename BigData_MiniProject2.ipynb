{
  "cells": [
    {
      "cell_type": "markdown",
      "metadata": {
        "id": "GnArcM5AnIDD"
      },
      "source": [
        "# Install Pyspark"
      ]
    },
    {
      "cell_type": "code",
      "execution_count": null,
      "metadata": {
        "colab": {
          "base_uri": "https://localhost:8080/"
        },
        "id": "hR3kzEiRnFTv",
        "outputId": "aa75ca94-bfd1-4fe0-ea8b-d78454c78b3f"
      },
      "outputs": [
        {
          "output_type": "stream",
          "name": "stdout",
          "text": [
            "Looking in indexes: https://pypi.org/simple, https://us-python.pkg.dev/colab-wheels/public/simple/\n",
            "Collecting pyspark\n",
            "  Downloading pyspark-3.3.1.tar.gz (281.4 MB)\n",
            "\u001b[K     |████████████████████████████████| 281.4 MB 34 kB/s \n",
            "\u001b[?25hCollecting py4j==0.10.9.5\n",
            "  Downloading py4j-0.10.9.5-py2.py3-none-any.whl (199 kB)\n",
            "\u001b[K     |████████████████████████████████| 199 kB 51.1 MB/s \n",
            "\u001b[?25hBuilding wheels for collected packages: pyspark\n",
            "  Building wheel for pyspark (setup.py) ... \u001b[?25l\u001b[?25hdone\n",
            "  Created wheel for pyspark: filename=pyspark-3.3.1-py2.py3-none-any.whl size=281845512 sha256=851207d0df61f619d8bf77bcfe31a7f3014065bcb1b2c6c7442686cd158d4283\n",
            "  Stored in directory: /root/.cache/pip/wheels/43/dc/11/ec201cd671da62fa9c5cc77078235e40722170ceba231d7598\n",
            "Successfully built pyspark\n",
            "Installing collected packages: py4j, pyspark\n",
            "Successfully installed py4j-0.10.9.5 pyspark-3.3.1\n"
          ]
        }
      ],
      "source": [
        "!pip install pyspark"
      ]
    },
    {
      "cell_type": "code",
      "execution_count": null,
      "metadata": {
        "id": "T2I2wPz7GYkw"
      },
      "outputs": [],
      "source": [
        "#!pip install --upgrade --no-cache-dir gdown"
      ]
    },
    {
      "cell_type": "code",
      "execution_count": null,
      "metadata": {
        "id": "VOJykM7mOUvJ"
      },
      "outputs": [],
      "source": [
        "#!gdown --id 1Ba72Gnrjre0KPqhWbQPbyYR3XBguosGf"
      ]
    },
    {
      "cell_type": "code",
      "execution_count": null,
      "metadata": {
        "id": "p-FhtqwnOWm-"
      },
      "outputs": [],
      "source": [
        "#!unzip '/content/last_data.zip' -d '/content/drive/MyDrive/BigData/Data2'"
      ]
    },
    {
      "cell_type": "code",
      "execution_count": null,
      "metadata": {
        "colab": {
          "base_uri": "https://localhost:8080/",
          "height": 35
        },
        "id": "6pnbZzHpOlJE",
        "outputId": "ebf88b6e-d6d9-4a54-881c-e226f74f8899"
      },
      "outputs": [
        {
          "output_type": "execute_result",
          "data": {
            "text/plain": [
              "\"\\nimport json\\n  \\n# Opening JSON file\\nf = open('/content/drive/MyDrive/BigData/part4.json')\\n  \\n# returns JSON object as \\n# a dictionary\\ndata = json.load(f)\\n\""
            ],
            "application/vnd.google.colaboratory.intrinsic+json": {
              "type": "string"
            }
          },
          "metadata": {},
          "execution_count": 5
        }
      ],
      "source": [
        "\"\"\"\n",
        "import json\n",
        "  \n",
        "# Opening JSON file\n",
        "f = open('/content/drive/MyDrive/BigData/part4.json')\n",
        "  \n",
        "# returns JSON object as \n",
        "# a dictionary\n",
        "data = json.load(f)\n",
        "\"\"\""
      ]
    },
    {
      "cell_type": "markdown",
      "metadata": {
        "id": "LqzsaLCnnRrv"
      },
      "source": [
        "# Imports"
      ]
    },
    {
      "cell_type": "code",
      "execution_count": null,
      "metadata": {
        "id": "YW2p6jATnTpn"
      },
      "outputs": [],
      "source": [
        "import pyspark\n",
        "from pyspark import SparkContext\n",
        "from pyspark.sql.session import SparkSession\n",
        "\n",
        "import json\n",
        "import itertools\n",
        "import ast\n",
        "import seaborn as sns\n",
        "import matplotlib.pyplot as plt\n",
        "from matplotlib.pyplot import figure\n",
        "import pandas as pd\n",
        "import numpy as np\n",
        "\n",
        "from pyspark.sql import SparkSession\n",
        "from itertools import combinations\n",
        "\n",
        "import requests\n",
        "import time\n",
        "import random\n",
        "from google.colab import files\n",
        "import pickle\n",
        "import shutil"
      ]
    },
    {
      "cell_type": "code",
      "execution_count": null,
      "metadata": {
        "colab": {
          "base_uri": "https://localhost:8080/"
        },
        "id": "jiTrWz7lM5uZ",
        "outputId": "1d3a3ad9-6661-4029-8f45-fe9352e67399"
      },
      "outputs": [
        {
          "output_type": "stream",
          "name": "stdout",
          "text": [
            "Mounted at /content/drive\n"
          ]
        }
      ],
      "source": [
        "from google.colab import drive\n",
        "drive.mount('/content/drive',force_remount=True)"
      ]
    },
    {
      "cell_type": "markdown",
      "metadata": {
        "id": "2cbAS12mnHS4"
      },
      "source": [
        "# Create Spark Context and Session"
      ]
    },
    {
      "cell_type": "code",
      "execution_count": null,
      "metadata": {
        "id": "-NuJVCOAnYME"
      },
      "outputs": [],
      "source": [
        "# Creating spark context\n",
        "sc = SparkContext()\n",
        "# Create a spark session\n",
        "spark = SparkSession.builder.appName('Python Spark Session').getOrCreate()"
      ]
    },
    {
      "cell_type": "code",
      "execution_count": null,
      "metadata": {
        "id": "fbZn0xO57-vN"
      },
      "outputs": [],
      "source": [
        "# Reading the data and combine all parts in a single RDD\n",
        "path = '/content/drive/MyDrive/BigData/Data2/*.json'\n",
        "data_rdd = spark.read.option(\"multiline\",\"true\").json(path).rdd"
      ]
    },
    {
      "cell_type": "code",
      "execution_count": null,
      "metadata": {
        "id": "SY2oT-ual33T"
      },
      "outputs": [],
      "source": [
        "# Reading champions and items from the json files into RDDs\n",
        "champions_rdd = spark.read.json('/content/drive/MyDrive/BigData/champion.json').rdd\n",
        "items_rdd = spark.read.json('/content/drive/MyDrive/BigData/item.json').rdd"
      ]
    },
    {
      "cell_type": "code",
      "execution_count": null,
      "metadata": {
        "id": "G8B-o-H8Ic5V",
        "colab": {
          "base_uri": "https://localhost:8080/"
        },
        "outputId": "82ff3476-e8ff-49df-88b6-50853f008227"
      },
      "outputs": [
        {
          "output_type": "stream",
          "name": "stdout",
          "text": [
            "Total Matches Count: 140822\n"
          ]
        }
      ],
      "source": [
        "# Count of obtained Matches\n",
        "print(f'Total Matches Count: {data_rdd.count()}')"
      ]
    },
    {
      "cell_type": "markdown",
      "metadata": {
        "id": "mD9hFaOpO8OL"
      },
      "source": [
        "# Ranked Matches"
      ]
    },
    {
      "cell_type": "markdown",
      "metadata": {
        "id": "oO1SF8cON75J"
      },
      "source": [
        "*   **By now, we have matches of different types, but we want only SOLO/DUO RANKED matches.**\n",
        "*   **After searching, we found that queueID is the variable that defines the type of the match.**\n",
        "\n",
        "*   **SOLO/DUO RANKED matches have queueID = 420 as obtained from the documentation.**\n",
        "\n",
        "![image.png](data:image/png;base64,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)"
      ]
    },
    {
      "cell_type": "code",
      "execution_count": null,
      "metadata": {
        "id": "cVlNceZ5O_mf"
      },
      "outputs": [],
      "source": [
        "def ranked_matches(matches):\n",
        "  \"\"\"\n",
        "  Check if the match is SOLO/DUO Ranked or not.\n",
        "  \"\"\"\n",
        "  try:\n",
        "    if matches[\"info\"][\"queueId\"]==420:\n",
        "      return True\n",
        "  except:\n",
        "    pass"
      ]
    },
    {
      "cell_type": "code",
      "execution_count": null,
      "metadata": {
        "id": "yRC7tT5wIfVE"
      },
      "outputs": [],
      "source": [
        "ranked_matches_rdd = data_rdd.filter(ranked_matches)"
      ]
    },
    {
      "cell_type": "code",
      "execution_count": null,
      "metadata": {
        "id": "dsNOGrXiIlTW"
      },
      "outputs": [],
      "source": [
        "# number of ranked matchs, teams, participants, bans\n",
        "ranked_matches_count = ranked_matches_rdd.count()\n",
        "teams_count = ranked_matches_count*2\n",
        "participants_count = ranked_matches_count*10"
      ]
    },
    {
      "cell_type": "code",
      "source": [
        "ranked_matches_count = 52941\n",
        "teams_count = ranked_matches_count*2\n",
        "participants_count = ranked_matches_count*10"
      ],
      "metadata": {
        "id": "K74R4GGXXdRV"
      },
      "execution_count": null,
      "outputs": []
    },
    {
      "cell_type": "code",
      "source": [
        "print(f'Ranked Matches Count: {ranked_matches_count}')"
      ],
      "metadata": {
        "id": "4XHQYWe_rFCr",
        "colab": {
          "base_uri": "https://localhost:8080/"
        },
        "outputId": "382dd57c-b336-4377-de53-9e4878fa5205"
      },
      "execution_count": null,
      "outputs": [
        {
          "output_type": "stream",
          "name": "stdout",
          "text": [
            "Ranked Matches Count: 52941\n"
          ]
        }
      ]
    },
    {
      "cell_type": "code",
      "execution_count": null,
      "metadata": {
        "colab": {
          "base_uri": "https://localhost:8080/"
        },
        "id": "6kYcmJU7wTaA",
        "outputId": "e1ab513d-f24e-49df-a23d-a46e25145541"
      },
      "outputs": [
        {
          "output_type": "execute_result",
          "data": {
            "text/plain": [
              "[Row(info=Row(gameCreation=1669542249143, gameDuration=2193, gameEndTimestamp=1669544621368, gameId=6235494293, gameMode='CLASSIC', gameName='teambuilder-match-6235494293', gameStartTimestamp=1669542427343, gameType='MATCHED_GAME', gameVersion='12.22.479.5277', mapId=11, participants=[Row(allInPings=0, assistMePings=0, assists=3, baitPings=0, baronKills=1, basicPings=0, bountyLevel=0, challenges=Row(12AssistStreakCount=0, abilityUses=395, acesBefore15Minutes=0, alliedJungleMonsterKills=0.0, baronBuffGoldAdvantageOverThreshold=1, baronTakedowns=1, blastConeOppositeOpponentCount=0, bountyGold=0, buffsStolen=0, completeSupportQuestInTime=0, controlWardTimeCoverageInRiverOrEnemyHalf=0.32091955738188066, controlWardsPlaced=3, damagePerMinute=562.3049421695459, damageTakenOnTeamPercentage=0.25044266404966264, dancedWithRiftHerald=0, deathsByEnemyChamps=8, dodgeSkillShotsSmallWindow=2, doubleAces=0, dragonTakedowns=0, earliestBaron=1469.567502222925, earliestDragonTakedown=None, earliestElderDragon=None, earlyLaningPhaseGoldExpAdvantage=0.0, effectiveHealAndShielding=0.0, elderDragonKillsWithOpposingSoul=0, elderDragonMultikills=0, enemyChampionImmobilizations=44, enemyJungleMonsterKills=10.400000035762787, epicMonsterKillsNearEnemyJungler=0, epicMonsterKillsWithin30SecondsOfSpawn=0, epicMonsterSteals=0, epicMonsterStolenWithoutSmite=0, fasterSupportQuestCompletion=None, fastestLegendary=None, firstTurretKilledTime=672.5850100150425, flawlessAces=0, fullTeamTakedown=0, gameLength=2194.0620837598926, getTakedownsInAllLanesEarlyJungleAsLaner=0, goldPerMinute=347.5377119226934, hadAfkTeammate=None, hadOpenNexus=0, highestChampionDamage=None, highestCrowdControlScore=None, highestWardKills=None, immobilizeAndKillWithAlly=4, initialBuffCount=0, initialCrabCount=0, jungleCsBefore10Minutes=0.0, junglerKillsEarlyJungle=None, junglerTakedownsNearDamagedEpicMonster=0, kTurretsDestroyedBeforePlatesFall=1, kda=0.75, killAfterHiddenWithAlly=2, killParticipation=0.13333333333333333, killedChampTookFullTeamDamageSurvived=0, killingSprees=None, killsNearEnemyTurret=1, killsOnLanersEarlyJungleAsJungler=None, killsOnOtherLanesEarlyJungleAsLaner=0, killsOnRecentlyHealedByAramPack=0, killsUnderOwnTurret=0, killsWithHelpFromEpicMonster=0, knockEnemyIntoTeamAndKill=5, landSkillShotsEarlyGame=2, laneMinionsFirst10Minutes=67, laningPhaseGoldExpAdvantage=0.0, legendaryCount=0, lostAnInhibitor=0, maxCsAdvantageOnLaneOpponent=29.900000005960464, maxKillDeficit=0, maxLevelLeadLaneOpponent=1, mejaisFullStackInTime=None, moreEnemyJungleThanOpponent=0.0, mostWardsDestroyedOneSweeper=None, multiKillOneSpell=0, multiTurretRiftHeraldCount=1, multikills=0, multikillsAfterAggressiveFlash=0, mythicItemUsed=6692, outerTurretExecutesBefore10Minutes=0, outnumberedKills=0, outnumberedNexusKill=0, perfectDragonSoulsTaken=0, perfectGame=0, pickKillWithAlly=3, playedChampSelectPosition=1, poroExplosions=0, quickCleanse=0, quickFirstTurret=0, quickSoloKills=0, riftHeraldTakedowns=1, saveAllyFromDeath=0, scuttleCrabKills=3, shortestTimeToAceFromFirstTakedown=None, skillshotsDodged=16, skillshotsHit=15, snowballsHit=0, soloBaronKills=0, soloKills=2, soloTurretsLategame=1, stealthWardsPlaced=5, survivedSingleDigitHpCount=0, survivedThreeImmobilizesInFight=7, takedownOnFirstTurret=0, takedowns=6, takedownsAfterGainingLevelAdvantage=0, takedownsBeforeJungleMinionSpawn=0, takedownsFirst25Minutes=None, takedownsFirstXMinutes=2, takedownsInAlcove=0, takedownsInEnemyFountain=0, teamBaronKills=1, teamDamagePercentage=0.14306130948943296, teamElderDragonKills=0, teamRiftHeraldKills=4, teleportTakedowns=None, thirdInhibitorDestroyedTime=1844.994577925546, threeWardsOneSweeperCount=0, tookLargeDamageSurvived=0, turretPlatesTaken=5, turretTakedowns=3, turretsTakenWithRiftHerald=15, twentyMinionsIn3SecondsCount=8, unseenRecalls=0, visionScoreAdvantageLaneOpponent=-0.04524892568588257, visionScorePerMinute=0.6302605659075804, wardTakedowns=1, wardTakedownsBefore20M=0, wardsGuarded=0), champExperience=16603, champLevel=17, championId=266, championName='Aatrox', championTransform=0, commandPings=2, consumablesPurchased=4, damageDealtToBuildings=4654, damageDealtToObjectives=9876, damageDealtToTurrets=4654, damageSelfMitigated=38687, dangerPings=0, deaths=8, detectorWardsPlaced=3, doubleKills=0, dragonKills=0, eligibleForProgression=True, enemyMissingPings=10, enemyVisionPings=0, firstBloodAssist=True, firstBloodKill=False, firstTowerAssist=False, firstTowerKill=False, gameEndedInEarlySurrender=False, gameEndedInSurrender=False, getBackPings=5, goldEarned=12708, goldSpent=12955, holdPings=0, individualPosition='TOP', inhibitorKills=1, inhibitorTakedowns=2, inhibitorsLost=0, item0=6333, item1=6692, item2=3035, item3=0, item4=3071, item5=3047, item6=3364, itemsPurchased=24, killingSprees=0, kills=3, lane='JUNGLE', largestCriticalStrike=0, largestKillingSpree=0, largestMultiKill=1, longestTimeSpentLiving=676, magicDamageDealt=0, magicDamageDealtToChampions=0, magicDamageTaken=15886, needVisionPings=0, neutralMinionsKilled=27, nexusKills=0, nexusLost=0, nexusTakedowns=0, objectivesStolen=0, objectivesStolenAssists=0, onMyWayPings=10, participantId=1, pentaKills=0, perks=Row(statPerks=Row(defense=5002, flex=5008, offense=5008), styles=[Row(description='primaryStyle', selections=[Row(perk=8010, var1=243, var2=0, var3=0), Row(perk=9111, var1=471, var2=120, var3=0), Row(perk=9105, var1=20, var2=20, var3=0), Row(perk=8299, var1=510, var2=0, var3=0)], style=8000), Row(description='subStyle', selections=[Row(perk=8473, var1=990, var2=0, var3=0), Row(perk=8453, var1=1217, var2=103, var3=0)], style=8400)]), physicalDamageDealt=178123, physicalDamageDealtToChampions=20562, physicalDamageTaken=19193, profileIcon=5038, pushPings=0, puuid='T5kveJr45czHEGnLSaqzJTH9XF-MECUhQGX8_QIQe1nvUvDgCOYCGNMS_o5HTWiQXs7tj4dQmpfAQA', quadraKills=0, riotIdName='', riotIdTagline='', role='NONE', sightWardsBoughtInGame=0, spell1Casts=241, spell2Casts=44, spell3Casts=100, spell4Casts=10, summoner1Casts=4, summoner1Id=12, summoner2Casts=5, summoner2Id=4, summonerId='o4lbglaDWESWtl-Cw7T3UMKeoiO5Zb0k73Nfc4pwUzt7c_A', summonerLevel=162, summonerName='Radishroom', teamEarlySurrendered=False, teamId=100, teamPosition='TOP', timeCCingOthers=21, timePlayed=2193, totalDamageDealt=182173, totalDamageDealtToChampions=20562, totalDamageShieldedOnTeammates=0, totalDamageTaken=38747, totalHeal=13991, totalHealsOnTeammates=0, totalMinionsKilled=177, totalTimeCCDealt=322, totalTimeSpentDead=309, totalUnitsHealed=1, tripleKills=0, trueDamageDealt=4050, trueDamageDealtToChampions=0, trueDamageTaken=3666, turretKills=3, turretTakedowns=3, turretsLost=3, unrealKills=0, visionClearedPings=0, visionScore=23, visionWardsBoughtInGame=3, wardsKilled=1, wardsPlaced=8, win=True), Row(allInPings=0, assistMePings=3, assists=5, baitPings=0, baronKills=0, basicPings=0, bountyLevel=1, challenges=Row(12AssistStreakCount=0, abilityUses=316, acesBefore15Minutes=0, alliedJungleMonsterKills=148.00000023841858, baronBuffGoldAdvantageOverThreshold=1, baronTakedowns=1, blastConeOppositeOpponentCount=0, bountyGold=0, buffsStolen=3, completeSupportQuestInTime=0, controlWardTimeCoverageInRiverOrEnemyHalf=0.2739643870596413, controlWardsPlaced=3, damagePerMinute=755.4016708689804, damageTakenOnTeamPercentage=0.20687742444590698, dancedWithRiftHerald=0, deathsByEnemyChamps=3, dodgeSkillShotsSmallWindow=2, doubleAces=0, dragonTakedowns=4, earliestBaron=1469.567502222925, earliestDragonTakedown=954.2303855135613, earliestElderDragon=None, earlyLaningPhaseGoldExpAdvantage=1.0, effectiveHealAndShielding=0.0, elderDragonKillsWithOpposingSoul=0, elderDragonMultikills=0, enemyChampionImmobilizations=7, enemyJungleMonsterKills=38.50000002980232, epicMonsterKillsNearEnemyJungler=0, epicMonsterKillsWithin30SecondsOfSpawn=2, epicMonsterSteals=0, epicMonsterStolenWithoutSmite=0, fasterSupportQuestCompletion=None, fastestLegendary=1632.936943817303, firstTurretKilledTime=672.5850100150425, flawlessAces=0, fullTeamTakedown=0, gameLength=2194.0620837598926, getTakedownsInAllLanesEarlyJungleAsLaner=None, goldPerMinute=525.6283221934603, hadAfkTeammate=None, hadOpenNexus=0, highestChampionDamage=None, highestCrowdControlScore=None, highestWardKills=None, immobilizeAndKillWithAlly=0, initialBuffCount=2, initialCrabCount=1, jungleCsBefore10Minutes=76.00000008940697, junglerKillsEarlyJungle=1, junglerTakedownsNearDamagedEpicMonster=1, kTurretsDestroyedBeforePlatesFall=1, kda=5.0, killAfterHiddenWithAlly=1, killParticipation=0.3333333333333333, killedChampTookFullTeamDamageSurvived=0, killingSprees=1, killsNearEnemyTurret=3, killsOnLanersEarlyJungleAsJungler=1, killsOnOtherLanesEarlyJungleAsLaner=None, killsOnRecentlyHealedByAramPack=0, killsUnderOwnTurret=0, killsWithHelpFromEpicMonster=0, knockEnemyIntoTeamAndKill=3, landSkillShotsEarlyGame=7, laneMinionsFirst10Minutes=0, laningPhaseGoldExpAdvantage=1.0, legendaryCount=1, lostAnInhibitor=0, maxCsAdvantageOnLaneOpponent=146.50000017881393, maxKillDeficit=0, maxLevelLeadLaneOpponent=4, mejaisFullStackInTime=None, moreEnemyJungleThanOpponent=-37.000000059604645, mostWardsDestroyedOneSweeper=None, multiKillOneSpell=0, multiTurretRiftHeraldCount=1, multikills=0, multikillsAfterAggressiveFlash=0, mythicItemUsed=3152, outerTurretExecutesBefore10Minutes=0, outnumberedKills=2, outnumberedNexusKill=0, perfectDragonSoulsTaken=0, perfectGame=0, pickKillWithAlly=9, playedChampSelectPosition=1, poroExplosions=0, quickCleanse=0, quickFirstTurret=0, quickSoloKills=0, riftHeraldTakedowns=4, saveAllyFromDeath=0, scuttleCrabKills=4, shortestTimeToAceFromFirstTakedown=None, skillshotsDodged=15, skillshotsHit=29, snowballsHit=0, soloBaronKills=0, soloKills=5, soloTurretsLategame=1, stealthWardsPlaced=4, survivedSingleDigitHpCount=0, survivedThreeImmobilizesInFight=5, takedownOnFirstTurret=1, takedowns=15, takedownsAfterGainingLevelAdvantage=0, takedownsBeforeJungleMinionSpawn=0, takedownsFirst25Minutes=None, takedownsFirstXMinutes=4, takedownsInAlcove=0, takedownsInEnemyFountain=0, teamBaronKills=1, teamDamagePercentage=0.1921888714121192, teamElderDragonKills=0, teamRiftHeraldKills=4, teleportTakedowns=None, thirdInhibitorDestroyedTime=1844.994577925546, threeWardsOneSweeperCount=0, tookLargeDamageSurvived=1, turretPlatesTaken=4, turretTakedowns=4, turretsTakenWithRiftHerald=15, twentyMinionsIn3SecondsCount=3, unseenRecalls=0, visionScoreAdvantageLaneOpponent=-0.1416025161743164, visionScorePerMinute=0.9303402597625907, wardTakedowns=2, wardTakedownsBefore20M=1, wardsGuarded=0), champExperience=22516, champLevel=18, championId=131, championName='Diana', championTransform=0, commandPings=1, consumablesPurchased=6, damageDealtToBuildings=4467, damageDealtToObjectives=95691, damageDealtToTurrets=4467, damageSelfMitigated=67121, dangerPings=0, deaths=3, detectorWardsPlaced=3, doubleKills=0, dragonKills=4, eligibleForProgression=True, enemyMissingPings=3, enemyVisionPings=2, firstBloodAssist=False, firstBloodKill=True, firstTowerAssist=False, firstTowerKill=False, gameEndedInEarlySurrender=False, gameEndedInSurrender=False, getBackPings=0, goldEarned=19221, goldSpent=18075, holdPings=0, individualPosition='JUNGLE', inhibitorKills=3, inhibitorTakedowns=3, inhibitorsLost=0, item0=3152, item1=3157, item2=3089, item3=4645, item4=3020, item5=3102, item6=3364, itemsPurchased=25, killingSprees=1, kills=10, lane='JUNGLE', largestCriticalStrike=0, largestKillingSpree=9, largestMultiKill=1, longestTimeSpentLiving=1716, magicDamageDealt=318074, magicDamageDealtToChampions=23938, magicDamageTaken=13450, needVisionPings=0, neutralMinionsKilled=239, nexusKills=0, nexusLost=0, nexusTakedowns=1, objectivesStolen=0, objectivesStolenAssists=0, onMyWayPings=2, participantId=2, pentaKills=0, perks=Row(statPerks=Row(defense=5003, flex=5008, offense=5005), styles=[Row(description='primaryStyle', selections=[Row(perk=8010, var1=1080, var2=0, var3=0), Row(perk=9111, var1=600, var2=300, var3=0), Row(perk=9104, var1=11, var2=40, var3=0), Row(perk=8014, var1=518, var2=0, var3=0)], style=8000), Row(description='subStyle', selections=[Row(perk=8143, var1=980, var2=0, var3=0), Row(perk=8135, var1=400, var2=4, var3=0)], style=8100)]), physicalDamageDealt=57143, physicalDamageDealtToChampions=2647, physicalDamageTaken=17024, profileIcon=5631, pushPings=0, puuid='ChXW3PFTnGocDBXCkQyvQa0-rTy56L9idv5Lto_6o_BW8rJKWWRFuJa75tK8HFUCBXlHozkcKmneow', quadraKills=0, riotIdName='', riotIdTagline='', role='NONE', sightWardsBoughtInGame=0, spell1Casts=150, spell2Casts=65, spell3Casts=92, spell4Casts=9, summoner1Casts=11, summoner1Id=11, summoner2Casts=2, summoner2Id=4, summonerId='mFy-_ehUqZPX5GeDNb2GHWB5rgjKELFa8DzxWx3LJt7QGAE', summonerLevel=191, summonerName='Canyon of  Slaye', teamEarlySurrendered=False, teamId=100, teamPosition='JUNGLE', timeCCingOthers=10, timePlayed=2193, totalDamageDealt=437754, totalDamageDealtToChampions=27623, totalDamageShieldedOnTeammates=0, totalDamageTaken=32007, totalHeal=7159, totalHealsOnTeammates=0, totalMinionsKilled=74, totalTimeCCDealt=345, totalTimeSpentDead=175, totalUnitsHealed=1, tripleKills=0, trueDamageDealt=62538, trueDamageDealtToChampions=1037, trueDamageTaken=1533, turretKills=3, turretTakedowns=4, turretsLost=3, unrealKills=0, visionClearedPings=0, visionScore=34, visionWardsBoughtInGame=3, wardsKilled=2, wardsPlaced=7, win=True), Row(allInPings=0, assistMePings=10, assists=5, baitPings=0, baronKills=0, basicPings=0, bountyLevel=0, challenges=Row(12AssistStreakCount=0, abilityUses=285, acesBefore15Minutes=0, alliedJungleMonsterKills=0.0, baronBuffGoldAdvantageOverThreshold=1, baronTakedowns=0, blastConeOppositeOpponentCount=0, bountyGold=0, buffsStolen=0, completeSupportQuestInTime=0, controlWardTimeCoverageInRiverOrEnemyHalf=None, controlWardsPlaced=0, damagePerMinute=1217.9432947246705, damageTakenOnTeamPercentage=0.20926639581398862, dancedWithRiftHerald=0, deathsByEnemyChamps=11, dodgeSkillShotsSmallWindow=3, doubleAces=0, dragonTakedowns=2, earliestBaron=1469.567502222925, earliestDragonTakedown=1292.347750635515, earliestElderDragon=None, earlyLaningPhaseGoldExpAdvantage=1.0, effectiveHealAndShielding=0.0, elderDragonKillsWithOpposingSoul=0, elderDragonMultikills=0, enemyChampionImmobilizations=55, enemyJungleMonsterKills=0.0, epicMonsterKillsNearEnemyJungler=0, epicMonsterKillsWithin30SecondsOfSpawn=0, epicMonsterSteals=0, epicMonsterStolenWithoutSmite=0, fasterSupportQuestCompletion=None, fastestLegendary=None, firstTurretKilledTime=672.5850100150425, flawlessAces=0, fullTeamTakedown=0, gameLength=2194.0620837598926, getTakedownsInAllLanesEarlyJungleAsLaner=0, goldPerMinute=453.7247691706351, hadAfkTeammate=None, hadOpenNexus=0, highestChampionDamage=1, highestCrowdControlScore=None, highestWardKills=None, immobilizeAndKillWithAlly=7, initialBuffCount=0, initialCrabCount=0, jungleCsBefore10Minutes=0.0, junglerKillsEarlyJungle=None, junglerTakedownsNearDamagedEpicMonster=0, kTurretsDestroyedBeforePlatesFall=1, kda=2.090909090909091, killAfterHiddenWithAlly=1, killParticipation=0.5111111111111111, killedChampTookFullTeamDamageSurvived=0, killingSprees=1, killsNearEnemyTurret=10, killsOnLanersEarlyJungleAsJungler=None, killsOnOtherLanesEarlyJungleAsLaner=0, killsOnRecentlyHealedByAramPack=0, killsUnderOwnTurret=0, killsWithHelpFromEpicMonster=0, knockEnemyIntoTeamAndKill=0, landSkillShotsEarlyGame=14, laneMinionsFirst10Minutes=59, laningPhaseGoldExpAdvantage=1.0, legendaryCount=0, lostAnInhibitor=0, maxCsAdvantageOnLaneOpponent=40.0, maxKillDeficit=0, maxLevelLeadLaneOpponent=3, mejaisFullStackInTime=None, moreEnemyJungleThanOpponent=0.0, mostWardsDestroyedOneSweeper=None, multiKillOneSpell=0, multiTurretRiftHeraldCount=1, multikills=4, multikillsAfterAggressiveFlash=2, mythicItemUsed=6653, outerTurretExecutesBefore10Minutes=0, outnumberedKills=8, outnumberedNexusKill=0, perfectDragonSoulsTaken=0, perfectGame=0, pickKillWithAlly=12, playedChampSelectPosition=1, poroExplosions=0, quickCleanse=0, quickFirstTurret=0, quickSoloKills=1, riftHeraldTakedowns=0, saveAllyFromDeath=0, scuttleCrabKills=0, shortestTimeToAceFromFirstTakedown=None, skillshotsDodged=21, skillshotsHit=130, snowballsHit=0, soloBaronKills=0, soloKills=11, soloTurretsLategame=None, stealthWardsPlaced=5, survivedSingleDigitHpCount=0, survivedThreeImmobilizesInFight=4, takedownOnFirstTurret=1, takedowns=23, takedownsAfterGainingLevelAdvantage=1, takedownsBeforeJungleMinionSpawn=0, takedownsFirst25Minutes=None, takedownsFirstXMinutes=5, takedownsInAlcove=0, takedownsInEnemyFountain=0, teamBaronKills=1, teamDamagePercentage=0.3098684531473473, teamElderDragonKills=0, teamRiftHeraldKills=4, teleportTakedowns=None, thirdInhibitorDestroyedTime=1844.994577925546, threeWardsOneSweeperCount=0, tookLargeDamageSurvived=0, turretPlatesTaken=5, turretTakedowns=3, turretsTakenWithRiftHerald=15, twentyMinionsIn3SecondsCount=6, unseenRecalls=0, visionScoreAdvantageLaneOpponent=-0.259838342666626, visionScorePerMinute=0.38291251868946863, wardTakedowns=3, wardTakedownsBefore20M=2, wardsGuarded=0), champExperience=17502, champLevel=17, championId=711, championName='Vex', championTransform=0, commandPings=2, consumablesPurchased=2, damageDealtToBuildings=6022, damageDealtToObjectives=6994, damageDealtToTurrets=6022, damageSelfMitigated=26556, dangerPings=0, deaths=11, detectorWardsPlaced=0, doubleKills=3, dragonKills=0, eligibleForProgression=True, enemyMissingPings=5, enemyVisionPings=0, firstBloodAssist=False, firstBloodKill=False, firstTowerAssist=False, firstTowerKill=True, gameEndedInEarlySurrender=False, gameEndedInSurrender=False, getBackPings=2, goldEarned=16591, goldSpent=14710, holdPings=0, individualPosition='MIDDLE', inhibitorKills=0, inhibitorTakedowns=1, inhibitorsLost=0, item0=3135, item1=3157, item2=6653, item3=3020, item4=4645, item5=1058, item6=3340, itemsPurchased=21, killingSprees=6, kills=18, lane='MIDDLE', largestCriticalStrike=0, largestKillingSpree=4, largestMultiKill=3, longestTimeSpentLiving=443, magicDamageDealt=126084, magicDamageDealtToChampions=40654, magicDamageTaken=13139, needVisionPings=0, neutralMinionsKilled=0, nexusKills=1, nexusLost=0, nexusTakedowns=1, objectivesStolen=0, objectivesStolenAssists=0, onMyWayPings=1, participantId=3, pentaKills=0, perks=Row(statPerks=Row(defense=5002, flex=5008, offense=5005), styles=[Row(description='primaryStyle', selections=[Row(perk=8369, var1=1631, var2=1094, var3=0), Row(perk=8304, var1=9, var2=4, var3=5), Row(perk=8321, var1=2, var2=0, var3=0), Row(perk=8347, var1=0, var2=0, var3=0)], style=8300), Row(description='subStyle', selections=[Row(perk=8210, var1=34, var2=0, var3=0), Row(perk=8237, var1=814, var2=0, var3=0)], style=8200)]), physicalDamageDealt=11530, physicalDamageDealtToChampions=1749, physicalDamageTaken=16487, profileIcon=5631, pushPings=0, puuid='Xm1u28V4d1e_84bkIz3km41wuJzK-cLYzfp7sskjMlcjp-J7WuZMIq-JobUUXKLeVYR9egBLcrdkTQ', quadraKills=0, riotIdName='', riotIdTagline='', role='SOLO', sightWardsBoughtInGame=0, spell1Casts=157, spell2Casts=42, spell3Casts=50, spell4Casts=36, summoner1Casts=6, summoner1Id=14, summoner2Casts=6, summoner2Id=4, summonerId='LqX05ozR6JpUReIBL09yMWSA7f0GnmQcdSJTA1fCjhu32jiFuHtdmbU9Cw', summonerLevel=106, summonerName='VEX is a beast', teamEarlySurrendered=False, teamId=100, teamPosition='MIDDLE', timeCCingOthers=45, timePlayed=2193, totalDamageDealt=141512, totalDamageDealtToChampions=44537, totalDamageShieldedOnTeammates=0, totalDamageTaken=32377, totalHeal=4671, totalHealsOnTeammates=0, totalMinionsKilled=147, totalTimeCCDealt=344, totalTimeSpentDead=450, totalUnitsHealed=1, tripleKills=1, trueDamageDealt=3898, trueDamageDealtToChampions=2133, trueDamageTaken=2749, turretKills=3, turretTakedowns=3, turretsLost=3, unrealKills=0, visionClearedPings=0, visionScore=14, visionWardsBoughtInGame=0, wardsKilled=3, wardsPlaced=5, win=True), Row(allInPings=0, assistMePings=4, assists=4, baitPings=0, baronKills=0, basicPings=0, bountyLevel=2, challenges=Row(12AssistStreakCount=0, abilityUses=462, acesBefore15Minutes=0, alliedJungleMonsterKills=0.0, baronBuffGoldAdvantageOverThreshold=1, baronTakedowns=1, blastConeOppositeOpponentCount=0, bountyGold=450, buffsStolen=1, completeSupportQuestInTime=0, controlWardTimeCoverageInRiverOrEnemyHalf=None, controlWardsPlaced=0, damagePerMinute=727.3599336021088, damageTakenOnTeamPercentage=0.17615155361785384, dancedWithRiftHerald=0, deathsByEnemyChamps=6, dodgeSkillShotsSmallWindow=0, doubleAces=0, dragonTakedowns=1, earliestBaron=1469.567502222925, earliestDragonTakedown=1292.347750635515, earliestElderDragon=None, earlyLaningPhaseGoldExpAdvantage=1.0, effectiveHealAndShielding=0.0, elderDragonKillsWithOpposingSoul=0, elderDragonMultikills=0, enemyChampionImmobilizations=37, enemyJungleMonsterKills=15.60000005364418, epicMonsterKillsNearEnemyJungler=0, epicMonsterKillsWithin30SecondsOfSpawn=0, epicMonsterSteals=0, epicMonsterStolenWithoutSmite=0, fasterSupportQuestCompletion=None, fastestLegendary=None, firstTurretKilledTime=672.5850100150425, flawlessAces=0, fullTeamTakedown=0, gameLength=2194.0620837598926, getTakedownsInAllLanesEarlyJungleAsLaner=0, goldPerMinute=448.8485397880709, hadAfkTeammate=None, hadOpenNexus=0, highestChampionDamage=None, highestCrowdControlScore=None, highestWardKills=1, immobilizeAndKillWithAlly=8, initialBuffCount=0, initialCrabCount=0, jungleCsBefore10Minutes=0.0, junglerKillsEarlyJungle=None, junglerTakedownsNearDamagedEpicMonster=0, kTurretsDestroyedBeforePlatesFall=1, kda=2.1666666666666665, killAfterHiddenWithAlly=4, killParticipation=0.28888888888888886, killedChampTookFullTeamDamageSurvived=0, killingSprees=None, killsNearEnemyTurret=2, killsOnLanersEarlyJungleAsJungler=None, killsOnOtherLanesEarlyJungleAsLaner=0, killsOnRecentlyHealedByAramPack=0, killsUnderOwnTurret=0, killsWithHelpFromEpicMonster=0, knockEnemyIntoTeamAndKill=0, landSkillShotsEarlyGame=6, laneMinionsFirst10Minutes=72, laningPhaseGoldExpAdvantage=0.0, legendaryCount=0, lostAnInhibitor=0, maxCsAdvantageOnLaneOpponent=63.60000002384186, maxKillDeficit=0, maxLevelLeadLaneOpponent=1, mejaisFullStackInTime=None, moreEnemyJungleThanOpponent=0.0, mostWardsDestroyedOneSweeper=None, multiKillOneSpell=0, multiTurretRiftHeraldCount=1, multikills=1, multikillsAfterAggressiveFlash=0, mythicItemUsed=6673, outerTurretExecutesBefore10Minutes=0, outnumberedKills=1, outnumberedNexusKill=0, perfectDragonSoulsTaken=0, perfectGame=0, pickKillWithAlly=10, playedChampSelectPosition=1, poroExplosions=0, quickCleanse=0, quickFirstTurret=0, quickSoloKills=0, riftHeraldTakedowns=0, saveAllyFromDeath=0, scuttleCrabKills=1, shortestTimeToAceFromFirstTakedown=None, skillshotsDodged=9, skillshotsHit=24, snowballsHit=0, soloBaronKills=0, soloKills=1, soloTurretsLategame=1, stealthWardsPlaced=9, survivedSingleDigitHpCount=0, survivedThreeImmobilizesInFight=2, takedownOnFirstTurret=0, takedowns=13, takedownsAfterGainingLevelAdvantage=0, takedownsBeforeJungleMinionSpawn=0, takedownsFirst25Minutes=None, takedownsFirstXMinutes=3, takedownsInAlcove=1, takedownsInEnemyFountain=0, teamBaronKills=1, teamDamagePercentage=0.18505450827051323, teamElderDragonKills=0, teamRiftHeraldKills=4, teleportTakedowns=None, thirdInhibitorDestroyedTime=1844.994577925546, threeWardsOneSweeperCount=0, tookLargeDamageSurvived=1, turretPlatesTaken=5, turretTakedowns=5, turretsTakenWithRiftHerald=15, twentyMinionsIn3SecondsCount=12, unseenRecalls=0, visionScoreAdvantageLaneOpponent=0.8372372388839722, visionScorePerMinute=0.8065585400736814, wardTakedowns=8, wardTakedownsBefore20M=2, wardsGuarded=0), champExperience=18017, champLevel=17, championId=157, championName='Yasuo', championTransform=0, commandPings=6, consumablesPurchased=1, damageDealtToBuildings=5602, damageDealtToObjectives=10574, damageDealtToTurrets=5602, damageSelfMitigated=42579, dangerPings=0, deaths=6, detectorWardsPlaced=0, doubleKills=1, dragonKills=0, eligibleForProgression=True, enemyMissingPings=1, enemyVisionPings=0, firstBloodAssist=False, firstBloodKill=False, firstTowerAssist=False, firstTowerKill=False, gameEndedInEarlySurrender=False, gameEndedInSurrender=False, getBackPings=6, goldEarned=16413, goldSpent=13150, holdPings=0, individualPosition='BOTTOM', inhibitorKills=0, inhibitorTakedowns=3, inhibitorsLost=0, item0=3006, item1=2420, item2=6673, item3=6333, item4=1031, item5=3153, item6=3340, itemsPurchased=23, killingSprees=3, kills=9, lane='BOTTOM', largestCriticalStrike=561, largestKillingSpree=2, largestMultiKill=2, longestTimeSpentLiving=562, magicDamageDealt=11043, magicDamageDealtToChampions=1674, magicDamageTaken=9719, needVisionPings=0, neutralMinionsKilled=19, nexusKills=0, nexusLost=0, nexusTakedowns=1, objectivesStolen=0, objectivesStolenAssists=0, onMyWayPings=15, participantId=4, pentaKills=0, perks=Row(statPerks=Row(defense=5002, flex=5008, offense=5005), styles=[Row(description='primaryStyle', selections=[Row(perk=8008, var1=56, var2=6, var3=0), Row(perk=9111, var1=569, var2=260, var3=0), Row(perk=9104, var1=19, var2=10, var3=0), Row(perk=8299, var1=612, var2=0, var3=0)], style=8000), Row(description='subStyle', selections=[Row(perk=8444, var1=842, var2=0, var3=0), Row(perk=8242, var1=46, var2=0, var3=0)], style=8400)]), physicalDamageDealt=215957, physicalDamageDealtToChampions=24013, physicalDamageTaken=12760, profileIcon=3546, pushPings=0, puuid='RfnjiRXqPFm5FLdZp3FJKzg5U9-_3_jYZSfjPdAYe0X2LbNoa7DaGZGJ7lmpWMlq5f3lWJXWP179bg', quadraKills=0, riotIdName='', riotIdTagline='', role='CARRY', sightWardsBoughtInGame=0, spell1Casts=328, spell2Casts=14, spell3Casts=110, spell4Casts=10, summoner1Casts=5, summoner1Id=14, summoner2Casts=3, summoner2Id=4, summonerId='MPaQVOjEHdwYM0aKvKrODNW8we7o5k4-Ikr6u91ryeor5IZV5KEnxl0ysQ', summonerLevel=111, summonerName='김태훈이', teamEarlySurrendered=False, teamId=100, teamPosition='BOTTOM', timeCCingOthers=37, timePlayed=2193, totalDamageDealt=234022, totalDamageDealtToChampions=26597, totalDamageShieldedOnTeammates=0, totalDamageTaken=27253, totalHeal=4575, totalHealsOnTeammates=0, totalMinionsKilled=253, totalTimeCCDealt=197, totalTimeSpentDead=224, totalUnitsHealed=1, tripleKills=0, trueDamageDealt=7022, trueDamageDealtToChampions=910, trueDamageTaken=4773, turretKills=2, turretTakedowns=5, turretsLost=3, unrealKills=0, visionClearedPings=0, visionScore=29, visionWardsBoughtInGame=0, wardsKilled=8, wardsPlaced=9, win=True), Row(allInPings=0, assistMePings=0, assists=15, baitPings=0, baronKills=0, basicPings=0, bountyLevel=0, challenges=Row(12AssistStreakCount=0, abilityUses=107, acesBefore15Minutes=0, alliedJungleMonsterKills=0.0, baronBuffGoldAdvantageOverThreshold=1, baronTakedowns=1, blastConeOppositeOpponentCount=0, bountyGold=300, buffsStolen=0, completeSupportQuestInTime=0, controlWardTimeCoverageInRiverOrEnemyHalf=0.43598542719777317, controlWardsPlaced=8, damagePerMinute=667.5073905567174, damageTakenOnTeamPercentage=0.1572619620725879, dancedWithRiftHerald=0, deathsByEnemyChamps=7, dodgeSkillShotsSmallWindow=2, doubleAces=0, dragonTakedowns=0, earliestBaron=1469.567502222925, earliestDragonTakedown=None, earliestElderDragon=None, earlyLaningPhaseGoldExpAdvantage=0.0, effectiveHealAndShielding=0.0, elderDragonKillsWithOpposingSoul=0, elderDragonMultikills=0, enemyChampionImmobilizations=12, enemyJungleMonsterKills=0.0, epicMonsterKillsNearEnemyJungler=0, epicMonsterKillsWithin30SecondsOfSpawn=0, epicMonsterSteals=0, epicMonsterStolenWithoutSmite=0, fasterSupportQuestCompletion=None, fastestLegendary=None, firstTurretKilledTime=672.5850100150425, flawlessAces=0, fullTeamTakedown=0, gameLength=2194.0620837598926, getTakedownsInAllLanesEarlyJungleAsLaner=0, goldPerMinute=308.33337995873825, hadAfkTeammate=None, hadOpenNexus=0, highestChampionDamage=None, highestCrowdControlScore=None, highestWardKills=None, immobilizeAndKillWithAlly=11, initialBuffCount=0, initialCrabCount=0, jungleCsBefore10Minutes=0.0, junglerKillsEarlyJungle=None, junglerTakedownsNearDamagedEpicMonster=0, kTurretsDestroyedBeforePlatesFall=1, kda=2.5, killAfterHiddenWithAlly=4, killParticipation=0.4444444444444444, killedChampTookFullTeamDamageSurvived=0, killingSprees=None, killsNearEnemyTurret=2, killsOnLanersEarlyJungleAsJungler=None, killsOnOtherLanesEarlyJungleAsLaner=0, killsOnRecentlyHealedByAramPack=0, killsUnderOwnTurret=0, killsWithHelpFromEpicMonster=0, knockEnemyIntoTeamAndKill=0, landSkillShotsEarlyGame=7, laneMinionsFirst10Minutes=1, laningPhaseGoldExpAdvantage=0.0, legendaryCount=0, lostAnInhibitor=0, maxCsAdvantageOnLaneOpponent=0.0, maxKillDeficit=0, maxLevelLeadLaneOpponent=2, mejaisFullStackInTime=None, moreEnemyJungleThanOpponent=0.0, mostWardsDestroyedOneSweeper=None, multiKillOneSpell=0, multiTurretRiftHeraldCount=1, multikills=0, multikillsAfterAggressiveFlash=0, mythicItemUsed=6655, outerTurretExecutesBefore10Minutes=0, outnumberedKills=1, outnumberedNexusKill=0, perfectDragonSoulsTaken=0, perfectGame=0, pickKillWithAlly=16, playedChampSelectPosition=1, poroExplosions=0, quickCleanse=0, quickFirstTurret=0, quickSoloKills=0, riftHeraldTakedowns=0, saveAllyFromDeath=0, scuttleCrabKills=1, shortestTimeToAceFromFirstTakedown=None, skillshotsDodged=11, skillshotsHit=36, snowballsHit=0, soloBaronKills=0, soloKills=1, soloTurretsLategame=None, stealthWardsPlaced=29, survivedSingleDigitHpCount=0, survivedThreeImmobilizesInFight=2, takedownOnFirstTurret=0, takedowns=20, takedownsAfterGainingLevelAdvantage=0, takedownsBeforeJungleMinionSpawn=0, takedownsFirst25Minutes=None, takedownsFirstXMinutes=4, takedownsInAlcove=0, takedownsInEnemyFountain=0, teamBaronKills=1, teamDamagePercentage=0.1698268576805873, teamElderDragonKills=0, teamRiftHeraldKills=4, teleportTakedowns=None, thirdInhibitorDestroyedTime=1844.994577925546, threeWardsOneSweeperCount=0, tookLargeDamageSurvived=0, turretPlatesTaken=3, turretTakedowns=2, turretsTakenWithRiftHerald=15, twentyMinionsIn3SecondsCount=0, unseenRecalls=0, visionScoreAdvantageLaneOpponent=0.4447777271270752, visionScorePerMinute=2.015420291706278, wardTakedowns=4, wardTakedownsBefore20M=2, wardsGuarded=1), champExperience=14825, champLevel=16, championId=54, championName='Malphite', championTransform=0, commandPings=1, consumablesPurchased=12, damageDealtToBuildings=947, damageDealtToObjectives=1440, damageDealtToTurrets=947, damageSelfMitigated=20986, dangerPings=0, deaths=8, detectorWardsPlaced=10, doubleKills=0, dragonKills=0, eligibleForProgression=True, enemyMissingPings=0, enemyVisionPings=0, firstBloodAssist=False, firstBloodKill=False, firstTowerAssist=False, firstTowerKill=False, gameEndedInEarlySurrender=False, gameEndedInSurrender=False, getBackPings=0, goldEarned=11275, goldSpent=10300, holdPings=0, individualPosition='UTILITY', inhibitorKills=1, inhibitorTakedowns=2, inhibitorsLost=0, item0=3853, item1=4645, item2=0, item3=4630, item4=6655, item5=3020, item6=3364, itemsPurchased=28, killingSprees=1, kills=5, lane='BOTTOM', largestCriticalStrike=0, largestKillingSpree=2, largestMultiKill=1, longestTimeSpentLiving=570, magicDamageDealt=24965, magicDamageDealtToChampions=20166, magicDamageTaken=11246, needVisionPings=0, neutralMinionsKilled=4, nexusKills=0, nexusLost=0, nexusTakedowns=1, objectivesStolen=0, objectivesStolenAssists=0, onMyWayPings=4, participantId=5, pentaKills=0, perks=Row(statPerks=Row(defense=5003, flex=5008, offense=5008), styles=[Row(description='primaryStyle', selections=[Row(perk=8229, var1=1803, var2=0, var3=0), Row(perk=8226, var1=250, var2=227, var3=0), Row(perk=8233, var1=24, var2=20, var3=0), Row(perk=8237, var1=551, var2=0, var3=0)], style=8200), Row(description='subStyle', selections=[Row(perk=8126, var1=531, var2=0, var3=0), Row(perk=8106, var1=5, var2=0, var3=0)], style=8100)]), physicalDamageDealt=7792, physicalDamageDealtToChampions=2701, physicalDamageTaken=10746, profileIcon=4027, pushPings=0, puuid='8LXGT1W7exPNLWSDwDb-9xfapf0eZifwXmg2T75cujyyr8nHSdemXcDrwU1LhwJw5wa_P8yDfjBM7g', quadraKills=0, riotIdName='', riotIdTagline='', role='SUPPORT', sightWardsBoughtInGame=0, spell1Casts=51, spell2Casts=22, spell3Casts=22, spell4Casts=12, summoner1Casts=7, summoner1Id=14, summoner2Casts=5, summoner2Id=4, summonerId='PsttxrybrdBuQWlyN8TeeK5Tc2kZW-yQfGmCM0cKL9A38iI', summonerLevel=184, summonerName='박치기 공룡 현뗘', teamEarlySurrendered=False, teamId=100, teamPosition='UTILITY', timeCCingOthers=33, timePlayed=2193, totalDamageDealt=34299, totalDamageDealtToChampions=24409, totalDamageShieldedOnTeammates=0, totalDamageTaken=24331, totalHeal=4478, totalHealsOnTeammates=0, totalMinionsKilled=8, totalTimeCCDealt=225, totalTimeSpentDead=283, totalUnitsHealed=1, tripleKills=0, trueDamageDealt=1541, trueDamageDealtToChampions=1541, trueDamageTaken=2338, turretKills=0, turretTakedowns=2, turretsLost=3, unrealKills=0, visionClearedPings=0, visionScore=73, visionWardsBoughtInGame=10, wardsKilled=4, wardsPlaced=40, win=True), Row(allInPings=0, assistMePings=7, assists=16, baitPings=0, baronKills=0, basicPings=0, bountyLevel=0, challenges=Row(12AssistStreakCount=0, abilityUses=288, acesBefore15Minutes=0, alliedJungleMonsterKills=3.0, baronBuffGoldAdvantageOverThreshold=1, baronTakedowns=0, blastConeOppositeOpponentCount=0, bountyGold=0, buffsStolen=0, completeSupportQuestInTime=0, controlWardTimeCoverageInRiverOrEnemyHalf=None, controlWardsPlaced=0, damagePerMinute=790.4311426903945, damageTakenOnTeamPercentage=0.26907578642809044, dancedWithRiftHerald=0, deathsByEnemyChamps=3, dodgeSkillShotsSmallWindow=5, doubleAces=0, dragonTakedowns=0, earliestBaron=1909.0562043654104, earliestDragonTakedown=None, earliestElderDragon=None, earlyLaningPhaseGoldExpAdvantage=0.0, effectiveHealAndShielding=0.0, elderDragonKillsWithOpposingSoul=0, elderDragonMultikills=0, enemyChampionImmobilizations=89, enemyJungleMonsterKills=0.0, epicMonsterKillsNearEnemyJungler=0, epicMonsterKillsWithin30SecondsOfSpawn=0, epicMonsterSteals=0, epicMonsterStolenWithoutSmite=0, fasterSupportQuestCompletion=None, fastestLegendary=None, firstTurretKilledTime=None, flawlessAces=0, fullTeamTakedown=0, gameLength=2194.0620837598926, getTakedownsInAllLanesEarlyJungleAsLaner=0, goldPerMinute=379.76079879352824, hadAfkTeammate=None, hadOpenNexus=0, highestChampionDamage=None, highestCrowdControlScore=1, highestWardKills=None, immobilizeAndKillWithAlly=13, initialBuffCount=0, initialCrabCount=0, jungleCsBefore10Minutes=0.0, junglerKillsEarlyJungle=None, junglerTakedownsNearDamagedEpicMonster=0, kTurretsDestroyedBeforePlatesFall=0, kda=6.333333333333333, killAfterHiddenWithAlly=0, killParticipation=0.5428571428571428, killedChampTookFullTeamDamageSurvived=0, killingSprees=None, killsNearEnemyTurret=0, killsOnLanersEarlyJungleAsJungler=None, killsOnOtherLanesEarlyJungleAsLaner=0, killsOnRecentlyHealedByAramPack=0, killsUnderOwnTurret=1, killsWithHelpFromEpicMonster=0, knockEnemyIntoTeamAndKill=7, landSkillShotsEarlyGame=13, laneMinionsFirst10Minutes=42, laningPhaseGoldExpAdvantage=0.0, legendaryCount=0, lostAnInhibitor=0, maxCsAdvantageOnLaneOpponent=21.349999964237213, maxKillDeficit=0, maxLevelLeadLaneOpponent=2, mejaisFullStackInTime=None, moreEnemyJungleThanOpponent=0.0, mostWardsDestroyedOneSweeper=None, multiKillOneSpell=0, multiTurretRiftHeraldCount=0, multikills=0, multikillsAfterAggressiveFlash=0, mythicItemUsed=7025, outerTurretExecutesBefore10Minutes=0, outnumberedKills=0, outnumberedNexusKill=0, perfectDragonSoulsTaken=0, perfectGame=0, pickKillWithAlly=13, playedChampSelectPosition=1, poroExplosions=0, quickCleanse=0, quickFirstTurret=0, quickSoloKills=0, riftHeraldTakedowns=0, saveAllyFromDeath=0, scuttleCrabKills=0, shortestTimeToAceFromFirstTakedown=20.742432265885782, skillshotsDodged=26, skillshotsHit=61, snowballsHit=0, soloBaronKills=0, soloKills=1, soloTurretsLategame=1, stealthWardsPlaced=13, survivedSingleDigitHpCount=0, survivedThreeImmobilizesInFight=14, takedownOnFirstTurret=0, takedowns=19, takedownsAfterGainingLevelAdvantage=0, takedownsBeforeJungleMinionSpawn=0, takedownsFirst25Minutes=None, takedownsFirstXMinutes=1, takedownsInAlcove=0, takedownsInEnemyFountain=0, teamBaronKills=1, teamDamagePercentage=0.25873338934716034, teamElderDragonKills=0, teamRiftHeraldKills=0, teleportTakedowns=None, thirdInhibitorDestroyedTime=None, threeWardsOneSweeperCount=0, tookLargeDamageSurvived=0, turretPlatesTaken=1, turretTakedowns=1, turretsTakenWithRiftHerald=0, twentyMinionsIn3SecondsCount=10, unseenRecalls=0, visionScoreAdvantageLaneOpponent=0.04739344120025635, visionScorePerMinute=0.6601307823705034, wardTakedowns=3, wardTakedownsBefore20M=0, wardsGuarded=1), champExperience=20773, champLevel=18, championId=516, championName='Ornn', championTransform=0, commandPings=2, consumablesPurchased=1, damageDealtToBuildings=3211, damageDealtToObjectives=4374, damageDealtToTurrets=3211, damageSelfMitigated=59988, dangerPings=0, deaths=3, detectorWardsPlaced=0, doubleKills=0, dragonKills=0, eligibleForProgression=True, enemyMissingPings=4, enemyVisionPings=1, firstBloodAssist=False, firstBloodKill=False, firstTowerAssist=False, firstTowerKill=False, gameEndedInEarlySurrender=False, gameEndedInSurrender=False, getBackPings=1, goldEarned=13886, goldSpent=13600, holdPings=0, individualPosition='TOP', inhibitorKills=0, inhibitorTakedowns=0, inhibitorsLost=6, item0=3068, item1=7025, item2=4401, item3=3047, item4=3075, item5=1029, item6=3340, itemsPurchased=26, killingSprees=1, kills=3, lane='TOP', largestCriticalStrike=21, largestKillingSpree=2, largestMultiKill=1, longestTimeSpentLiving=964, magicDamageDealt=99240, magicDamageDealtToChampions=18656, magicDamageTaken=18449, needVisionPings=0, neutralMinionsKilled=4, nexusKills=0, nexusLost=1, nexusTakedowns=0, objectivesStolen=0, objectivesStolenAssists=0, onMyWayPings=4, participantId=6, pentaKills=0, perks=Row(statPerks=Row(defense=5002, flex=5002, offense=5007), styles=[Row(description='primaryStyle', selections=[Row(perk=8437, var1=2305, var2=1818, var3=0), Row(perk=8446, var1=2082, var2=0, var3=0), Row(perk=8473, var1=968, var2=0, var3=0), Row(perk=8451, var1=383, var2=0, var3=0)], style=8400), Row(description='subStyle', selections=[Row(perk=8345, var1=3, var2=0, var3=0), Row(perk=8347, var1=0, var2=0, var3=0)], style=8300)]), physicalDamageDealt=75991, physicalDamageDealtToChampions=9247, physicalDamageTaken=26210, profileIcon=5528, pushPings=0, puuid='C24BXIqtUkzsy5zt5sAR5FK9cDqrKZuO1UxuX67T2_8XeF0iM8msjGCRXOO1FO_KYWQld-URnjEnLQ', quadraKills=0, riotIdName='', riotIdTagline='', role='SOLO', sightWardsBoughtInGame=0, spell1Casts=117, spell2Casts=82, spell3Casts=66, spell4Casts=23, summoner1Casts=2, summoner1Id=12, summoner2Casts=4, summoner2Id=4, summonerId='E9MRK64K0afGMp7X6Eoyjc6T49jvratSgHKJy9RNkPWMvAk', summonerLevel=164, summonerName='독빡poisonous', teamEarlySurrendered=False, teamId=200, teamPosition='TOP', timeCCingOthers=59, timePlayed=2193, totalDamageDealt=180516, totalDamageDealtToChampions=28904, totalDamageShieldedOnTeammates=0, totalDamageTaken=45548, totalHeal=3950, totalHealsOnTeammates=0, totalMinionsKilled=213, totalTimeCCDealt=698, totalTimeSpentDead=59, totalUnitsHealed=1, tripleKills=0, trueDamageDealt=5284, trueDamageDealtToChampions=999, trueDamageTaken=888, turretKills=1, turretTakedowns=1, turretsLost=11, unrealKills=0, visionClearedPings=0, visionScore=24, visionWardsBoughtInGame=0, wardsKilled=3, wardsPlaced=13, win=False), Row(allInPings=0, assistMePings=0, assists=12, baitPings=0, baronKills=1, basicPings=0, bountyLevel=0, challenges=Row(12AssistStreakCount=0, abilityUses=326, acesBefore15Minutes=0, alliedJungleMonsterKills=86.00000008940697, baronBuffGoldAdvantageOverThreshold=1, baronTakedowns=1, blastConeOppositeOpponentCount=0, bountyGold=825, buffsStolen=0, completeSupportQuestInTime=0, controlWardTimeCoverageInRiverOrEnemyHalf=0.09807239405827757, controlWardsPlaced=5, damagePerMinute=885.9608752416806, damageTakenOnTeamPercentage=0.2558598425141977, dancedWithRiftHerald=0, deathsByEnemyChamps=10, dodgeSkillShotsSmallWindow=8, doubleAces=0, dragonTakedowns=1, earliestBaron=1909.0562043654104, earliestDragonTakedown=638.2565044555439, earliestElderDragon=None, earlyLaningPhaseGoldExpAdvantage=0.0, effectiveHealAndShielding=0.0, elderDragonKillsWithOpposingSoul=0, elderDragonMultikills=0, enemyChampionImmobilizations=12, enemyJungleMonsterKills=0.0, epicMonsterKillsNearEnemyJungler=0, epicMonsterKillsWithin30SecondsOfSpawn=0, epicMonsterSteals=0, epicMonsterStolenWithoutSmite=0, fasterSupportQuestCompletion=None, fastestLegendary=None, firstTurretKilledTime=None, flawlessAces=0, fullTeamTakedown=0, gameLength=2194.0620837598926, getTakedownsInAllLanesEarlyJungleAsLaner=None, goldPerMinute=450.8164756406885, hadAfkTeammate=None, hadOpenNexus=0, highestChampionDamage=None, highestCrowdControlScore=None, highestWardKills=None, immobilizeAndKillWithAlly=8, initialBuffCount=2, initialCrabCount=1, jungleCsBefore10Minutes=48.000000059604645, junglerKillsEarlyJungle=0, junglerTakedownsNearDamagedEpicMonster=0, kTurretsDestroyedBeforePlatesFall=0, kda=2.4, killAfterHiddenWithAlly=1, killParticipation=0.6857142857142857, killedChampTookFullTeamDamageSurvived=0, killingSprees=3, killsNearEnemyTurret=0, killsOnLanersEarlyJungleAsJungler=3, killsOnOtherLanesEarlyJungleAsLaner=None, killsOnRecentlyHealedByAramPack=0, killsUnderOwnTurret=0, killsWithHelpFromEpicMonster=0, knockEnemyIntoTeamAndKill=0, landSkillShotsEarlyGame=1, laneMinionsFirst10Minutes=2, laningPhaseGoldExpAdvantage=0.0, legendaryCount=0, lostAnInhibitor=0, maxCsAdvantageOnLaneOpponent=2.0, maxKillDeficit=0, maxLevelLeadLaneOpponent=0, mejaisFullStackInTime=None, moreEnemyJungleThanOpponent=-63.50000008940697, mostWardsDestroyedOneSweeper=None, multiKillOneSpell=0, multiTurretRiftHeraldCount=0, multikills=4, multikillsAfterAggressiveFlash=1, mythicItemUsed=7012, outerTurretExecutesBefore10Minutes=0, outnumberedKills=0, outnumberedNexusKill=0, perfectDragonSoulsTaken=0, perfectGame=0, pickKillWithAlly=18, playedChampSelectPosition=1, poroExplosions=0, quickCleanse=0, quickFirstTurret=0, quickSoloKills=0, riftHeraldTakedowns=0, saveAllyFromDeath=0, scuttleCrabKills=2, shortestTimeToAceFromFirstTakedown=20.742432265885782, skillshotsDodged=44, skillshotsHit=17, snowballsHit=0, soloBaronKills=0, soloKills=2, soloTurretsLategame=None, stealthWardsPlaced=3, survivedSingleDigitHpCount=0, survivedThreeImmobilizesInFight=1, takedownOnFirstTurret=0, takedowns=24, takedownsAfterGainingLevelAdvantage=0, takedownsBeforeJungleMinionSpawn=0, takedownsFirst25Minutes=None, takedownsFirstXMinutes=6, takedownsInAlcove=1, takedownsInEnemyFountain=0, teamBaronKills=1, teamDamagePercentage=0.2900033256534318, teamElderDragonKills=0, teamRiftHeraldKills=0, teleportTakedowns=None, thirdInhibitorDestroyedTime=None, threeWardsOneSweeperCount=0, tookLargeDamageSurvived=0, turretPlatesTaken=0, turretTakedowns=0, turretsTakenWithRiftHerald=0, twentyMinionsIn3SecondsCount=2, unseenRecalls=0, visionScoreAdvantageLaneOpponent=0.16496145725250244, visionScorePerMinute=1.0838105769532658, wardTakedowns=6, wardTakedownsBefore20M=4, wardsGuarded=0), champExperience=17312, champLevel=17, championId=876, championName='Lillia', championTransform=0, commandPings=3, consumablesPurchased=7, damageDealtToBuildings=0, damageDealtToObjectives=17644, damageDealtToTurrets=0, damageSelfMitigated=26869, dangerPings=0, deaths=10, detectorWardsPlaced=5, doubleKills=3, dragonKills=0, eligibleForProgression=True, enemyMissingPings=0, enemyVisionPings=0, firstBloodAssist=False, firstBloodKill=False, firstTowerAssist=False, firstTowerKill=False, gameEndedInEarlySurrender=False, gameEndedInSurrender=False, getBackPings=1, goldEarned=16485, goldSpent=17310, holdPings=0, individualPosition='JUNGLE', inhibitorKills=0, inhibitorTakedowns=0, inhibitorsLost=6, item0=3158, item1=3157, item2=3105, item3=4401, item4=4637, item5=7012, item6=3364, itemsPurchased=30, killingSprees=3, kills=12, lane='JUNGLE', largestCriticalStrike=0, largestKillingSpree=4, largestMultiKill=3, longestTimeSpentLiving=680, magicDamageDealt=126450, magicDamageDealtToChampions=24320, magicDamageTaken=26412, needVisionPings=0, neutralMinionsKilled=104, nexusKills=0, nexusLost=1, nexusTakedowns=0, objectivesStolen=0, objectivesStolenAssists=0, onMyWayPings=10, participantId=7, pentaKills=0, perks=Row(statPerks=Row(defense=5002, flex=5008, offense=5005), styles=[Row(description='primaryStyle', selections=[Row(perk=8128, var1=1383, var2=19, var3=0), Row(perk=8126, var1=1010, var2=0, var3=0), Row(perk=8138, var1=30, var2=0, var3=0), Row(perk=8135, var1=550, var2=5, var3=0)], style=8100), Row(description='subStyle', selections=[Row(perk=8234, var1=18269, var2=0, var3=0), Row(perk=8232, var1=5, var2=20, var3=0)], style=8200)]), physicalDamageDealt=14999, physicalDamageDealtToChampions=454, physicalDamageTaken=14733, profileIcon=4982, pushPings=0, puuid='aj0EfMGgqQ2Qr2aLdFWByT2fF72AR-ExPrvAx-k5UgoO09BBqv7c1f6f-vyMKPv5gmw2uJDZYuz53g', quadraKills=0, riotIdName='', riotIdTagline='', role='NONE', sightWardsBoughtInGame=0, spell1Casts=155, spell2Casts=77, spell3Casts=83, spell4Casts=11, summoner1Casts=20, summoner1Id=11, summoner2Casts=5, summoner2Id=4, summonerId='6uuwc4uCHZ5RwEp1QSlgXCtGhT6QM-SvdYu-tcQbBqlZ8Hht', summonerLevel=96, summonerName='Raymond Cardenas', teamEarlySurrendered=False, teamId=200, teamPosition='JUNGLE', timeCCingOthers=33, timePlayed=2193, totalDamageDealt=202183, totalDamageDealtToChampions=32397, totalDamageShieldedOnTeammates=0, totalDamageTaken=43311, totalHeal=8411, totalHealsOnTeammates=0, totalMinionsKilled=67, totalTimeCCDealt=293, totalTimeSpentDead=360, totalUnitsHealed=1, tripleKills=1, trueDamageDealt=60734, trueDamageDealtToChampions=7622, trueDamageTaken=2164, turretKills=0, turretTakedowns=0, turretsLost=11, unrealKills=0, visionClearedPings=0, visionScore=39, visionWardsBoughtInGame=5, wardsKilled=6, wardsPlaced=8, win=False), Row(allInPings=0, assistMePings=2, assists=10, baitPings=0, baronKills=0, basicPings=0, bountyLevel=0, challenges=Row(12AssistStreakCount=0, abilityUses=418, acesBefore15Minutes=0, alliedJungleMonsterKills=22.500000089406967, baronBuffGoldAdvantageOverThreshold=1, baronTakedowns=0, blastConeOppositeOpponentCount=0, bountyGold=0, buffsStolen=0, completeSupportQuestInTime=0, controlWardTimeCoverageInRiverOrEnemyHalf=None, controlWardsPlaced=0, damagePerMinute=414.19070313187643, damageTakenOnTeamPercentage=0.20736732902379945, dancedWithRiftHerald=0, deathsByEnemyChamps=13, dodgeSkillShotsSmallWindow=5, doubleAces=0, dragonTakedowns=0, earliestBaron=1909.0562043654104, earliestDragonTakedown=None, earliestElderDragon=None, earlyLaningPhaseGoldExpAdvantage=0.0, effectiveHealAndShielding=0.0, elderDragonKillsWithOpposingSoul=0, elderDragonMultikills=0, enemyChampionImmobilizations=41, enemyJungleMonsterKills=0.0, epicMonsterKillsNearEnemyJungler=0, epicMonsterKillsWithin30SecondsOfSpawn=0, epicMonsterSteals=0, epicMonsterStolenWithoutSmite=0, fasterSupportQuestCompletion=None, fastestLegendary=None, firstTurretKilledTime=None, flawlessAces=0, fullTeamTakedown=0, gameLength=2194.0620837598926, getTakedownsInAllLanesEarlyJungleAsLaner=0, goldPerMinute=356.7634026773335, hadAfkTeammate=None, hadOpenNexus=0, highestChampionDamage=None, highestCrowdControlScore=None, highestWardKills=None, immobilizeAndKillWithAlly=6, initialBuffCount=0, initialCrabCount=0, jungleCsBefore10Minutes=0.0, junglerKillsEarlyJungle=None, junglerTakedownsNearDamagedEpicMonster=0, kTurretsDestroyedBeforePlatesFall=0, kda=1.3076923076923077, killAfterHiddenWithAlly=0, killParticipation=0.4857142857142857, killedChampTookFullTeamDamageSurvived=0, killingSprees=1, killsNearEnemyTurret=0, killsOnLanersEarlyJungleAsJungler=None, killsOnOtherLanesEarlyJungleAsLaner=0, killsOnRecentlyHealedByAramPack=0, killsUnderOwnTurret=2, killsWithHelpFromEpicMonster=0, knockEnemyIntoTeamAndKill=0, landSkillShotsEarlyGame=3, laneMinionsFirst10Minutes=42, laningPhaseGoldExpAdvantage=0.0, legendaryCount=0, lostAnInhibitor=0, maxCsAdvantageOnLaneOpponent=32.00000008940697, maxKillDeficit=0, maxLevelLeadLaneOpponent=1, mejaisFullStackInTime=None, moreEnemyJungleThanOpponent=0.0, mostWardsDestroyedOneSweeper=None, multiKillOneSpell=0, multiTurretRiftHeraldCount=0, multikills=1, multikillsAfterAggressiveFlash=0, mythicItemUsed=7008, outerTurretExecutesBefore10Minutes=0, outnumberedKills=1, outnumberedNexusKill=0, perfectDragonSoulsTaken=0, perfectGame=0, pickKillWithAlly=11, playedChampSelectPosition=1, poroExplosions=0, quickCleanse=0, quickFirstTurret=0, quickSoloKills=0, riftHeraldTakedowns=0, saveAllyFromDeath=0, scuttleCrabKills=0, shortestTimeToAceFromFirstTakedown=20.742432265885782, skillshotsDodged=27, skillshotsHit=10, snowballsHit=0, soloBaronKills=0, soloKills=1, soloTurretsLategame=None, stealthWardsPlaced=9, survivedSingleDigitHpCount=1, survivedThreeImmobilizesInFight=0, takedownOnFirstTurret=0, takedowns=17, takedownsAfterGainingLevelAdvantage=1, takedownsBeforeJungleMinionSpawn=0, takedownsFirst25Minutes=None, takedownsFirstXMinutes=3, takedownsInAlcove=0, takedownsInEnemyFountain=0, teamBaronKills=1, teamDamagePercentage=0.1355778620926245, teamElderDragonKills=0, teamRiftHeraldKills=0, teleportTakedowns=None, thirdInhibitorDestroyedTime=None, threeWardsOneSweeperCount=0, tookLargeDamageSurvived=0, turretPlatesTaken=0, turretTakedowns=0, turretsTakenWithRiftHerald=0, twentyMinionsIn3SecondsCount=7, unseenRecalls=0, visionScoreAdvantageLaneOpponent=0.35105621814727783, visionScorePerMinute=0.5173363427593123, wardTakedowns=3, wardTakedownsBefore20M=1, wardsGuarded=0), champExperience=17876, champLevel=17, championId=777, championName='Yone', championTransform=0, commandPings=6, consumablesPurchased=1, damageDealtToBuildings=0, damageDealtToObjectives=1559, damageDealtToTurrets=0, damageSelfMitigated=35652, dangerPings=0, deaths=13, detectorWardsPlaced=0, doubleKills=1, dragonKills=0, eligibleForProgression=True, enemyMissingPings=0, enemyVisionPings=0, firstBloodAssist=False, firstBloodKill=False, firstTowerAssist=False, firstTowerKill=False, gameEndedInEarlySurrender=False, gameEndedInSurrender=False, getBackPings=0, goldEarned=13046, goldSpent=12860, holdPings=1, individualPosition='MIDDLE', inhibitorKills=0, inhibitorTakedowns=0, inhibitorsLost=6, item0=3006, item1=3031, item2=7008, item3=3153, item4=3133, item5=1029, item6=3340, itemsPurchased=26, killingSprees=2, kills=7, lane='MIDDLE', largestCriticalStrike=663, largestKillingSpree=3, largestMultiKill=2, longestTimeSpentLiving=469, magicDamageDealt=26304, magicDamageDealtToChampions=3934, magicDamageTaken=18567, needVisionPings=0, neutralMinionsKilled=24, nexusKills=0, nexusLost=1, nexusTakedowns=0, objectivesStolen=0, objectivesStolenAssists=0, onMyWayPings=0, participantId=8, pentaKills=0, perks=Row(statPerks=Row(defense=5003, flex=5003, offense=5005), styles=[Row(description='primaryStyle', selections=[Row(perk=8008, var1=16, var2=2, var3=0), Row(perk=9111, var1=642, var2=340, var3=0), Row(perk=9104, var1=21, var2=50, var3=0), Row(perk=8014, var1=381, var2=0, var3=0)], style=8000), Row(description='subStyle', selections=[Row(perk=8473, var1=1540, var2=0, var3=0), Row(perk=8453, var1=799, var2=1047, var3=0)], style=8400)]), physicalDamageDealt=136554, physicalDamageDealtToChampions=8990, physicalDamageTaken=15096, profileIcon=3500, pushPings=1, puuid='7TXDuKnRHj7NxF0QJ2XyuVFjpEc1hJhW9EZf-eLVVt6uaZZNJMnuFhshc5BbSlVziukF1oSxOuf1CA', quadraKills=0, riotIdName='', riotIdTagline='', role='SOLO', sightWardsBoughtInGame=0, spell1Casts=274, spell2Casts=79, spell3Casts=55, spell4Casts=10, summoner1Casts=4, summoner1Id=14, summoner2Casts=5, summoner2Id=4, summonerId='jsI2SfQcbIAX_TCe7OqJGXJUmxteln-C-g1WPNSl60Mstg', summonerLevel=474, summonerName='똘추황소', teamEarlySurrendered=False, teamId=200, teamPosition='MIDDLE', timeCCingOthers=22, timePlayed=2193, totalDamageDealt=167684, totalDamageDealtToChampions=15146, totalDamageShieldedOnTeammates=0, totalDamageTaken=35102, totalHeal=1495, totalHealsOnTeammates=0, totalMinionsKilled=153, totalTimeCCDealt=137, totalTimeSpentDead=425, totalUnitsHealed=1, tripleKills=0, trueDamageDealt=4825, trueDamageDealtToChampions=2220, trueDamageTaken=1438, turretKills=0, turretTakedowns=0, turretsLost=11, unrealKills=0, visionClearedPings=0, visionScore=18, visionWardsBoughtInGame=0, wardsKilled=3, wardsPlaced=9, win=False), Row(allInPings=0, assistMePings=9, assists=6, baitPings=1, baronKills=0, basicPings=0, bountyLevel=0, challenges=Row(12AssistStreakCount=0, abilityUses=314, acesBefore15Minutes=0, alliedJungleMonsterKills=0.0, baronBuffGoldAdvantageOverThreshold=1, baronTakedowns=1, blastConeOppositeOpponentCount=0, bountyGold=650, buffsStolen=0, completeSupportQuestInTime=0, controlWardTimeCoverageInRiverOrEnemyHalf=None, controlWardsPlaced=0, damagePerMinute=597.212583032083, damageTakenOnTeamPercentage=0.14829696522316413, dancedWithRiftHerald=0, deathsByEnemyChamps=8, dodgeSkillShotsSmallWindow=2, doubleAces=0, dragonTakedowns=0, earliestBaron=1909.0562043654104, earliestDragonTakedown=None, earliestElderDragon=None, earlyLaningPhaseGoldExpAdvantage=0.0, effectiveHealAndShielding=258.0, elderDragonKillsWithOpposingSoul=0, elderDragonMultikills=0, enemyChampionImmobilizations=0, enemyJungleMonsterKills=0.0, epicMonsterKillsNearEnemyJungler=0, epicMonsterKillsWithin30SecondsOfSpawn=0, epicMonsterSteals=0, epicMonsterStolenWithoutSmite=0, fasterSupportQuestCompletion=None, fastestLegendary=None, firstTurretKilledTime=None, flawlessAces=0, fullTeamTakedown=0, gameLength=2194.0620837598926, getTakedownsInAllLanesEarlyJungleAsLaner=0, goldPerMinute=454.89415409551526, hadAfkTeammate=None, hadOpenNexus=0, highestChampionDamage=None, highestCrowdControlScore=None, highestWardKills=None, immobilizeAndKillWithAlly=0, initialBuffCount=0, initialCrabCount=0, jungleCsBefore10Minutes=0.0, junglerKillsEarlyJungle=None, junglerTakedownsNearDamagedEpicMonster=0, kTurretsDestroyedBeforePlatesFall=0, kda=2.25, killAfterHiddenWithAlly=0, killParticipation=0.5142857142857142, killedChampTookFullTeamDamageSurvived=0, killingSprees=1, killsNearEnemyTurret=1, killsOnLanersEarlyJungleAsJungler=None, killsOnOtherLanesEarlyJungleAsLaner=0, killsOnRecentlyHealedByAramPack=0, killsUnderOwnTurret=6, killsWithHelpFromEpicMonster=0, knockEnemyIntoTeamAndKill=0, landSkillShotsEarlyGame=0, laneMinionsFirst10Minutes=48, laningPhaseGoldExpAdvantage=0.0, legendaryCount=0, lostAnInhibitor=0, maxCsAdvantageOnLaneOpponent=0.0, maxKillDeficit=0, maxLevelLeadLaneOpponent=2, mejaisFullStackInTime=None, moreEnemyJungleThanOpponent=0.0, mostWardsDestroyedOneSweeper=None, multiKillOneSpell=0, multiTurretRiftHeraldCount=0, multikills=4, multikillsAfterAggressiveFlash=0, mythicItemUsed=7007, outerTurretExecutesBefore10Minutes=0, outnumberedKills=1, outnumberedNexusKill=0, perfectDragonSoulsTaken=0, perfectGame=0, pickKillWithAlly=14, playedChampSelectPosition=1, poroExplosions=0, quickCleanse=0, quickFirstTurret=0, quickSoloKills=0, riftHeraldTakedowns=0, saveAllyFromDeath=0, scuttleCrabKills=0, shortestTimeToAceFromFirstTakedown=None, skillshotsDodged=12, skillshotsHit=0, snowballsHit=0, soloBaronKills=0, soloKills=0, soloTurretsLategame=None, stealthWardsPlaced=11, survivedSingleDigitHpCount=0, survivedThreeImmobilizesInFight=0, takedownOnFirstTurret=0, takedowns=18, takedownsAfterGainingLevelAdvantage=0, takedownsBeforeJungleMinionSpawn=0, takedownsFirst25Minutes=None, takedownsFirstXMinutes=4, takedownsInAlcove=0, takedownsInEnemyFountain=0, teamBaronKills=1, teamDamagePercentage=0.19548677604316894, teamElderDragonKills=0, teamRiftHeraldKills=0, teleportTakedowns=None, thirdInhibitorDestroyedTime=None, threeWardsOneSweeperCount=0, tookLargeDamageSurvived=0, turretPlatesTaken=2, turretTakedowns=2, turretsTakenWithRiftHerald=0, twentyMinionsIn3SecondsCount=10, unseenRecalls=0, visionScoreAdvantageLaneOpponent=-0.4557044506072998, visionScorePerMinute=0.43900620248297806, wardTakedowns=0, wardTakedownsBefore20M=0, wardsGuarded=0), champExperience=18829, champLevel=18, championId=21, championName='MissFortune', championTransform=0, commandPings=7, consumablesPurchased=2, damageDealtToBuildings=7200, damageDealtToObjectives=11746, damageDealtToTurrets=7200, damageSelfMitigated=12618, dangerPings=0, deaths=8, detectorWardsPlaced=0, doubleKills=3, dragonKills=0, eligibleForProgression=True, enemyMissingPings=3, enemyVisionPings=0, firstBloodAssist=False, firstBloodKill=False, firstTowerAssist=False, firstTowerKill=False, gameEndedInEarlySurrender=False, gameEndedInSurrender=False, getBackPings=0, goldEarned=16634, goldSpent=14700, holdPings=0, individualPosition='BOTTOM', inhibitorKills=0, inhibitorTakedowns=0, inhibitorsLost=6, item0=6694, item1=3042, item2=2420, item3=3006, item4=3074, item5=7007, item6=3340, itemsPurchased=25, killingSprees=4, kills=12, lane='BOTTOM', largestCriticalStrike=938, largestKillingSpree=5, largestMultiKill=3, longestTimeSpentLiving=483, magicDamageDealt=17359, magicDamageDealtToChampions=1285, magicDamageTaken=11278, needVisionPings=0, neutralMinionsKilled=0, nexusKills=0, nexusLost=1, nexusTakedowns=0, objectivesStolen=0, objectivesStolenAssists=0, onMyWayPings=13, participantId=9, pentaKills=0, perks=Row(statPerks=Row(defense=5002, flex=5008, offense=5005), styles=[Row(description='primaryStyle', selections=[Row(perk=8005, var1=1385, var2=707, var3=677), Row(perk=8009, var1=4643, var2=0, var3=0), Row(perk=9103, var1=24, var2=10, var3=0), Row(perk=8014, var1=634, var2=0, var3=0)], style=8000), Row(description='subStyle', selections=[Row(perk=8304, var1=10, var2=3, var3=0), Row(perk=8345, var1=3, var2=0, var3=0)], style=8300)]), physicalDamageDealt=178512, physicalDamageDealtToChampions=18242, physicalDamageTaken=13444, profileIcon=5413, pushPings=0, puuid='wSwzTGdhrtAPOtdCi_pzRyniWhb0v4l6WrikyXygxjey9Rvc-Y7QmbxAWKZ6GNryxJ-1Swc43kSIjg', quadraKills=0, riotIdName='', riotIdTagline='', role='CARRY', sightWardsBoughtInGame=0, spell1Casts=151, spell2Casts=82, spell3Casts=71, spell4Casts=10, summoner1Casts=6, summoner1Id=7, summoner2Casts=5, summoner2Id=4, summonerId='wd11oQ42p1T3Q-tOM5bywyyDYlaV9U7wSZoI0UOmUW4snwcogUX1mz0hng', summonerLevel=48, summonerName='뇌를거쳐게임하자', teamEarlySurrendered=False, teamId=200, teamPosition='BOTTOM', timeCCingOthers=12, timePlayed=2193, totalDamageDealt=217831, totalDamageDealtToChampions=21838, totalDamageShieldedOnTeammates=0, totalDamageTaken=25103, totalHeal=1560, totalHealsOnTeammates=258, totalMinionsKilled=214, totalTimeCCDealt=439, totalTimeSpentDead=243, totalUnitsHealed=2, tripleKills=1, trueDamageDealt=21959, trueDamageDealtToChampions=2310, trueDamageTaken=379, turretKills=2, turretTakedowns=2, turretsLost=11, unrealKills=0, visionClearedPings=0, visionScore=16, visionWardsBoughtInGame=0, wardsKilled=0, wardsPlaced=11, win=False), Row(allInPings=0, assistMePings=0, assists=16, baitPings=0, baronKills=0, basicPings=0, bountyLevel=0, challenges=Row(12AssistStreakCount=0, abilityUses=229, acesBefore15Minutes=0, alliedJungleMonsterKills=0.0, baronBuffGoldAdvantageOverThreshold=1, baronTakedowns=1, blastConeOppositeOpponentCount=0, bountyGold=0, buffsStolen=0, completeSupportQuestInTime=0, controlWardTimeCoverageInRiverOrEnemyHalf=0.013020695993575273, controlWardsPlaced=1, damagePerMinute=367.2071626703199, damageTakenOnTeamPercentage=0.11940007681074832, dancedWithRiftHerald=0, deathsByEnemyChamps=11, dodgeSkillShotsSmallWindow=5, doubleAces=0, dragonTakedowns=1, earliestBaron=1909.0562043654104, earliestDragonTakedown=638.2565044555439, earliestElderDragon=None, earlyLaningPhaseGoldExpAdvantage=0.0, effectiveHealAndShielding=2603.403564453125, elderDragonKillsWithOpposingSoul=0, elderDragonMultikills=0, enemyChampionImmobilizations=15, enemyJungleMonsterKills=0.0, epicMonsterKillsNearEnemyJungler=0, epicMonsterKillsWithin30SecondsOfSpawn=0, epicMonsterSteals=0, epicMonsterStolenWithoutSmite=0, fasterSupportQuestCompletion=None, fastestLegendary=None, firstTurretKilledTime=None, flawlessAces=0, fullTeamTakedown=0, gameLength=2194.0620837598926, getTakedownsInAllLanesEarlyJungleAsLaner=0, goldPerMinute=265.3889550619124, hadAfkTeammate=None, hadOpenNexus=0, highestChampionDamage=None, highestCrowdControlScore=None, highestWardKills=None, immobilizeAndKillWithAlly=6, initialBuffCount=0, initialCrabCount=0, jungleCsBefore10Minutes=0.0, junglerKillsEarlyJungle=None, junglerTakedownsNearDamagedEpicMonster=0, kTurretsDestroyedBeforePlatesFall=0, kda=1.5454545454545454, killAfterHiddenWithAlly=1, killParticipation=0.4857142857142857, killedChampTookFullTeamDamageSurvived=0, killingSprees=None, killsNearEnemyTurret=0, killsOnLanersEarlyJungleAsJungler=None, killsOnOtherLanesEarlyJungleAsLaner=0, killsOnRecentlyHealedByAramPack=0, killsUnderOwnTurret=1, killsWithHelpFromEpicMonster=0, knockEnemyIntoTeamAndKill=0, landSkillShotsEarlyGame=6, laneMinionsFirst10Minutes=10, laningPhaseGoldExpAdvantage=0.0, legendaryCount=0, lostAnInhibitor=0, maxCsAdvantageOnLaneOpponent=66.0, maxKillDeficit=0, maxLevelLeadLaneOpponent=2, mejaisFullStackInTime=None, moreEnemyJungleThanOpponent=0.0, mostWardsDestroyedOneSweeper=None, multiKillOneSpell=0, multiTurretRiftHeraldCount=0, multikills=0, multikillsAfterAggressiveFlash=0, mythicItemUsed=7012, outerTurretExecutesBefore10Minutes=0, outnumberedKills=0, outnumberedNexusKill=0, perfectDragonSoulsTaken=0, perfectGame=0, pickKillWithAlly=13, playedChampSelectPosition=1, poroExplosions=0, quickCleanse=0, quickFirstTurret=0, quickSoloKills=0, riftHeraldTakedowns=0, saveAllyFromDeath=2, scuttleCrabKills=0, shortestTimeToAceFromFirstTakedown=20.742432265885782, skillshotsDodged=28, skillshotsHit=38, snowballsHit=0, soloBaronKills=0, soloKills=0, soloTurretsLategame=None, stealthWardsPlaced=25, survivedSingleDigitHpCount=0, survivedThreeImmobilizesInFight=0, takedownOnFirstTurret=0, takedowns=17, takedownsAfterGainingLevelAdvantage=0, takedownsBeforeJungleMinionSpawn=0, takedownsFirst25Minutes=None, takedownsFirstXMinutes=2, takedownsInAlcove=0, takedownsInEnemyFountain=0, teamBaronKills=1, teamDamagePercentage=0.1201986468636144, teamElderDragonKills=0, teamRiftHeraldKills=0, teleportTakedowns=None, thirdInhibitorDestroyedTime=None, threeWardsOneSweeperCount=0, tookLargeDamageSurvived=0, turretPlatesTaken=0, turretTakedowns=0, turretsTakenWithRiftHerald=0, twentyMinionsIn3SecondsCount=3, unseenRecalls=0, visionScoreAdvantageLaneOpponent=-0.30785197019577026, visionScorePerMinute=1.394969131757634, wardTakedowns=5, wardTakedownsBefore20M=2, wardsGuarded=0), champExperience=16164, champLevel=16, championId=99, championName='Lux', championTransform=0, commandPings=3, consumablesPurchased=4, damageDealtToBuildings=0, damageDealtToObjectives=3799, damageDealtToTurrets=0, damageSelfMitigated=8086, dangerPings=0, deaths=11, detectorWardsPlaced=1, doubleKills=0, dragonKills=1, eligibleForProgression=True, enemyMissingPings=2, enemyVisionPings=2, firstBloodAssist=False, firstBloodKill=False, firstTowerAssist=False, firstTowerKill=False, gameEndedInEarlySurrender=False, gameEndedInSurrender=False, getBackPings=0, goldEarned=9704, goldSpent=8725, holdPings=0, individualPosition='UTILITY', inhibitorKills=0, inhibitorTakedowns=0, inhibitorsLost=6, item0=7012, item1=4628, item2=3853, item3=3916, item4=3020, item5=0, item6=3364, itemsPurchased=21, killingSprees=0, kills=1, lane='BOTTOM', largestCriticalStrike=0, largestKillingSpree=0, largestMultiKill=1, longestTimeSpentLiving=553, magicDamageDealt=68118, magicDamageDealtToChampions=11916, magicDamageTaken=15037, needVisionPings=1, neutralMinionsKilled=4, nexusKills=0, nexusLost=1, nexusTakedowns=0, objectivesStolen=0, objectivesStolenAssists=0, onMyWayPings=0, participantId=10, pentaKills=0, perks=Row(statPerks=Row(defense=5001, flex=5008, offense=5008), styles=[Row(description='primaryStyle', selections=[Row(perk=8229, var1=1555, var2=0, var3=0), Row(perk=8226, var1=250, var2=809, var3=0), Row(perk=8210, var1=19, var2=0, var3=0), Row(perk=8236, var1=48, var2=0, var3=0)], style=8200), Row(description='subStyle', selections=[Row(perk=8321, var1=7, var2=0, var3=0), Row(perk=8347, var1=0, var2=0, var3=0)], style=8300)]), physicalDamageDealt=4388, physicalDamageDealtToChampions=342, physicalDamageTaken=4424, profileIcon=4270, pushPings=0, puuid='z2zDS9PzR2l2ni080IBa4LF97ftR2BaKbGim7vjV1QYNRWmgvT2qzykjuEjBtxFnCbGyVsGEgfJPPg', quadraKills=0, riotIdName='', riotIdTagline='', role='SUPPORT', sightWardsBoughtInGame=0, spell1Casts=42, spell2Casts=30, spell3Casts=139, spell4Casts=18, summoner1Casts=3, summoner1Id=4, summoner2Casts=3, summoner2Id=14, summonerId='-TJVIDnCf6yJChtp6IWbySfZXgub65zg9QDZvRr_mvks4O4', summonerLevel=342, summonerName='뭐왜뭐어쩌라고', teamEarlySurrendered=False, teamId=200, teamPosition='UTILITY', timeCCingOthers=32, timePlayed=2193, totalDamageDealt=79780, totalDamageDealtToChampions=13427, totalDamageShieldedOnTeammates=2603, totalDamageTaken=20211, totalHeal=294, totalHealsOnTeammates=0, totalMinionsKilled=72, totalTimeCCDealt=323, totalTimeSpentDead=316, totalUnitsHealed=1, tripleKills=0, trueDamageDealt=7273, trueDamageDealtToChampions=1168, trueDamageTaken=750, turretKills=0, turretTakedowns=0, turretsLost=11, unrealKills=0, visionClearedPings=0, visionScore=51, visionWardsBoughtInGame=1, wardsKilled=5, wardsPlaced=30, win=False)], platformId='KR', queueId=420, teams=[Row(bans=[Row(championId=122, pickTurn=1), Row(championId=11, pickTurn=2), Row(championId=238, pickTurn=3), Row(championId=555, pickTurn=4), Row(championId=51, pickTurn=5)], objectives=Row(baron=Row(first=True, kills=1), champion=Row(first=True, kills=45), dragon=Row(first=False, kills=4), inhibitor=Row(first=True, kills=6), riftHerald=Row(first=True, kills=2), tower=Row(first=True, kills=11)), teamId=100, win=True), Row(bans=[Row(championId=111, pickTurn=6), Row(championId=360, pickTurn=7), Row(championId=238, pickTurn=8), Row(championId=-1, pickTurn=9), Row(championId=114, pickTurn=10)], objectives=Row(baron=Row(first=False, kills=1), champion=Row(first=False, kills=36), dragon=Row(first=True, kills=1), inhibitor=Row(first=False, kills=0), riftHerald=Row(first=False, kills=0), tower=Row(first=False, kills=3)), teamId=200, win=False)], tournamentCode=''), metadata=Row(dataVersion='2', matchId='KR_6235494293', participants=['T5kveJr45czHEGnLSaqzJTH9XF-MECUhQGX8_QIQe1nvUvDgCOYCGNMS_o5HTWiQXs7tj4dQmpfAQA', 'ChXW3PFTnGocDBXCkQyvQa0-rTy56L9idv5Lto_6o_BW8rJKWWRFuJa75tK8HFUCBXlHozkcKmneow', 'Xm1u28V4d1e_84bkIz3km41wuJzK-cLYzfp7sskjMlcjp-J7WuZMIq-JobUUXKLeVYR9egBLcrdkTQ', 'RfnjiRXqPFm5FLdZp3FJKzg5U9-_3_jYZSfjPdAYe0X2LbNoa7DaGZGJ7lmpWMlq5f3lWJXWP179bg', '8LXGT1W7exPNLWSDwDb-9xfapf0eZifwXmg2T75cujyyr8nHSdemXcDrwU1LhwJw5wa_P8yDfjBM7g', 'C24BXIqtUkzsy5zt5sAR5FK9cDqrKZuO1UxuX67T2_8XeF0iM8msjGCRXOO1FO_KYWQld-URnjEnLQ', 'aj0EfMGgqQ2Qr2aLdFWByT2fF72AR-ExPrvAx-k5UgoO09BBqv7c1f6f-vyMKPv5gmw2uJDZYuz53g', '7TXDuKnRHj7NxF0QJ2XyuVFjpEc1hJhW9EZf-eLVVt6uaZZNJMnuFhshc5BbSlVziukF1oSxOuf1CA', 'wSwzTGdhrtAPOtdCi_pzRyniWhb0v4l6WrikyXygxjey9Rvc-Y7QmbxAWKZ6GNryxJ-1Swc43kSIjg', 'z2zDS9PzR2l2ni080IBa4LF97ftR2BaKbGim7vjV1QYNRWmgvT2qzykjuEjBtxFnCbGyVsGEgfJPPg']), status=None)]"
            ]
          },
          "metadata": {},
          "execution_count": 15
        }
      ],
      "source": [
        "ranked_matches_rdd.take(1)"
      ]
    },
    {
      "cell_type": "markdown",
      "metadata": {
        "id": "YutGGVcvntX0"
      },
      "source": [
        "# Requirement 1\n",
        "## Champion pick rate, Champion win rate, and Champion ban rate."
      ]
    },
    {
      "cell_type": "markdown",
      "metadata": {
        "id": "7lXtFNnXQmjw"
      },
      "source": [
        "### 1.   Champion pick rate: \n",
        "\n",
        "\n",
        "\n",
        "*   We firstly found the participants in all Ranked Matches\n",
        "*   We found the champions assosiated with the participants.\n",
        "*   We found the count of each champion.\n",
        "*   Finally, we found the champions pick rates.\n",
        "\n",
        "\n",
        "\n",
        "\n"
      ]
    },
    {
      "cell_type": "code",
      "execution_count": null,
      "metadata": {
        "id": "5LjBPJOinqcF"
      },
      "outputs": [],
      "source": [
        "# Get all participants\n",
        "participants = ranked_matches_rdd.map(lambda x:x['info']['participants']).flatMap(lambda x:x)"
      ]
    },
    {
      "cell_type": "code",
      "source": [
        "# Get all champions\n",
        "champions = participants.map(lambda x: x['championName'])"
      ],
      "metadata": {
        "id": "pKFqwr4zClct"
      },
      "execution_count": null,
      "outputs": []
    },
    {
      "cell_type": "code",
      "source": [
        "# Get the count of each champion\n",
        "champions_pick = champions.map(lambda champion: (champion, 1))\n",
        "champions_pick_count = champions_pick.reduceByKey(lambda a, b: a + b)"
      ],
      "metadata": {
        "id": "A8HCfg6pClP6"
      },
      "execution_count": null,
      "outputs": []
    },
    {
      "cell_type": "code",
      "source": [
        "# Get the the champions pick rates\n",
        "champions_pick_rate = champions_pick_count.map(lambda x: (x[0], round(x[1]  * 100/ranked_matches_count, 2)))"
      ],
      "metadata": {
        "id": "mEeBzD9-ClDg"
      },
      "execution_count": null,
      "outputs": []
    },
    {
      "cell_type": "code",
      "source": [
        "print(champions_pick_count.take(10))\n",
        "print(champions_pick_rate.take(10))"
      ],
      "metadata": {
        "id": "t1Axhz8iE8eg",
        "colab": {
          "base_uri": "https://localhost:8080/"
        },
        "outputId": "68d2c905-a20e-4e30-a51a-21087c78e31a"
      },
      "execution_count": null,
      "outputs": [
        {
          "output_type": "stream",
          "name": "stdout",
          "text": [
            "[('Ekko', 5406), ('Zac', 2901), ('Qiyana', 1418), ('Diana', 5755), ('Corki', 724), ('Poppy', 1212), ('Zed', 6964), ('Ziggs', 1437), ('Amumu', 3947), ('Akali', 6141)]\n",
            "[('Ekko', 10.21), ('Zac', 5.48), ('Qiyana', 2.68), ('Diana', 10.87), ('Corki', 1.37), ('Poppy', 2.29), ('Zed', 13.15), ('Ziggs', 2.71), ('Amumu', 7.46), ('Akali', 11.6)]\n"
          ]
        }
      ]
    },
    {
      "cell_type": "code",
      "source": [
        "# Output file of champions pick rates\n",
        "pick_rate = champions_pick_rate.collect()\n",
        "with open(\"/content/drive/MyDrive/BigData/Output/champions_pick_rate\", \"w\") as file:\n",
        "    file.write(str(pick_rate))"
      ],
      "metadata": {
        "id": "NhvcLNRWFAhb"
      },
      "execution_count": null,
      "outputs": []
    },
    {
      "cell_type": "code",
      "source": [
        "# top 15 picked champions to plot\n",
        "top_pick_rates = champions_pick_rate.top(15, key=lambda x:x[1])"
      ],
      "metadata": {
        "id": "zXtuETzZFAeW"
      },
      "execution_count": null,
      "outputs": []
    },
    {
      "cell_type": "code",
      "source": [
        "figure(figsize=(15, 10))\n",
        "plt.bar(*zip(*top_pick_rates))\n",
        "plt.title(\"Top 15 picked champions\")\n",
        "plt.xlabel('Champion Name')\n",
        "plt.ylabel('Pick Rate')\n",
        "plt.show()"
      ],
      "metadata": {
        "id": "PjFJKckzJ7n9",
        "colab": {
          "base_uri": "https://localhost:8080/",
          "height": 621
        },
        "outputId": "389357e0-6503-43db-f2f7-152bdacbf5be"
      },
      "execution_count": null,
      "outputs": [
        {
          "output_type": "display_data",
          "data": {
            "text/plain": [
              "<Figure size 1080x720 with 1 Axes>"
            ],
            "image/png": "[encoded data removed]"
          },
          "metadata": {
            "needs_background": "light"
          }
        }
      ]
    },
    {
      "cell_type": "markdown",
      "source": [
        "### 2.   Champion win rate: \n",
        "\n",
        "\n",
        "\n",
        "*   We firstly found the participants who winning in all Ranked Matches\n",
        "*   We found the champions assosiated with the winning participants.\n",
        "*   We found the count of each winning champion.\n",
        "*   Finally, we found the champions win rates.\n",
        "\n"
      ],
      "metadata": {
        "id": "U1I1b3_1KIGJ"
      }
    },
    {
      "cell_type": "code",
      "execution_count": null,
      "metadata": {
        "id": "h0eHkQq7adbw"
      },
      "outputs": [],
      "source": [
        "# Get winning participants\n",
        "winning_participants = participants.filter(lambda x: x['win'] == True)"
      ]
    },
    {
      "cell_type": "code",
      "source": [
        "# Get winning champion names\n",
        "winning_champions_names = winning_participants.map(lambda x: x['championName'])"
      ],
      "metadata": {
        "id": "g3-uMkRXK2uw"
      },
      "execution_count": null,
      "outputs": []
    },
    {
      "cell_type": "code",
      "source": [
        "# Count the number of times each champion won\n",
        "winning_champions = winning_champions_names.map(lambda x: (x, 1))\n",
        "winning_champions_count = winning_champions.reduceByKey(lambda a, b: a + b)"
      ],
      "metadata": {
        "id": "Ih0yBHTnK4rz"
      },
      "execution_count": null,
      "outputs": []
    },
    {
      "cell_type": "code",
      "source": [
        "# Get the champions win rates \n",
        "champions_win_rate = winning_champions_count.join(champions_pick_count).mapValues(lambda x:  round(x[0] *100 / x[1], 2))"
      ],
      "metadata": {
        "id": "O_5IZhtIK6LP"
      },
      "execution_count": null,
      "outputs": []
    },
    {
      "cell_type": "code",
      "execution_count": null,
      "metadata": {
        "id": "r_7JWZYgf-TF",
        "colab": {
          "base_uri": "https://localhost:8080/"
        },
        "outputId": "17cfa6fb-67bf-4709-afb8-f989f762a88c"
      },
      "outputs": [
        {
          "output_type": "stream",
          "name": "stdout",
          "text": [
            "[('Ekko', 2764), ('Zac', 1514), ('Qiyana', 688), ('Diana', 2966), ('Corki', 349), ('Poppy', 590), ('Zed', 3363), ('Ziggs', 732), ('Amumu', 2074), ('Leblanc', 885)]\n",
            "[('Ekko', 51.13), ('Zac', 52.19), ('Qiyana', 48.52), ('Diana', 51.54), ('Corki', 48.2), ('Poppy', 48.68), ('Zed', 48.29), ('Ziggs', 50.94), ('Amumu', 52.55), ('Leblanc', 48.26)]\n"
          ]
        }
      ],
      "source": [
        "print(winning_champions_count.take(10))\n",
        "print(champions_win_rate.take(10))"
      ]
    },
    {
      "cell_type": "code",
      "execution_count": null,
      "metadata": {
        "id": "Qe-lVa5Xajx4"
      },
      "outputs": [],
      "source": [
        "# Output file of champions win rates\n",
        "win_rate = champions_win_rate.collect()\n",
        "with open(\"/content/drive/MyDrive/BigData/Output/champions_win_rate\", \"w\") as file:\n",
        "    file.write(str(win_rate))"
      ]
    },
    {
      "cell_type": "code",
      "source": [
        "# top 15 winning champions to plot\n",
        "top_win_rates = champions_win_rate.top(15, key=lambda x:x[1])"
      ],
      "metadata": {
        "id": "nU0psUWWMFI4"
      },
      "execution_count": null,
      "outputs": []
    },
    {
      "cell_type": "code",
      "source": [
        "figure(figsize=(15, 10))\n",
        "plt.bar(*zip(*top_win_rates))\n",
        "plt.title(\"Top 15 winning champions\")\n",
        "plt.xlabel('Champion Name')\n",
        "plt.ylabel('Win Rate')\n",
        "plt.show()"
      ],
      "metadata": {
        "id": "SP5fv1hwMFF-",
        "colab": {
          "base_uri": "https://localhost:8080/",
          "height": 621
        },
        "outputId": "e95fe78f-3786-47bb-fb07-49ed34ff6301"
      },
      "execution_count": null,
      "outputs": [
        {
          "output_type": "display_data",
          "data": {
            "text/plain": [
              "<Figure size 1080x720 with 1 Axes>"
            ],
            "image/png": "[encoded data removed]"
          },
          "metadata": {
            "needs_background": "light"
          }
        }
      ]
    },
    {
      "cell_type": "markdown",
      "source": [
        "### 3.   Champion ban rate: \n",
        "\n",
        "\n",
        "\n",
        "*   We firstly found the participated teams in all Ranked Matches\n",
        "*   We found the teams that were banned.\n",
        "*   We found the champions IDs associated with the banned participants.\n",
        "*   Finally, we found the champions ban rates associated with each champion name.\n",
        "\n"
      ],
      "metadata": {
        "id": "9IxxUb0kOLwO"
      }
    },
    {
      "cell_type": "code",
      "source": [
        "# Get the teams info\n",
        "participated_teams = ranked_matches_rdd.map(lambda x:x['info']['teams']).flatMap(lambda x:x)"
      ],
      "metadata": {
        "id": "l9CjIOOyMTjY"
      },
      "execution_count": null,
      "outputs": []
    },
    {
      "cell_type": "code",
      "source": [
        "# Get all the bans\n",
        "bans = participated_teams.map(lambda x: x['bans']).flatMap(lambda x:x)"
      ],
      "metadata": {
        "id": "bfphXjKxMTgm"
      },
      "execution_count": null,
      "outputs": []
    },
    {
      "cell_type": "code",
      "source": [
        "# Get the ids of banned champions\n",
        "banned_championsId = bans.map(lambda x: x['championId'])"
      ],
      "metadata": {
        "id": "gRTwyAFtQFTz"
      },
      "execution_count": null,
      "outputs": []
    },
    {
      "cell_type": "code",
      "source": [
        "# Count the number of times each champion was banned\n",
        "championsId_ban = banned_championsId.map(lambda champion: (champion, 1))\n",
        "championsId_ban_count = championsId_ban.reduceByKey(lambda a, b: a + b)"
      ],
      "metadata": {
        "id": "mkt0w88KQHJm"
      },
      "execution_count": null,
      "outputs": []
    },
    {
      "cell_type": "code",
      "source": [
        "championsId_ban_count.take(50)"
      ],
      "metadata": {
        "id": "y19MHNDBR7LF",
        "colab": {
          "base_uri": "https://localhost:8080/"
        },
        "outputId": "a2535658-dc12-4dcb-b985-e2b679a9766e"
      },
      "execution_count": null,
      "outputs": [
        {
          "output_type": "execute_result",
          "data": {
            "text/plain": [
              "[(56, 1886),\n",
              " (112, 1861),\n",
              " (57, 390),\n",
              " (113, 404),\n",
              " (1, 428),\n",
              " (897, 4733),\n",
              " (114, 10898),\n",
              " (58, 1025),\n",
              " (2, 1249),\n",
              " (115, 215),\n",
              " (59, 130),\n",
              " (3, 144),\n",
              " (60, 996),\n",
              " (4, 35),\n",
              " (117, 3462),\n",
              " (61, 97),\n",
              " (5, 303),\n",
              " (62, 1311),\n",
              " (6, 1056),\n",
              " (63, 5087),\n",
              " (7, 2328),\n",
              " (119, 9680),\n",
              " (64, 2049),\n",
              " (120, 9838),\n",
              " (8, 2414),\n",
              " (121, 1345),\n",
              " (9, 949),\n",
              " (122, 14926),\n",
              " (234, 2275),\n",
              " (10, 645),\n",
              " (11, 17565),\n",
              " (235, 2032),\n",
              " (67, 4728),\n",
              " (68, 128),\n",
              " (236, 1659),\n",
              " (12, 293),\n",
              " (516, 379),\n",
              " (517, 6471),\n",
              " (69, 1390),\n",
              " (13, 90),\n",
              " (238, 26261),\n",
              " (350, 13291),\n",
              " (126, 146),\n",
              " (14, 896),\n",
              " (518, 308),\n",
              " (15, 1108),\n",
              " (127, 406),\n",
              " (16, 1107),\n",
              " (240, 442),\n",
              " (72, 62)]"
            ]
          },
          "metadata": {},
          "execution_count": 39
        }
      ]
    },
    {
      "cell_type": "code",
      "source": [
        "# Get champion ban rate\n",
        "championsId_ban_rate = championsId_ban_count.map(lambda x: (x[0], x[1]  * 100/ranked_matches_count))"
      ],
      "metadata": {
        "id": "FLo-JOMBUFcW"
      },
      "execution_count": null,
      "outputs": []
    },
    {
      "cell_type": "code",
      "source": [
        "# Get the ban rate for each champion name\n",
        "championsId_ban_rate_list = [list(i) for i in championsId_ban_rate.collect()]\n",
        "championsName_ban_rate = []\n",
        "for j in championsId_ban_rate_list:\n",
        "  if(j[0] != -1):\n",
        "    name = champions_rdd.map(lambda x: x['data']).flatMap(lambda x:x).filter(lambda x: x['key'] == str(j[0])).map(lambda x: x['name']).collect()[0]\n",
        "    championsName_ban_rate.append(tuple([name, j[1]]))"
      ],
      "metadata": {
        "id": "SVqD8KQsUFZ5"
      },
      "execution_count": null,
      "outputs": []
    },
    {
      "cell_type": "code",
      "source": [
        "championsName_ban_rate"
      ],
      "metadata": {
        "id": "05YoP0l8ef3n",
        "colab": {
          "base_uri": "https://localhost:8080/"
        },
        "outputId": "c0c4e65e-6afc-45c7-f4b1-4f07709d4e08"
      },
      "execution_count": null,
      "outputs": [
        {
          "output_type": "execute_result",
          "data": {
            "text/plain": [
              "[('Nocturne', 3.562456319298842),\n",
              " ('Viktor', 3.5152339396686876),\n",
              " ('Maokai', 0.7366691222304075),\n",
              " ('Sejuani', 0.7631136548232939),\n",
              " ('Annie', 0.808447139268242),\n",
              " (\"K'Sante\", 8.940140911580816),\n",
              " ('Fiora', 20.585179728376872),\n",
              " ('Renekton', 1.9361175648363271),\n",
              " ('Olaf', 2.3592300863225097),\n",
              " ('Ziggs', 0.40611246481932717),\n",
              " ('Jarvan IV', 0.24555637407680247),\n",
              " ('Galio', 0.2720009066696889),\n",
              " ('Elise', 1.8813396044653483),\n",
              " ('Twisted Fate', 0.06611133148221605),\n",
              " ('Lulu', 6.539355131183771),\n",
              " ('Orianna', 0.18322283296499878),\n",
              " ('Xin Zhao', 0.5723352411174704),\n",
              " ('Wukong', 2.4763415878052926),\n",
              " ('Urgot', 1.9946733155777185),\n",
              " ('Brand', 9.608809807143802),\n",
              " ('LeBlanc', 4.397347991159971),\n",
              " ('Draven', 18.284505392795754),\n",
              " ('Lee Sin', 3.870346234487448),\n",
              " ('Hecarim', 18.58295083205833),\n",
              " ('Vladimir', 4.559792977087701),\n",
              " (\"Kha'Zix\", 2.5405640241023026),\n",
              " ('FiddleSticks', 1.7925615307606582),\n",
              " ('Darius', 28.193649534387337),\n",
              " ('Viego', 4.297236546344044),\n",
              " ('Kayle', 1.2183373944579816),\n",
              " ('Master Yi', 33.17844392814643),\n",
              " ('Senna', 3.838235016338943),\n",
              " ('Vayne', 8.930696435654786),\n",
              " ('Rumble', 0.24177858370639013),\n",
              " ('Lucian', 3.133677112257041),\n",
              " ('Alistar', 0.5534462892654086),\n",
              " ('Ornn', 0.7158912751931396),\n",
              " ('Sylas', 12.223040743469145),\n",
              " ('Cassiopeia', 2.6255643074365804),\n",
              " ('Ryze', 0.17000056666855556),\n",
              " ('Zed', 49.60427645869931),\n",
              " ('Yuumi', 25.105305906575243),\n",
              " ('Jayce', 0.2757786970401012),\n",
              " ('Sion', 1.692450085944731),\n",
              " ('Neeko', 0.5817797170435013),\n",
              " ('Sivir', 2.0928958652084395),\n",
              " ('Lissandra', 0.7668914451937062),\n",
              " ('Soraka', 2.0910069700232334),\n",
              " ('Kled', 0.8348916718611284),\n",
              " ('Skarner', 0.11711150148278272),\n",
              " ('Teemo', 12.821820517179502),\n",
              " ('Tristana', 6.688577850815058),\n",
              " ('Heimerdinger', 4.408681362271207),\n",
              " ('Warwick', 9.971477682703387),\n",
              " ('Diana', 6.854800627113201),\n",
              " ('Nasus', 5.934908671917795),\n",
              " ('Aphelios', 0.8254471959350975),\n",
              " ('Nidalee', 0.37777903704123456),\n",
              " ('Thresh', 1.8888951852061728),\n",
              " ('Nunu & Willump', 0.6478910485257173),\n",
              " ('Udyr', 24.192969532120664),\n",
              " ('Miss Fortune', 6.412799153774957),\n",
              " ('Quinn', 0.7347802270452013),\n",
              " ('Ekko', 5.861241759694755),\n",
              " ('Syndra', 4.52579286375399),\n",
              " ('Qiyana', 0.8027804537126235),\n",
              " ('Ashe', 3.0071211348482274),\n",
              " ('Poppy', 0.632779887044068),\n",
              " ('Rell', 0.34377892370752344),\n",
              " ('Tryndamere', 5.151017170057234),\n",
              " ('Gragas', 0.3891124081524716),\n",
              " ('Samira', 25.598307549914054),\n",
              " ('Jax', 5.651574394136869),\n",
              " ('Pantheon', 1.3090043633478778),\n",
              " ('Aurelion Sol', 0.2814453825957198),\n",
              " ('Morgana', 32.116884834060556),\n",
              " ('Ezreal', 3.9345686707844583),\n",
              " ('Mordekaiser', 26.70142233807446),\n",
              " ('Zilean', 1.507338357794526),\n",
              " ('Yorick', 4.1385693507867245),\n",
              " ('Singed', 0.568557450747058),\n",
              " ('Akali', 18.737840237245234),\n",
              " ('Illaoi', 9.87136623788746),\n",
              " ('Evelynn', 7.079579154152736),\n",
              " ('Kayn', 8.99302997676659),\n",
              " ('Twitch', 12.366596777544814),\n",
              " (\"Rek'Sai\", 0.6195576207476247),\n",
              " ('Kennen', 0.26255643074365803),\n",
              " ('Zoe', 0.8141138248238605),\n",
              " ('Karthus', 0.44389036852345065),\n",
              " ('Garen', 4.227347424491415),\n",
              " ('Vi', 1.1427815870497346),\n",
              " (\"Cho'Gath\", 1.4091158081638049),\n",
              " ('Zyra', 4.0157911637483235),\n",
              " (\"Bel'Veth\", 16.397499102774788),\n",
              " ('Amumu', 3.681456715966831),\n",
              " ('Leona', 7.16646833267222),\n",
              " (\"Kai'Sa\", 5.122683742279141),\n",
              " ('Rammus', 18.229727432424774),\n",
              " ('Braum', 0.3400011333371111),\n",
              " ('Malzahar', 6.176687255624185),\n",
              " ('Jhin', 4.563570767458113),\n",
              " ('Anivia', 2.4083413611378703),\n",
              " ('Sett', 6.36179898377439),\n",
              " ('Shaco', 21.032847887270734),\n",
              " ('Talon', 1.0275589807521581),\n",
              " ('Seraphine', 1.7302279896488544),\n",
              " ('Kindred', 2.831453882624053),\n",
              " ('Ivern', 0.37211235148561606),\n",
              " ('Lillia', 4.393570200789558),\n",
              " ('Dr. Mundo', 27.81209270697569),\n",
              " ('Riven', 0.929336431121437),\n",
              " ('Kalista', 0.6403354677848926),\n",
              " ('Sona', 0.2228896318543284),\n",
              " ('Kassadin', 10.351145614929827),\n",
              " ('Gnar', 0.6101131448215938),\n",
              " ('Irelia', 14.353714512381709),\n",
              " ('Vex', 9.62958765418107),\n",
              " ('Bard', 0.41177915037494567),\n",
              " (\"Kog'Maw\", 0.5742241363026765),\n",
              " ('Janna', 1.3562267429780321),\n",
              " ('Gangplank', 4.301014336714456),\n",
              " ('Aatrox', 16.9830566101887),\n",
              " ('Zac', 3.333900001888895),\n",
              " ('Shen', 0.698891218526284),\n",
              " ('Corki', 0.2814453825957198),\n",
              " ('Lux', 14.340492246085265),\n",
              " ('Nami', 2.347896715211273),\n",
              " ('Karma', 1.2920043066810223),\n",
              " ('Azir', 0.5421129181541716),\n",
              " ('Taric', 0.2701120114844827),\n",
              " ('Veigar', 3.8854573959690977),\n",
              " ('Xerath', 5.260573090799191),\n",
              " ('Yasuo', 24.33085888064071),\n",
              " ('Shyvana', 1.0502257229746321),\n",
              " ('Ahri', 3.0958992085529173),\n",
              " ('Gwen', 1.171115014827827),\n",
              " ('Trundle', 2.349785610396479),\n",
              " ('Graves', 3.626678755595852),\n",
              " ('Renata Glasc', 2.0116733722445743),\n",
              " ('Yone', 15.921497516102832),\n",
              " ('Fizz', 6.414688048960163),\n",
              " ('Rakan', 0.21344515592829755),\n",
              " (\"Vel'Koz\", 1.0577813037154569),\n",
              " ('Swain', 6.565799663776657),\n",
              " ('Volibear', 2.453674845582819),\n",
              " ('Xayah', 0.6157798303772124),\n",
              " ('Pyke', 17.253168621673183),\n",
              " ('Caitlyn', 17.42128029315653),\n",
              " ('Rengar', 3.439678132260441),\n",
              " ('Taliyah', 0.4684460059311309),\n",
              " ('Camille', 2.380007933359778),\n",
              " ('Blitzcrank', 21.33129332653331),\n",
              " ('Zeri', 3.4774560359645643),\n",
              " ('Akshan', 5.12835042783476),\n",
              " ('Varus', 2.3648967718781284),\n",
              " ('Malphite', 2.1571183015054496),\n",
              " ('Jinx', 1.2617819837177235),\n",
              " ('Nautilus', 8.229916321943296),\n",
              " ('Katarina', 9.941255359740088),\n",
              " ('Nilah', 8.21291626527644),\n",
              " ('Tahm Kench', 1.8171171681683382)]"
            ]
          },
          "metadata": {},
          "execution_count": 42
        }
      ]
    },
    {
      "cell_type": "code",
      "source": [
        "# Output file of champions ban rates\n",
        "with open(\"/content/drive/MyDrive/BigData/Output/championsNames_ban_rate\", \"w\") as file:\n",
        "    file.write(str(championsName_ban_rate))"
      ],
      "metadata": {
        "id": "tyssz_DvUFXa"
      },
      "execution_count": null,
      "outputs": []
    },
    {
      "cell_type": "code",
      "source": [
        "# sorted banned champions\n",
        "sorted_ban_rates = sorted(championsName_ban_rate, key=lambda x: x[1], reverse=True)"
      ],
      "metadata": {
        "id": "UP-fdxUsfHIZ"
      },
      "execution_count": null,
      "outputs": []
    },
    {
      "cell_type": "code",
      "source": [
        "sorted_ban_rates"
      ],
      "metadata": {
        "id": "Yy4o47oJfQqr",
        "colab": {
          "base_uri": "https://localhost:8080/"
        },
        "outputId": "9b6a6abd-2aaf-44f8-8131-f9cac20fb16a"
      },
      "execution_count": null,
      "outputs": [
        {
          "output_type": "execute_result",
          "data": {
            "text/plain": [
              "[('Zed', 49.60427645869931),\n",
              " ('Master Yi', 33.17844392814643),\n",
              " ('Morgana', 32.116884834060556),\n",
              " ('Darius', 28.193649534387337),\n",
              " ('Dr. Mundo', 27.81209270697569),\n",
              " ('Mordekaiser', 26.70142233807446),\n",
              " ('Samira', 25.598307549914054),\n",
              " ('Yuumi', 25.105305906575243),\n",
              " ('Yasuo', 24.33085888064071),\n",
              " ('Udyr', 24.192969532120664),\n",
              " ('Blitzcrank', 21.33129332653331),\n",
              " ('Shaco', 21.032847887270734),\n",
              " ('Fiora', 20.585179728376872),\n",
              " ('Akali', 18.737840237245234),\n",
              " ('Hecarim', 18.58295083205833),\n",
              " ('Draven', 18.284505392795754),\n",
              " ('Rammus', 18.229727432424774),\n",
              " ('Caitlyn', 17.42128029315653),\n",
              " ('Pyke', 17.253168621673183),\n",
              " ('Aatrox', 16.9830566101887),\n",
              " (\"Bel'Veth\", 16.397499102774788),\n",
              " ('Yone', 15.921497516102832),\n",
              " ('Irelia', 14.353714512381709),\n",
              " ('Lux', 14.340492246085265),\n",
              " ('Teemo', 12.821820517179502),\n",
              " ('Twitch', 12.366596777544814),\n",
              " ('Sylas', 12.223040743469145),\n",
              " ('Kassadin', 10.351145614929827),\n",
              " ('Warwick', 9.971477682703387),\n",
              " ('Katarina', 9.941255359740088),\n",
              " ('Illaoi', 9.87136623788746),\n",
              " ('Vex', 9.62958765418107),\n",
              " ('Brand', 9.608809807143802),\n",
              " ('Kayn', 8.99302997676659),\n",
              " (\"K'Sante\", 8.940140911580816),\n",
              " ('Vayne', 8.930696435654786),\n",
              " ('Nautilus', 8.229916321943296),\n",
              " ('Nilah', 8.21291626527644),\n",
              " ('Leona', 7.16646833267222),\n",
              " ('Evelynn', 7.079579154152736),\n",
              " ('Diana', 6.854800627113201),\n",
              " ('Tristana', 6.688577850815058),\n",
              " ('Swain', 6.565799663776657),\n",
              " ('Lulu', 6.539355131183771),\n",
              " ('Fizz', 6.414688048960163),\n",
              " ('Miss Fortune', 6.412799153774957),\n",
              " ('Sett', 6.36179898377439),\n",
              " ('Malzahar', 6.176687255624185),\n",
              " ('Nasus', 5.934908671917795),\n",
              " ('Ekko', 5.861241759694755),\n",
              " ('Jax', 5.651574394136869),\n",
              " ('Xerath', 5.260573090799191),\n",
              " ('Tryndamere', 5.151017170057234),\n",
              " ('Akshan', 5.12835042783476),\n",
              " (\"Kai'Sa\", 5.122683742279141),\n",
              " ('Jhin', 4.563570767458113),\n",
              " ('Vladimir', 4.559792977087701),\n",
              " ('Syndra', 4.52579286375399),\n",
              " ('Heimerdinger', 4.408681362271207),\n",
              " ('LeBlanc', 4.397347991159971),\n",
              " ('Lillia', 4.393570200789558),\n",
              " ('Gangplank', 4.301014336714456),\n",
              " ('Viego', 4.297236546344044),\n",
              " ('Garen', 4.227347424491415),\n",
              " ('Yorick', 4.1385693507867245),\n",
              " ('Zyra', 4.0157911637483235),\n",
              " ('Ezreal', 3.9345686707844583),\n",
              " ('Veigar', 3.8854573959690977),\n",
              " ('Lee Sin', 3.870346234487448),\n",
              " ('Senna', 3.838235016338943),\n",
              " ('Amumu', 3.681456715966831),\n",
              " ('Graves', 3.626678755595852),\n",
              " ('Nocturne', 3.562456319298842),\n",
              " ('Viktor', 3.5152339396686876),\n",
              " ('Zeri', 3.4774560359645643),\n",
              " ('Rengar', 3.439678132260441),\n",
              " ('Zac', 3.333900001888895),\n",
              " ('Lucian', 3.133677112257041),\n",
              " ('Ahri', 3.0958992085529173),\n",
              " ('Ashe', 3.0071211348482274),\n",
              " ('Kindred', 2.831453882624053),\n",
              " ('Cassiopeia', 2.6255643074365804),\n",
              " (\"Kha'Zix\", 2.5405640241023026),\n",
              " ('Wukong', 2.4763415878052926),\n",
              " ('Volibear', 2.453674845582819),\n",
              " ('Anivia', 2.4083413611378703),\n",
              " ('Camille', 2.380007933359778),\n",
              " ('Varus', 2.3648967718781284),\n",
              " ('Olaf', 2.3592300863225097),\n",
              " ('Trundle', 2.349785610396479),\n",
              " ('Nami', 2.347896715211273),\n",
              " ('Malphite', 2.1571183015054496),\n",
              " ('Sivir', 2.0928958652084395),\n",
              " ('Soraka', 2.0910069700232334),\n",
              " ('Renata Glasc', 2.0116733722445743),\n",
              " ('Urgot', 1.9946733155777185),\n",
              " ('Renekton', 1.9361175648363271),\n",
              " ('Thresh', 1.8888951852061728),\n",
              " ('Elise', 1.8813396044653483),\n",
              " ('Tahm Kench', 1.8171171681683382),\n",
              " ('FiddleSticks', 1.7925615307606582),\n",
              " ('Seraphine', 1.7302279896488544),\n",
              " ('Sion', 1.692450085944731),\n",
              " ('Zilean', 1.507338357794526),\n",
              " (\"Cho'Gath\", 1.4091158081638049),\n",
              " ('Janna', 1.3562267429780321),\n",
              " ('Pantheon', 1.3090043633478778),\n",
              " ('Karma', 1.2920043066810223),\n",
              " ('Jinx', 1.2617819837177235),\n",
              " ('Kayle', 1.2183373944579816),\n",
              " ('Gwen', 1.171115014827827),\n",
              " ('Vi', 1.1427815870497346),\n",
              " (\"Vel'Koz\", 1.0577813037154569),\n",
              " ('Shyvana', 1.0502257229746321),\n",
              " ('Talon', 1.0275589807521581),\n",
              " ('Riven', 0.929336431121437),\n",
              " ('Kled', 0.8348916718611284),\n",
              " ('Aphelios', 0.8254471959350975),\n",
              " ('Zoe', 0.8141138248238605),\n",
              " ('Annie', 0.808447139268242),\n",
              " ('Qiyana', 0.8027804537126235),\n",
              " ('Lissandra', 0.7668914451937062),\n",
              " ('Sejuani', 0.7631136548232939),\n",
              " ('Maokai', 0.7366691222304075),\n",
              " ('Quinn', 0.7347802270452013),\n",
              " ('Ornn', 0.7158912751931396),\n",
              " ('Shen', 0.698891218526284),\n",
              " ('Nunu & Willump', 0.6478910485257173),\n",
              " ('Kalista', 0.6403354677848926),\n",
              " ('Poppy', 0.632779887044068),\n",
              " (\"Rek'Sai\", 0.6195576207476247),\n",
              " ('Xayah', 0.6157798303772124),\n",
              " ('Gnar', 0.6101131448215938),\n",
              " ('Neeko', 0.5817797170435013),\n",
              " (\"Kog'Maw\", 0.5742241363026765),\n",
              " ('Xin Zhao', 0.5723352411174704),\n",
              " ('Singed', 0.568557450747058),\n",
              " ('Alistar', 0.5534462892654086),\n",
              " ('Azir', 0.5421129181541716),\n",
              " ('Taliyah', 0.4684460059311309),\n",
              " ('Karthus', 0.44389036852345065),\n",
              " ('Bard', 0.41177915037494567),\n",
              " ('Ziggs', 0.40611246481932717),\n",
              " ('Gragas', 0.3891124081524716),\n",
              " ('Nidalee', 0.37777903704123456),\n",
              " ('Ivern', 0.37211235148561606),\n",
              " ('Rell', 0.34377892370752344),\n",
              " ('Braum', 0.3400011333371111),\n",
              " ('Aurelion Sol', 0.2814453825957198),\n",
              " ('Corki', 0.2814453825957198),\n",
              " ('Jayce', 0.2757786970401012),\n",
              " ('Galio', 0.2720009066696889),\n",
              " ('Taric', 0.2701120114844827),\n",
              " ('Kennen', 0.26255643074365803),\n",
              " ('Jarvan IV', 0.24555637407680247),\n",
              " ('Rumble', 0.24177858370639013),\n",
              " ('Sona', 0.2228896318543284),\n",
              " ('Rakan', 0.21344515592829755),\n",
              " ('Orianna', 0.18322283296499878),\n",
              " ('Ryze', 0.17000056666855556),\n",
              " ('Skarner', 0.11711150148278272),\n",
              " ('Twisted Fate', 0.06611133148221605)]"
            ]
          },
          "metadata": {},
          "execution_count": 45
        }
      ]
    },
    {
      "cell_type": "code",
      "source": [
        "# top 15 banned champions to plot\n",
        "top_ban_rates = sorted_ban_rates[:15]\n",
        "figure(figsize=(15, 10))\n",
        "plt.bar(*zip(*top_ban_rates))\n",
        "plt.title(\"Top 15 banned champions\")\n",
        "plt.xlabel('Champion Name')\n",
        "plt.ylabel('Ban Rate')\n",
        "plt.show()"
      ],
      "metadata": {
        "id": "ygxa7FNyfalW",
        "colab": {
          "base_uri": "https://localhost:8080/",
          "height": 621
        },
        "outputId": "9f81978f-51df-480a-8f03-66a455556db4"
      },
      "execution_count": null,
      "outputs": [
        {
          "output_type": "display_data",
          "data": {
            "text/plain": [
              "<Figure size 1080x720 with 1 Axes>"
            ],
            "image/png": "[encoded data removed]"
          },
          "metadata": {
            "needs_background": "light"
          }
        }
      ]
    },
    {
      "cell_type": "markdown",
      "metadata": {
        "id": "RZjrc9_k-CTX"
      },
      "source": [
        "# Requirement 2"
      ]
    },
    {
      "cell_type": "markdown",
      "metadata": {
        "id": "HSCmKQ3B-CTY"
      },
      "source": [
        "## Champion Synergies or duos.\n",
        "**Champion Synergies or duos** is defined as the number of times 2 champions won together (in the same team) divided by the total number of times these 2 champions played together (same team)\n",
        "\n",
        "*   We firstly found the participants in all Ranked Matches.\n",
        "*   We found all possible duos in all ranked matches.\n",
        "*   We found the count of each possible duos.\n",
        "*   We found the all winning duos.\n",
        "*   We found the count of winning duos.\n",
        "*   Finally, we found the champions synergies by dividing the count that a certian duo won by the number of times that this duo played together.\n",
        "\n",
        "\n",
        "\n",
        "\n"
      ]
    },
    {
      "cell_type": "code",
      "source": [
        "def all_champion_duos(matches):\n",
        "  \"\"\"\n",
        "  This function finds all possible duos\n",
        "  \"\"\"\n",
        "  champion_names= []\n",
        "  count_duos = []\n",
        "  # Get all participants in all matches\n",
        "  participants = matches[\"info\"][\"participants\"]\n",
        "  # Get the champion names of all winning participants\n",
        "  for i in participants:\n",
        "    champion_names.append(i[\"championName\"])\n",
        "  # Form all possible duos between winning champions\n",
        "  temp_duos = combinations(champion_names, 2)\n",
        "  for i in temp_duos:\n",
        "    count_duos.append((tuple(sorted(i)), 1))\n",
        "\n",
        "  return count_duos"
      ],
      "metadata": {
        "id": "bQdkXaVm_tK4"
      },
      "execution_count": null,
      "outputs": []
    },
    {
      "cell_type": "code",
      "source": [
        "def winning_champion_duos(matches):\n",
        "  \"\"\"\n",
        "  This function finds winning duos only\n",
        "  \"\"\"\n",
        "  winning_champion_names= []\n",
        "  count_winning_duos = []\n",
        "  # Get all participants in all matches\n",
        "  participants = matches[\"info\"][\"participants\"]\n",
        "  # Get the champion names of all winning participants\n",
        "  for i in participants:\n",
        "    if i[\"win\"]:\n",
        "      winning_champion_names.append(i[\"championName\"])\n",
        "  # Form all possible duos between winning champions\n",
        "  temp_winning_duos = combinations(winning_champion_names, 2)\n",
        "  for i in temp_winning_duos:\n",
        "    count_winning_duos.append((tuple(sorted(i)), 1))\n",
        "\n",
        "  return count_winning_duos"
      ],
      "metadata": {
        "id": "LPH0gWXZF4E6"
      },
      "execution_count": null,
      "outputs": []
    },
    {
      "cell_type": "code",
      "source": [
        "# Get all possible champion duos from all matches\n",
        "all_duos = ranked_matches_rdd.map(all_champion_duos)\n",
        "\n",
        "# Get the number of count of each duos champions\n",
        "all_duos_count = all_duos.flatMap(lambda x: x).reduceByKey(lambda a, b: a + b)\n",
        "\n",
        "# Get the winning duos\n",
        "winning_duos = ranked_matches_rdd.map(winning_champion_duos)\n",
        "\n",
        "# Get the count of each winning duos\n",
        "winning_duos_count = winning_duos.flatMap(lambda x: x).reduceByKey(lambda a, b: a + b)\n",
        "\n",
        "# Get champion synergies or duos\n",
        "champions_synergies = winning_duos_count.join(all_duos_count).mapValues(lambda x:  round(x[0] *100 / x[1], 2))"
      ],
      "metadata": {
        "id": "gCsccCYvIjr3"
      },
      "execution_count": null,
      "outputs": []
    },
    {
      "cell_type": "code",
      "source": [
        "winning_duos.take(10)"
      ],
      "metadata": {
        "colab": {
          "base_uri": "https://localhost:8080/"
        },
        "id": "ahMiSoWPMQqn",
        "outputId": "9d46ae34-2d8a-427b-fe74-7c5f0af8d63e"
      },
      "execution_count": null,
      "outputs": [
        {
          "output_type": "execute_result",
          "data": {
            "text/plain": [
              "[[(('Aatrox', 'Diana'), 1),\n",
              "  (('Aatrox', 'Vex'), 1),\n",
              "  (('Aatrox', 'Yasuo'), 1),\n",
              "  (('Aatrox', 'Malphite'), 1),\n",
              "  (('Diana', 'Vex'), 1),\n",
              "  (('Diana', 'Yasuo'), 1),\n",
              "  (('Diana', 'Malphite'), 1),\n",
              "  (('Vex', 'Yasuo'), 1),\n",
              "  (('Malphite', 'Vex'), 1),\n",
              "  (('Malphite', 'Yasuo'), 1)],\n",
              " [(('Kled', 'Mordekaiser'), 1),\n",
              "  (('Kled', 'Yasuo'), 1),\n",
              "  (('Ashe', 'Kled'), 1),\n",
              "  (('Kled', 'Morgana'), 1),\n",
              "  (('Mordekaiser', 'Yasuo'), 1),\n",
              "  (('Ashe', 'Mordekaiser'), 1),\n",
              "  (('Mordekaiser', 'Morgana'), 1),\n",
              "  (('Ashe', 'Yasuo'), 1),\n",
              "  (('Morgana', 'Yasuo'), 1),\n",
              "  (('Ashe', 'Morgana'), 1)],\n",
              " [(('Amumu', 'Karthus'), 1),\n",
              "  (('Fizz', 'Karthus'), 1),\n",
              "  (('Caitlyn', 'Karthus'), 1),\n",
              "  (('Karthus', 'Zed'), 1),\n",
              "  (('Amumu', 'Fizz'), 1),\n",
              "  (('Amumu', 'Caitlyn'), 1),\n",
              "  (('Amumu', 'Zed'), 1),\n",
              "  (('Caitlyn', 'Fizz'), 1),\n",
              "  (('Fizz', 'Zed'), 1),\n",
              "  (('Caitlyn', 'Zed'), 1)],\n",
              " [(('Evelynn', 'Irelia'), 1),\n",
              "  (('Akshan', 'Irelia'), 1),\n",
              "  (('Ezreal', 'Irelia'), 1),\n",
              "  (('Irelia', 'Nami'), 1),\n",
              "  (('Akshan', 'Evelynn'), 1),\n",
              "  (('Evelynn', 'Ezreal'), 1),\n",
              "  (('Evelynn', 'Nami'), 1),\n",
              "  (('Akshan', 'Ezreal'), 1),\n",
              "  (('Akshan', 'Nami'), 1),\n",
              "  (('Ezreal', 'Nami'), 1)],\n",
              " [(('Jax', 'Sejuani'), 1),\n",
              "  (('Jax', 'Yone'), 1),\n",
              "  (('Jax', 'MissFortune'), 1),\n",
              "  (('Jax', 'Morgana'), 1),\n",
              "  (('Sejuani', 'Yone'), 1),\n",
              "  (('MissFortune', 'Sejuani'), 1),\n",
              "  (('Morgana', 'Sejuani'), 1),\n",
              "  (('MissFortune', 'Yone'), 1),\n",
              "  (('Morgana', 'Yone'), 1),\n",
              "  (('MissFortune', 'Morgana'), 1)],\n",
              " [(('Gangplank', 'LeeSin'), 1),\n",
              "  (('Gangplank', 'Syndra'), 1),\n",
              "  (('Gangplank', 'Vayne'), 1),\n",
              "  (('Gangplank', 'Senna'), 1),\n",
              "  (('LeeSin', 'Syndra'), 1),\n",
              "  (('LeeSin', 'Vayne'), 1),\n",
              "  (('LeeSin', 'Senna'), 1),\n",
              "  (('Syndra', 'Vayne'), 1),\n",
              "  (('Senna', 'Syndra'), 1),\n",
              "  (('Senna', 'Vayne'), 1)],\n",
              " [(('Chogath', 'Gragas'), 1),\n",
              "  (('Gragas', 'Katarina'), 1),\n",
              "  (('Ezreal', 'Gragas'), 1),\n",
              "  (('Gragas', 'Swain'), 1),\n",
              "  (('Chogath', 'Katarina'), 1),\n",
              "  (('Chogath', 'Ezreal'), 1),\n",
              "  (('Chogath', 'Swain'), 1),\n",
              "  (('Ezreal', 'Katarina'), 1),\n",
              "  (('Katarina', 'Swain'), 1),\n",
              "  (('Ezreal', 'Swain'), 1)],\n",
              " [(('Gnar', 'MasterYi'), 1),\n",
              "  (('Gnar', 'Zed'), 1),\n",
              "  (('Ezreal', 'Gnar'), 1),\n",
              "  (('Gnar', 'Lux'), 1),\n",
              "  (('MasterYi', 'Zed'), 1),\n",
              "  (('Ezreal', 'MasterYi'), 1),\n",
              "  (('Lux', 'MasterYi'), 1),\n",
              "  (('Ezreal', 'Zed'), 1),\n",
              "  (('Lux', 'Zed'), 1),\n",
              "  (('Ezreal', 'Lux'), 1)],\n",
              " [(('KSante', 'Sylas'), 1),\n",
              "  (('Heimerdinger', 'KSante'), 1),\n",
              "  (('Jhin', 'KSante'), 1),\n",
              "  (('Amumu', 'KSante'), 1),\n",
              "  (('Heimerdinger', 'Sylas'), 1),\n",
              "  (('Jhin', 'Sylas'), 1),\n",
              "  (('Amumu', 'Sylas'), 1),\n",
              "  (('Heimerdinger', 'Jhin'), 1),\n",
              "  (('Amumu', 'Heimerdinger'), 1),\n",
              "  (('Amumu', 'Jhin'), 1)],\n",
              " [(('Sion', 'Warwick'), 1),\n",
              "  (('Pantheon', 'Sion'), 1),\n",
              "  (('Aphelios', 'Sion'), 1),\n",
              "  (('Morgana', 'Sion'), 1),\n",
              "  (('Pantheon', 'Warwick'), 1),\n",
              "  (('Aphelios', 'Warwick'), 1),\n",
              "  (('Morgana', 'Warwick'), 1),\n",
              "  (('Aphelios', 'Pantheon'), 1),\n",
              "  (('Morgana', 'Pantheon'), 1),\n",
              "  (('Aphelios', 'Morgana'), 1)]]"
            ]
          },
          "metadata": {},
          "execution_count": 50
        }
      ]
    },
    {
      "cell_type": "code",
      "source": [
        "all_duos.take(10)"
      ],
      "metadata": {
        "colab": {
          "base_uri": "https://localhost:8080/"
        },
        "id": "x4Cw0RIBLi3f",
        "outputId": "60f2c7d7-02a9-4d18-a1c9-351f1b3fa9b5"
      },
      "execution_count": null,
      "outputs": [
        {
          "output_type": "execute_result",
          "data": {
            "text/plain": [
              "[[(('Aatrox', 'Diana'), 1),\n",
              "  (('Aatrox', 'Vex'), 1),\n",
              "  (('Aatrox', 'Yasuo'), 1),\n",
              "  (('Aatrox', 'Malphite'), 1),\n",
              "  (('Aatrox', 'Ornn'), 1),\n",
              "  (('Aatrox', 'Lillia'), 1),\n",
              "  (('Aatrox', 'Yone'), 1),\n",
              "  (('Aatrox', 'MissFortune'), 1),\n",
              "  (('Aatrox', 'Lux'), 1),\n",
              "  (('Diana', 'Vex'), 1),\n",
              "  (('Diana', 'Yasuo'), 1),\n",
              "  (('Diana', 'Malphite'), 1),\n",
              "  (('Diana', 'Ornn'), 1),\n",
              "  (('Diana', 'Lillia'), 1),\n",
              "  (('Diana', 'Yone'), 1),\n",
              "  (('Diana', 'MissFortune'), 1),\n",
              "  (('Diana', 'Lux'), 1),\n",
              "  (('Vex', 'Yasuo'), 1),\n",
              "  (('Malphite', 'Vex'), 1),\n",
              "  (('Ornn', 'Vex'), 1),\n",
              "  (('Lillia', 'Vex'), 1),\n",
              "  (('Vex', 'Yone'), 1),\n",
              "  (('MissFortune', 'Vex'), 1),\n",
              "  (('Lux', 'Vex'), 1),\n",
              "  (('Malphite', 'Yasuo'), 1),\n",
              "  (('Ornn', 'Yasuo'), 1),\n",
              "  (('Lillia', 'Yasuo'), 1),\n",
              "  (('Yasuo', 'Yone'), 1),\n",
              "  (('MissFortune', 'Yasuo'), 1),\n",
              "  (('Lux', 'Yasuo'), 1),\n",
              "  (('Malphite', 'Ornn'), 1),\n",
              "  (('Lillia', 'Malphite'), 1),\n",
              "  (('Malphite', 'Yone'), 1),\n",
              "  (('Malphite', 'MissFortune'), 1),\n",
              "  (('Lux', 'Malphite'), 1),\n",
              "  (('Lillia', 'Ornn'), 1),\n",
              "  (('Ornn', 'Yone'), 1),\n",
              "  (('MissFortune', 'Ornn'), 1),\n",
              "  (('Lux', 'Ornn'), 1),\n",
              "  (('Lillia', 'Yone'), 1),\n",
              "  (('Lillia', 'MissFortune'), 1),\n",
              "  (('Lillia', 'Lux'), 1),\n",
              "  (('MissFortune', 'Yone'), 1),\n",
              "  (('Lux', 'Yone'), 1),\n",
              "  (('Lux', 'MissFortune'), 1)],\n",
              " [(('Kled', 'Mordekaiser'), 1),\n",
              "  (('Kled', 'Yasuo'), 1),\n",
              "  (('Ashe', 'Kled'), 1),\n",
              "  (('Kled', 'Morgana'), 1),\n",
              "  (('Gangplank', 'Kled'), 1),\n",
              "  (('Ekko', 'Kled'), 1),\n",
              "  (('Kled', 'Zed'), 1),\n",
              "  (('Kled', 'Rumble'), 1),\n",
              "  (('Kled', 'MasterYi'), 1),\n",
              "  (('Mordekaiser', 'Yasuo'), 1),\n",
              "  (('Ashe', 'Mordekaiser'), 1),\n",
              "  (('Mordekaiser', 'Morgana'), 1),\n",
              "  (('Gangplank', 'Mordekaiser'), 1),\n",
              "  (('Ekko', 'Mordekaiser'), 1),\n",
              "  (('Mordekaiser', 'Zed'), 1),\n",
              "  (('Mordekaiser', 'Rumble'), 1),\n",
              "  (('MasterYi', 'Mordekaiser'), 1),\n",
              "  (('Ashe', 'Yasuo'), 1),\n",
              "  (('Morgana', 'Yasuo'), 1),\n",
              "  (('Gangplank', 'Yasuo'), 1),\n",
              "  (('Ekko', 'Yasuo'), 1),\n",
              "  (('Yasuo', 'Zed'), 1),\n",
              "  (('Rumble', 'Yasuo'), 1),\n",
              "  (('MasterYi', 'Yasuo'), 1),\n",
              "  (('Ashe', 'Morgana'), 1),\n",
              "  (('Ashe', 'Gangplank'), 1),\n",
              "  (('Ashe', 'Ekko'), 1),\n",
              "  (('Ashe', 'Zed'), 1),\n",
              "  (('Ashe', 'Rumble'), 1),\n",
              "  (('Ashe', 'MasterYi'), 1),\n",
              "  (('Gangplank', 'Morgana'), 1),\n",
              "  (('Ekko', 'Morgana'), 1),\n",
              "  (('Morgana', 'Zed'), 1),\n",
              "  (('Morgana', 'Rumble'), 1),\n",
              "  (('MasterYi', 'Morgana'), 1),\n",
              "  (('Ekko', 'Gangplank'), 1),\n",
              "  (('Gangplank', 'Zed'), 1),\n",
              "  (('Gangplank', 'Rumble'), 1),\n",
              "  (('Gangplank', 'MasterYi'), 1),\n",
              "  (('Ekko', 'Zed'), 1),\n",
              "  (('Ekko', 'Rumble'), 1),\n",
              "  (('Ekko', 'MasterYi'), 1),\n",
              "  (('Rumble', 'Zed'), 1),\n",
              "  (('MasterYi', 'Zed'), 1),\n",
              "  (('MasterYi', 'Rumble'), 1)],\n",
              " [(('Amumu', 'Karthus'), 1),\n",
              "  (('Fizz', 'Karthus'), 1),\n",
              "  (('Caitlyn', 'Karthus'), 1),\n",
              "  (('Karthus', 'Zed'), 1),\n",
              "  (('Gangplank', 'Karthus'), 1),\n",
              "  (('Graves', 'Karthus'), 1),\n",
              "  (('Karthus', 'Yone'), 1),\n",
              "  (('Ashe', 'Karthus'), 1),\n",
              "  (('Janna', 'Karthus'), 1),\n",
              "  (('Amumu', 'Fizz'), 1),\n",
              "  (('Amumu', 'Caitlyn'), 1),\n",
              "  (('Amumu', 'Zed'), 1),\n",
              "  (('Amumu', 'Gangplank'), 1),\n",
              "  (('Amumu', 'Graves'), 1),\n",
              "  (('Amumu', 'Yone'), 1),\n",
              "  (('Amumu', 'Ashe'), 1),\n",
              "  (('Amumu', 'Janna'), 1),\n",
              "  (('Caitlyn', 'Fizz'), 1),\n",
              "  (('Fizz', 'Zed'), 1),\n",
              "  (('Fizz', 'Gangplank'), 1),\n",
              "  (('Fizz', 'Graves'), 1),\n",
              "  (('Fizz', 'Yone'), 1),\n",
              "  (('Ashe', 'Fizz'), 1),\n",
              "  (('Fizz', 'Janna'), 1),\n",
              "  (('Caitlyn', 'Zed'), 1),\n",
              "  (('Caitlyn', 'Gangplank'), 1),\n",
              "  (('Caitlyn', 'Graves'), 1),\n",
              "  (('Caitlyn', 'Yone'), 1),\n",
              "  (('Ashe', 'Caitlyn'), 1),\n",
              "  (('Caitlyn', 'Janna'), 1),\n",
              "  (('Gangplank', 'Zed'), 1),\n",
              "  (('Graves', 'Zed'), 1),\n",
              "  (('Yone', 'Zed'), 1),\n",
              "  (('Ashe', 'Zed'), 1),\n",
              "  (('Janna', 'Zed'), 1),\n",
              "  (('Gangplank', 'Graves'), 1),\n",
              "  (('Gangplank', 'Yone'), 1),\n",
              "  (('Ashe', 'Gangplank'), 1),\n",
              "  (('Gangplank', 'Janna'), 1),\n",
              "  (('Graves', 'Yone'), 1),\n",
              "  (('Ashe', 'Graves'), 1),\n",
              "  (('Graves', 'Janna'), 1),\n",
              "  (('Ashe', 'Yone'), 1),\n",
              "  (('Janna', 'Yone'), 1),\n",
              "  (('Ashe', 'Janna'), 1)],\n",
              " [(('Pantheon', 'Zed'), 1),\n",
              "  (('Katarina', 'Pantheon'), 1),\n",
              "  (('Caitlyn', 'Pantheon'), 1),\n",
              "  (('Lux', 'Pantheon'), 1),\n",
              "  (('Irelia', 'Pantheon'), 1),\n",
              "  (('Evelynn', 'Pantheon'), 1),\n",
              "  (('Akshan', 'Pantheon'), 1),\n",
              "  (('Ezreal', 'Pantheon'), 1),\n",
              "  (('Nami', 'Pantheon'), 1),\n",
              "  (('Katarina', 'Zed'), 1),\n",
              "  (('Caitlyn', 'Zed'), 1),\n",
              "  (('Lux', 'Zed'), 1),\n",
              "  (('Irelia', 'Zed'), 1),\n",
              "  (('Evelynn', 'Zed'), 1),\n",
              "  (('Akshan', 'Zed'), 1),\n",
              "  (('Ezreal', 'Zed'), 1),\n",
              "  (('Nami', 'Zed'), 1),\n",
              "  (('Caitlyn', 'Katarina'), 1),\n",
              "  (('Katarina', 'Lux'), 1),\n",
              "  (('Irelia', 'Katarina'), 1),\n",
              "  (('Evelynn', 'Katarina'), 1),\n",
              "  (('Akshan', 'Katarina'), 1),\n",
              "  (('Ezreal', 'Katarina'), 1),\n",
              "  (('Katarina', 'Nami'), 1),\n",
              "  (('Caitlyn', 'Lux'), 1),\n",
              "  (('Caitlyn', 'Irelia'), 1),\n",
              "  (('Caitlyn', 'Evelynn'), 1),\n",
              "  (('Akshan', 'Caitlyn'), 1),\n",
              "  (('Caitlyn', 'Ezreal'), 1),\n",
              "  (('Caitlyn', 'Nami'), 1),\n",
              "  (('Irelia', 'Lux'), 1),\n",
              "  (('Evelynn', 'Lux'), 1),\n",
              "  (('Akshan', 'Lux'), 1),\n",
              "  (('Ezreal', 'Lux'), 1),\n",
              "  (('Lux', 'Nami'), 1),\n",
              "  (('Evelynn', 'Irelia'), 1),\n",
              "  (('Akshan', 'Irelia'), 1),\n",
              "  (('Ezreal', 'Irelia'), 1),\n",
              "  (('Irelia', 'Nami'), 1),\n",
              "  (('Akshan', 'Evelynn'), 1),\n",
              "  (('Evelynn', 'Ezreal'), 1),\n",
              "  (('Evelynn', 'Nami'), 1),\n",
              "  (('Akshan', 'Ezreal'), 1),\n",
              "  (('Akshan', 'Nami'), 1),\n",
              "  (('Ezreal', 'Nami'), 1)],\n",
              " [(('DrMundo', 'Viego'), 1),\n",
              "  (('Ahri', 'Viego'), 1),\n",
              "  (('Ezreal', 'Viego'), 1),\n",
              "  (('Lux', 'Viego'), 1),\n",
              "  (('Jax', 'Viego'), 1),\n",
              "  (('Sejuani', 'Viego'), 1),\n",
              "  (('Viego', 'Yone'), 1),\n",
              "  (('MissFortune', 'Viego'), 1),\n",
              "  (('Morgana', 'Viego'), 1),\n",
              "  (('Ahri', 'DrMundo'), 1),\n",
              "  (('DrMundo', 'Ezreal'), 1),\n",
              "  (('DrMundo', 'Lux'), 1),\n",
              "  (('DrMundo', 'Jax'), 1),\n",
              "  (('DrMundo', 'Sejuani'), 1),\n",
              "  (('DrMundo', 'Yone'), 1),\n",
              "  (('DrMundo', 'MissFortune'), 1),\n",
              "  (('DrMundo', 'Morgana'), 1),\n",
              "  (('Ahri', 'Ezreal'), 1),\n",
              "  (('Ahri', 'Lux'), 1),\n",
              "  (('Ahri', 'Jax'), 1),\n",
              "  (('Ahri', 'Sejuani'), 1),\n",
              "  (('Ahri', 'Yone'), 1),\n",
              "  (('Ahri', 'MissFortune'), 1),\n",
              "  (('Ahri', 'Morgana'), 1),\n",
              "  (('Ezreal', 'Lux'), 1),\n",
              "  (('Ezreal', 'Jax'), 1),\n",
              "  (('Ezreal', 'Sejuani'), 1),\n",
              "  (('Ezreal', 'Yone'), 1),\n",
              "  (('Ezreal', 'MissFortune'), 1),\n",
              "  (('Ezreal', 'Morgana'), 1),\n",
              "  (('Jax', 'Lux'), 1),\n",
              "  (('Lux', 'Sejuani'), 1),\n",
              "  (('Lux', 'Yone'), 1),\n",
              "  (('Lux', 'MissFortune'), 1),\n",
              "  (('Lux', 'Morgana'), 1),\n",
              "  (('Jax', 'Sejuani'), 1),\n",
              "  (('Jax', 'Yone'), 1),\n",
              "  (('Jax', 'MissFortune'), 1),\n",
              "  (('Jax', 'Morgana'), 1),\n",
              "  (('Sejuani', 'Yone'), 1),\n",
              "  (('MissFortune', 'Sejuani'), 1),\n",
              "  (('Morgana', 'Sejuani'), 1),\n",
              "  (('MissFortune', 'Yone'), 1),\n",
              "  (('Morgana', 'Yone'), 1),\n",
              "  (('MissFortune', 'Morgana'), 1)],\n",
              " [(('KSante', 'Twitch'), 1),\n",
              "  (('KSante', 'Zed'), 1),\n",
              "  (('KSante', 'MissFortune'), 1),\n",
              "  (('KSante', 'Shaco'), 1),\n",
              "  (('Gangplank', 'KSante'), 1),\n",
              "  (('KSante', 'LeeSin'), 1),\n",
              "  (('KSante', 'Syndra'), 1),\n",
              "  (('KSante', 'Vayne'), 1),\n",
              "  (('KSante', 'Senna'), 1),\n",
              "  (('Twitch', 'Zed'), 1),\n",
              "  (('MissFortune', 'Twitch'), 1),\n",
              "  (('Shaco', 'Twitch'), 1),\n",
              "  (('Gangplank', 'Twitch'), 1),\n",
              "  (('LeeSin', 'Twitch'), 1),\n",
              "  (('Syndra', 'Twitch'), 1),\n",
              "  (('Twitch', 'Vayne'), 1),\n",
              "  (('Senna', 'Twitch'), 1),\n",
              "  (('MissFortune', 'Zed'), 1),\n",
              "  (('Shaco', 'Zed'), 1),\n",
              "  (('Gangplank', 'Zed'), 1),\n",
              "  (('LeeSin', 'Zed'), 1),\n",
              "  (('Syndra', 'Zed'), 1),\n",
              "  (('Vayne', 'Zed'), 1),\n",
              "  (('Senna', 'Zed'), 1),\n",
              "  (('MissFortune', 'Shaco'), 1),\n",
              "  (('Gangplank', 'MissFortune'), 1),\n",
              "  (('LeeSin', 'MissFortune'), 1),\n",
              "  (('MissFortune', 'Syndra'), 1),\n",
              "  (('MissFortune', 'Vayne'), 1),\n",
              "  (('MissFortune', 'Senna'), 1),\n",
              "  (('Gangplank', 'Shaco'), 1),\n",
              "  (('LeeSin', 'Shaco'), 1),\n",
              "  (('Shaco', 'Syndra'), 1),\n",
              "  (('Shaco', 'Vayne'), 1),\n",
              "  (('Senna', 'Shaco'), 1),\n",
              "  (('Gangplank', 'LeeSin'), 1),\n",
              "  (('Gangplank', 'Syndra'), 1),\n",
              "  (('Gangplank', 'Vayne'), 1),\n",
              "  (('Gangplank', 'Senna'), 1),\n",
              "  (('LeeSin', 'Syndra'), 1),\n",
              "  (('LeeSin', 'Vayne'), 1),\n",
              "  (('LeeSin', 'Senna'), 1),\n",
              "  (('Syndra', 'Vayne'), 1),\n",
              "  (('Senna', 'Syndra'), 1),\n",
              "  (('Senna', 'Vayne'), 1)],\n",
              " [(('Chogath', 'Gragas'), 1),\n",
              "  (('Gragas', 'Katarina'), 1),\n",
              "  (('Ezreal', 'Gragas'), 1),\n",
              "  (('Gragas', 'Swain'), 1),\n",
              "  (('Gangplank', 'Gragas'), 1),\n",
              "  (('Gragas', 'Nocturne'), 1),\n",
              "  (('Gragas', 'Syndra'), 1),\n",
              "  (('Ashe', 'Gragas'), 1),\n",
              "  (('Gragas', 'Leona'), 1),\n",
              "  (('Chogath', 'Katarina'), 1),\n",
              "  (('Chogath', 'Ezreal'), 1),\n",
              "  (('Chogath', 'Swain'), 1),\n",
              "  (('Chogath', 'Gangplank'), 1),\n",
              "  (('Chogath', 'Nocturne'), 1),\n",
              "  (('Chogath', 'Syndra'), 1),\n",
              "  (('Ashe', 'Chogath'), 1),\n",
              "  (('Chogath', 'Leona'), 1),\n",
              "  (('Ezreal', 'Katarina'), 1),\n",
              "  (('Katarina', 'Swain'), 1),\n",
              "  (('Gangplank', 'Katarina'), 1),\n",
              "  (('Katarina', 'Nocturne'), 1),\n",
              "  (('Katarina', 'Syndra'), 1),\n",
              "  (('Ashe', 'Katarina'), 1),\n",
              "  (('Katarina', 'Leona'), 1),\n",
              "  (('Ezreal', 'Swain'), 1),\n",
              "  (('Ezreal', 'Gangplank'), 1),\n",
              "  (('Ezreal', 'Nocturne'), 1),\n",
              "  (('Ezreal', 'Syndra'), 1),\n",
              "  (('Ashe', 'Ezreal'), 1),\n",
              "  (('Ezreal', 'Leona'), 1),\n",
              "  (('Gangplank', 'Swain'), 1),\n",
              "  (('Nocturne', 'Swain'), 1),\n",
              "  (('Swain', 'Syndra'), 1),\n",
              "  (('Ashe', 'Swain'), 1),\n",
              "  (('Leona', 'Swain'), 1),\n",
              "  (('Gangplank', 'Nocturne'), 1),\n",
              "  (('Gangplank', 'Syndra'), 1),\n",
              "  (('Ashe', 'Gangplank'), 1),\n",
              "  (('Gangplank', 'Leona'), 1),\n",
              "  (('Nocturne', 'Syndra'), 1),\n",
              "  (('Ashe', 'Nocturne'), 1),\n",
              "  (('Leona', 'Nocturne'), 1),\n",
              "  (('Ashe', 'Syndra'), 1),\n",
              "  (('Leona', 'Syndra'), 1),\n",
              "  (('Ashe', 'Leona'), 1)],\n",
              " [(('Gnar', 'MasterYi'), 1),\n",
              "  (('Gnar', 'Zed'), 1),\n",
              "  (('Ezreal', 'Gnar'), 1),\n",
              "  (('Gnar', 'Lux'), 1),\n",
              "  (('Aatrox', 'Gnar'), 1),\n",
              "  (('Gnar', 'Hecarim'), 1),\n",
              "  (('Gnar', 'Talon'), 1),\n",
              "  (('Gnar', 'Irelia'), 1),\n",
              "  (('Gnar', 'Nami'), 1),\n",
              "  (('MasterYi', 'Zed'), 1),\n",
              "  (('Ezreal', 'MasterYi'), 1),\n",
              "  (('Lux', 'MasterYi'), 1),\n",
              "  (('Aatrox', 'MasterYi'), 1),\n",
              "  (('Hecarim', 'MasterYi'), 1),\n",
              "  (('MasterYi', 'Talon'), 1),\n",
              "  (('Irelia', 'MasterYi'), 1),\n",
              "  (('MasterYi', 'Nami'), 1),\n",
              "  (('Ezreal', 'Zed'), 1),\n",
              "  (('Lux', 'Zed'), 1),\n",
              "  (('Aatrox', 'Zed'), 1),\n",
              "  (('Hecarim', 'Zed'), 1),\n",
              "  (('Talon', 'Zed'), 1),\n",
              "  (('Irelia', 'Zed'), 1),\n",
              "  (('Nami', 'Zed'), 1),\n",
              "  (('Ezreal', 'Lux'), 1),\n",
              "  (('Aatrox', 'Ezreal'), 1),\n",
              "  (('Ezreal', 'Hecarim'), 1),\n",
              "  (('Ezreal', 'Talon'), 1),\n",
              "  (('Ezreal', 'Irelia'), 1),\n",
              "  (('Ezreal', 'Nami'), 1),\n",
              "  (('Aatrox', 'Lux'), 1),\n",
              "  (('Hecarim', 'Lux'), 1),\n",
              "  (('Lux', 'Talon'), 1),\n",
              "  (('Irelia', 'Lux'), 1),\n",
              "  (('Lux', 'Nami'), 1),\n",
              "  (('Aatrox', 'Hecarim'), 1),\n",
              "  (('Aatrox', 'Talon'), 1),\n",
              "  (('Aatrox', 'Irelia'), 1),\n",
              "  (('Aatrox', 'Nami'), 1),\n",
              "  (('Hecarim', 'Talon'), 1),\n",
              "  (('Hecarim', 'Irelia'), 1),\n",
              "  (('Hecarim', 'Nami'), 1),\n",
              "  (('Irelia', 'Talon'), 1),\n",
              "  (('Nami', 'Talon'), 1),\n",
              "  (('Irelia', 'Nami'), 1)],\n",
              " [(('KSante', 'Sylas'), 1),\n",
              "  (('Heimerdinger', 'KSante'), 1),\n",
              "  (('Jhin', 'KSante'), 1),\n",
              "  (('Amumu', 'KSante'), 1),\n",
              "  (('Fiora', 'KSante'), 1),\n",
              "  (('Hecarim', 'KSante'), 1),\n",
              "  (('Akali', 'KSante'), 1),\n",
              "  (('Caitlyn', 'KSante'), 1),\n",
              "  (('KSante', 'Leona'), 1),\n",
              "  (('Heimerdinger', 'Sylas'), 1),\n",
              "  (('Jhin', 'Sylas'), 1),\n",
              "  (('Amumu', 'Sylas'), 1),\n",
              "  (('Fiora', 'Sylas'), 1),\n",
              "  (('Hecarim', 'Sylas'), 1),\n",
              "  (('Akali', 'Sylas'), 1),\n",
              "  (('Caitlyn', 'Sylas'), 1),\n",
              "  (('Leona', 'Sylas'), 1),\n",
              "  (('Heimerdinger', 'Jhin'), 1),\n",
              "  (('Amumu', 'Heimerdinger'), 1),\n",
              "  (('Fiora', 'Heimerdinger'), 1),\n",
              "  (('Hecarim', 'Heimerdinger'), 1),\n",
              "  (('Akali', 'Heimerdinger'), 1),\n",
              "  (('Caitlyn', 'Heimerdinger'), 1),\n",
              "  (('Heimerdinger', 'Leona'), 1),\n",
              "  (('Amumu', 'Jhin'), 1),\n",
              "  (('Fiora', 'Jhin'), 1),\n",
              "  (('Hecarim', 'Jhin'), 1),\n",
              "  (('Akali', 'Jhin'), 1),\n",
              "  (('Caitlyn', 'Jhin'), 1),\n",
              "  (('Jhin', 'Leona'), 1),\n",
              "  (('Amumu', 'Fiora'), 1),\n",
              "  (('Amumu', 'Hecarim'), 1),\n",
              "  (('Akali', 'Amumu'), 1),\n",
              "  (('Amumu', 'Caitlyn'), 1),\n",
              "  (('Amumu', 'Leona'), 1),\n",
              "  (('Fiora', 'Hecarim'), 1),\n",
              "  (('Akali', 'Fiora'), 1),\n",
              "  (('Caitlyn', 'Fiora'), 1),\n",
              "  (('Fiora', 'Leona'), 1),\n",
              "  (('Akali', 'Hecarim'), 1),\n",
              "  (('Caitlyn', 'Hecarim'), 1),\n",
              "  (('Hecarim', 'Leona'), 1),\n",
              "  (('Akali', 'Caitlyn'), 1),\n",
              "  (('Akali', 'Leona'), 1),\n",
              "  (('Caitlyn', 'Leona'), 1)],\n",
              " [(('Sion', 'Warwick'), 1),\n",
              "  (('Pantheon', 'Sion'), 1),\n",
              "  (('Aphelios', 'Sion'), 1),\n",
              "  (('Morgana', 'Sion'), 1),\n",
              "  (('Irelia', 'Sion'), 1),\n",
              "  (('MasterYi', 'Sion'), 1),\n",
              "  (('Sion', 'Yone'), 1),\n",
              "  (('Ashe', 'Sion'), 1),\n",
              "  (('Sion', 'Yuumi'), 1),\n",
              "  (('Pantheon', 'Warwick'), 1),\n",
              "  (('Aphelios', 'Warwick'), 1),\n",
              "  (('Morgana', 'Warwick'), 1),\n",
              "  (('Irelia', 'Warwick'), 1),\n",
              "  (('MasterYi', 'Warwick'), 1),\n",
              "  (('Warwick', 'Yone'), 1),\n",
              "  (('Ashe', 'Warwick'), 1),\n",
              "  (('Warwick', 'Yuumi'), 1),\n",
              "  (('Aphelios', 'Pantheon'), 1),\n",
              "  (('Morgana', 'Pantheon'), 1),\n",
              "  (('Irelia', 'Pantheon'), 1),\n",
              "  (('MasterYi', 'Pantheon'), 1),\n",
              "  (('Pantheon', 'Yone'), 1),\n",
              "  (('Ashe', 'Pantheon'), 1),\n",
              "  (('Pantheon', 'Yuumi'), 1),\n",
              "  (('Aphelios', 'Morgana'), 1),\n",
              "  (('Aphelios', 'Irelia'), 1),\n",
              "  (('Aphelios', 'MasterYi'), 1),\n",
              "  (('Aphelios', 'Yone'), 1),\n",
              "  (('Aphelios', 'Ashe'), 1),\n",
              "  (('Aphelios', 'Yuumi'), 1),\n",
              "  (('Irelia', 'Morgana'), 1),\n",
              "  (('MasterYi', 'Morgana'), 1),\n",
              "  (('Morgana', 'Yone'), 1),\n",
              "  (('Ashe', 'Morgana'), 1),\n",
              "  (('Morgana', 'Yuumi'), 1),\n",
              "  (('Irelia', 'MasterYi'), 1),\n",
              "  (('Irelia', 'Yone'), 1),\n",
              "  (('Ashe', 'Irelia'), 1),\n",
              "  (('Irelia', 'Yuumi'), 1),\n",
              "  (('MasterYi', 'Yone'), 1),\n",
              "  (('Ashe', 'MasterYi'), 1),\n",
              "  (('MasterYi', 'Yuumi'), 1),\n",
              "  (('Ashe', 'Yone'), 1),\n",
              "  (('Yone', 'Yuumi'), 1),\n",
              "  (('Ashe', 'Yuumi'), 1)]]"
            ]
          },
          "metadata": {},
          "execution_count": 51
        }
      ]
    },
    {
      "cell_type": "code",
      "source": [
        "champions_synergies.take(10)"
      ],
      "metadata": {
        "id": "5N-sS_jSLWBs",
        "colab": {
          "base_uri": "https://localhost:8080/"
        },
        "outputId": "d6ecf504-4930-4e63-b260-dbbfed8b7aa1"
      },
      "execution_count": null,
      "outputs": [
        {
          "output_type": "execute_result",
          "data": {
            "text/plain": [
              "[(('Jax', 'Sejuani'), 22.66),\n",
              " (('Malzahar', 'Twitch'), 20.85),\n",
              " (('Amumu', 'Twitch'), 22.72),\n",
              " (('Lucian', 'Yasuo'), 24.97),\n",
              " (('Irelia', 'Varus'), 22.67),\n",
              " (('Darius', 'Twitch'), 25.5),\n",
              " (('Kaisa', 'Zyra'), 19.92),\n",
              " (('Jayce', 'Thresh'), 16.67),\n",
              " (('Seraphine', 'Ziggs'), 19.18),\n",
              " (('Hecarim', 'Malzahar'), 26.95)]"
            ]
          },
          "metadata": {},
          "execution_count": 53
        }
      ]
    },
    {
      "cell_type": "code",
      "execution_count": null,
      "metadata": {
        "id": "8Yb8IunuJpTz"
      },
      "outputs": [],
      "source": [
        "# Output file of champions win rates\n",
        "champions_duos = champions_synergies.collect()\n",
        "with open(\"/content/drive/MyDrive/BigData/Output/champions_synergies\", \"w\") as file:\n",
        "    file.write(str(champions_duos))"
      ]
    },
    {
      "cell_type": "code",
      "source": [
        "# top 15 winning champions to plot\n",
        "top_duos = champions_synergies.top(15, key=lambda x:x[1])"
      ],
      "metadata": {
        "id": "r2RGVwyqJpT0"
      },
      "execution_count": null,
      "outputs": []
    },
    {
      "cell_type": "code",
      "source": [
        "top_duos"
      ],
      "metadata": {
        "id": "aXyFzyfnQFsy",
        "colab": {
          "base_uri": "https://localhost:8080/"
        },
        "outputId": "4471df0d-4193-40f3-bc9d-926e857c88c4"
      },
      "execution_count": null,
      "outputs": [
        {
          "output_type": "execute_result",
          "data": {
            "text/plain": [
              "[(('AurelionSol', 'Cassiopeia'), 100.0),\n",
              " (('Corki', 'Ivern'), 100.0),\n",
              " (('AurelionSol', 'Braum'), 100.0),\n",
              " (('Akshan', 'AurelionSol'), 100.0),\n",
              " (('Ivern', 'Kled'), 85.71),\n",
              " (('AurelionSol', 'Kindred'), 83.33),\n",
              " (('Ivern', 'Rumble'), 80.0),\n",
              " (('KogMaw', 'Skarner'), 80.0),\n",
              " (('Ivern', 'Ziggs'), 77.78),\n",
              " (('Quinn', 'Taliyah'), 75.0),\n",
              " (('AurelionSol', 'Neeko'), 66.67),\n",
              " (('Ivern', 'Maokai'), 66.67),\n",
              " (('Braum', 'Ivern'), 66.67),\n",
              " (('Kennen', 'RekSai'), 66.67),\n",
              " (('Chogath', 'Ivern'), 60.0)]"
            ]
          },
          "metadata": {},
          "execution_count": 56
        }
      ]
    },
    {
      "cell_type": "code",
      "source": [
        "a,b=zip(*top_duos)\n",
        "duos=[]\n",
        "for i in a:\n",
        "  duos.append(str(i))\n",
        "plt.figure(figsize=(15, 10));\n",
        "plt.xticks(rotation=50)\n",
        "plt.title(\"Top 15 Synergies\")\n",
        "plt.xlabel('Duos Champions Names')\n",
        "plt.ylabel('Win Rate')\n",
        "plt.bar(duos,b);"
      ],
      "metadata": {
        "id": "n6lbQbdzQaEa",
        "colab": {
          "base_uri": "https://localhost:8080/",
          "height": 722
        },
        "outputId": "47ef78ed-6ef6-4de8-f0c8-38fb7f4569dc"
      },
      "execution_count": null,
      "outputs": [
        {
          "output_type": "display_data",
          "data": {
            "text/plain": [
              "<Figure size 1080x720 with 1 Axes>"
            ],
            "image/png": "[encoded data removed]"
          },
          "metadata": {
            "needs_background": "light"
          }
        }
      ]
    },
    {
      "cell_type": "markdown",
      "metadata": {
        "id": "pPJJPVF4V2Px"
      },
      "source": [
        "# Requirement 3\n",
        "## Item win, pick rates."
      ]
    },
    {
      "cell_type": "markdown",
      "metadata": {
        "id": "8OZpSGl5V2Py"
      },
      "source": [
        "### 1.   Item pick rate: \n",
        "\n",
        "\n",
        "\n",
        "*   We firstly found the participants in all Ranked Matches\n",
        "*   We found the items associated with the participants.\n",
        "*   We found the count of each item.\n",
        "*   Finally, we found the items pick rates.\n",
        "\n",
        "\n"
      ]
    },
    {
      "cell_type": "code",
      "source": [
        "# Get all participants\n",
        "participants = ranked_matches_rdd.map(lambda x:x['info']['participants']).flatMap(lambda x:x)"
      ],
      "metadata": {
        "id": "yHantBmqWySu"
      },
      "execution_count": null,
      "outputs": []
    },
    {
      "cell_type": "code",
      "source": [
        "# Get all items bought by all participants\n",
        "items = participants.map(lambda x: [x['item0'], x['item1'], x['item2'], x['item3'], x['item4'], x['item5']]).flatMap(lambda x: x)"
      ],
      "metadata": {
        "id": "s10UEgaKWz5h"
      },
      "execution_count": null,
      "outputs": []
    },
    {
      "cell_type": "code",
      "source": [
        "# Get the count of each item\n",
        "items_pick = items.map(lambda item: (item, 1))\n",
        "items_pick_count = items_pick.reduceByKey(lambda a, b: a + b)"
      ],
      "metadata": {
        "id": "ggZaaKHgW4fV"
      },
      "execution_count": null,
      "outputs": []
    },
    {
      "cell_type": "code",
      "source": [
        "# Get the the items pick rates\n",
        "items_pick_rate = items_pick_count.map(lambda x: (x[0], round(x[1]  * 100/participants_count, 2)))"
      ],
      "metadata": {
        "id": "ZyInyb6IXDGC"
      },
      "execution_count": null,
      "outputs": []
    },
    {
      "cell_type": "code",
      "source": [
        "print(items_pick_count.take(10))\n",
        "print(items_pick_rate.take(10))"
      ],
      "metadata": {
        "id": "-X2vMFokP2p6",
        "colab": {
          "base_uri": "https://localhost:8080/"
        },
        "outputId": "a3ba9045-d7d3-4b83-a85f-ffde3c75b66e"
      },
      "execution_count": null,
      "outputs": [
        {
          "output_type": "stream",
          "name": "stdout",
          "text": [
            "[(0, 356335), (3864, 6008), (6664, 2288), (3024, 3874), (7000, 81), (6665, 24551), (3193, 4099), (6609, 3819), (7001, 153), (3082, 6459)]\n",
            "[(0, 67.31), (3864, 1.13), (6664, 0.43), (3024, 0.73), (7000, 0.02), (6665, 4.64), (3193, 0.77), (6609, 0.72), (7001, 0.03), (3082, 1.22)]\n"
          ]
        }
      ]
    },
    {
      "cell_type": "code",
      "source": [
        "# Get the pick rate for each item name\n",
        "itemsId_pick_rate_list = [list(i) for i in items_pick_rate.collect()]\n",
        "itemsName_pick_rate = []\n",
        "for j in itemsId_pick_rate_list:\n",
        "  try:\n",
        "     name = items_rdd.map(lambda x: x['data'][str(j[0])]['name'] ).collect()[0]\n",
        "     itemsName_pick_rate.append(tuple([name, j[1]]))\n",
        "  except:\n",
        "    pass"
      ],
      "metadata": {
        "id": "wA0uIcO8ZRKT"
      },
      "execution_count": null,
      "outputs": []
    },
    {
      "cell_type": "code",
      "source": [
        "itemsName_pick_rate"
      ],
      "metadata": {
        "id": "l_I0g1dYbNbt",
        "colab": {
          "base_uri": "https://localhost:8080/"
        },
        "outputId": "02e9d142-7ff5-414b-c0db-39f514daab32"
      },
      "execution_count": null,
      "outputs": [
        {
          "output_type": "execute_result",
          "data": {
            "text/plain": [
              "[('Black Mist Scythe', 1.13),\n",
              " ('Turbo Chemtank', 0.43),\n",
              " ('Glacial Buckler', 0.73),\n",
              " (\"Sandshrike's Claw\", 0.02),\n",
              " (\"Jak'Sho, The Protean\", 4.64),\n",
              " ('Gargoyle Stoneplate', 0.77),\n",
              " ('Chempunk Chainsword', 0.72),\n",
              " ('Syzygy', 0.03),\n",
              " (\"Warden's Mail\", 1.22),\n",
              " ('Guardian Angel', 1.95),\n",
              " (\"Draktharr's Shadowcarver\", 0.02),\n",
              " (\"Warmog's Armor\", 0.49),\n",
              " (\"Giant's Belt\", 3.5),\n",
              " ('Radiant Virtue', 0.63),\n",
              " ('Mercurial Scimitar', 0.22),\n",
              " ('Heartsteel', 3.47),\n",
              " ('Quicksilver Sash', 0.3),\n",
              " (\"Death's Dance\", 6.27),\n",
              " (\"Runaan's Hurricane\", 1.35),\n",
              " ('Frozen Fist', 0.03),\n",
              " (\"Youmuu's Ghostblade\", 1.89),\n",
              " ('Noonquiver', 0.68),\n",
              " ('Zeal', 1.61),\n",
              " ('Edge of Night', 0.96),\n",
              " ('Typhoon', 0.04),\n",
              " ('Infinity Edge', 7.18),\n",
              " ('Wyrmfallen Sacrifice', 0.08),\n",
              " ('Galeforce', 4.83),\n",
              " (\"Randuin's Omen\", 0.88),\n",
              " ('Bloodward', 0.05),\n",
              " ('Kraken Slayer', 10.26),\n",
              " ('Staff of Flowing Water', 0.64),\n",
              " (\"Rabadon's Deathcap\", 5.37),\n",
              " ('Immortal Shieldbow', 6.46),\n",
              " ('Mortal Reminder', 2.57),\n",
              " ('Moonstone Renewer', 1.57),\n",
              " ('Hextech Alternator', 2.28),\n",
              " (\"Icathia's Curse\", 0.01),\n",
              " ('Cloak of Agility', 4.71),\n",
              " ('Vespertide', 0.02),\n",
              " ('Elixir of Iron', 0.01),\n",
              " ('Last Whisper', 2.42),\n",
              " (\"Wit's End\", 2.2),\n",
              " ('Commencing Stopwatch', 0.07),\n",
              " ('Navori Quickblades', 1.01),\n",
              " ('Upgraded Aeropack', 0.03),\n",
              " ('Elixir of Sorcery', 0.03),\n",
              " ('Stopwatch', 1.72),\n",
              " (\"Liandry's Lament\", 0.04),\n",
              " ('The Collector', 7.01),\n",
              " (\"Lord Dominik's Regards\", 5.53),\n",
              " ('Abyssal Mask', 0.31),\n",
              " ('Elixir of Wrath', 0.02),\n",
              " ('Broken Stopwatch', 1.79),\n",
              " ('Rageknife', 0.34),\n",
              " ('Eye of Luden', 0.06),\n",
              " ('Rapid Firecannon', 3.52),\n",
              " ('Slightly Magical Footwear', 0.72),\n",
              " ('Eternal Winter', 0.02),\n",
              " ('Refillable Potion', 6.99),\n",
              " ('Perfectly Timed Stopwatch', 0.14),\n",
              " ('Stormrazor', 0.5),\n",
              " ('Ceaseless Hunger', 0.01),\n",
              " (\"Kalista's Black Spear\", 0.0),\n",
              " ('Hextech Rocketbelt', 3.97),\n",
              " ('Broken Stopwatch', 0.62),\n",
              " (\"Seraph's Embrace\", 1.97),\n",
              " ('Dreamshatter', 0.0),\n",
              " ('Blade of The Ruined King', 9.77),\n",
              " ('Corrupting Potion', 2.0),\n",
              " (\"Mejai's Soulstealer\", 1.9),\n",
              " ('Deicide', 0.02),\n",
              " ('Muramana', 3.29),\n",
              " ('Dark Seal', 3.79),\n",
              " ('Blasting Wand', 3.25),\n",
              " ('Infinity Force', 0.01),\n",
              " (\"Spectre's Cowl\", 0.92),\n",
              " ('Hexdrinker', 0.8),\n",
              " ('Cull', 0.31),\n",
              " ('Sapphire Crystal', 0.21),\n",
              " ('Reliquary of the Golden Dawn', 0.01),\n",
              " ('Lich Bane', 1.5),\n",
              " ('Maw of Malmortius', 1.96),\n",
              " ('Ruby Crystal', 5.16),\n",
              " ('Phage', 0.59),\n",
              " (\"Shurelya's Requiem\", 0.01),\n",
              " (\"Zhonya's Hourglass\", 10.41),\n",
              " ('Cloth Armor', 3.92),\n",
              " ('Starcaster', 0.01),\n",
              " (\"Banshee's Veil\", 0.71),\n",
              " ('Ionian Boots of Lucidity', 14.07),\n",
              " ('Phantom Dancer', 3.99),\n",
              " ('Goredrinker', 2.46),\n",
              " ('Seat of Command', 0.01),\n",
              " ('Plated Steelcaps', 19.33),\n",
              " ('Chain Vest', 3.24),\n",
              " ('Stridebreaker', 1.64),\n",
              " ('Equinox', 0.0),\n",
              " ('Divine Sunderer', 5.28),\n",
              " ('Caesura', 0.01),\n",
              " ('Leviathan', 0.05),\n",
              " ('Aegis of the Legion', 1.03),\n",
              " ('Null-Magic Mantle', 1.99),\n",
              " ('Spear Of Shojin', 0.64),\n",
              " (\"Zeke's Convergence\", 0.76),\n",
              " ('The Unspoken Parasite', 0.14),\n",
              " ('Redemption', 0.66),\n",
              " ('Duskblade of Draktharr', 2.82),\n",
              " ('Hearthbound Axe', 0.8),\n",
              " ('Emberknife', 0.05),\n",
              " ('Primordial Dawn', 0.01),\n",
              " ('Eclipse', 4.9),\n",
              " ('Long Sword', 9.29),\n",
              " ('Fiendish Codex', 2.43),\n",
              " ('Infinite Convergence', 0.0),\n",
              " ('Pickaxe', 4.49),\n",
              " ('Morellonomicon', 3.14),\n",
              " ('Imperial Mandate', 1.14),\n",
              " (\"Prowler's Claw\", 2.43),\n",
              " (\"Sterak's Gage\", 1.05),\n",
              " (\"Knight's Vow\", 0.45),\n",
              " (\"Serylda's Grudge\", 3.02),\n",
              " ('Frozen Heart', 2.19),\n",
              " ('B. F. Sword', 3.11),\n",
              " (\"Mikael's Blessing\", 0.35),\n",
              " (\"Mercury's Treads\", 10.55),\n",
              " ('Hailblade', 0.04),\n",
              " (\"Serpent's Fang\", 0.23),\n",
              " ('Ardent Censer', 0.92),\n",
              " ('Axiom Arc', 0.48),\n",
              " ('Force of Nature', 2.06),\n",
              " ('Sheen', 0.85),\n",
              " ('Evenshroud', 0.94),\n",
              " ('Aether Wisp', 0.45),\n",
              " ('Dagger', 2.17),\n",
              " ('Forbidden Idol', 1.11),\n",
              " (\"Nashor's Tooth\", 4.41),\n",
              " ('Recurve Bow', 1.26),\n",
              " (\"Archangel's Staff\", 0.12),\n",
              " ('Horizon Focus', 1.07),\n",
              " (\"Rylai's Crystal Scepter\", 3.82),\n",
              " ('Essence Reaver', 2.95),\n",
              " ('Manamune', 0.29),\n",
              " ('Mobility Boots', 2.36),\n",
              " ('Ironspike Whip', 0.11),\n",
              " ('Scorchclaw Pup', 0.62),\n",
              " ('Cosmic Drive', 0.99),\n",
              " (\"Berserker's Greaves\", 20.8),\n",
              " ('Blighting Jewel', 1.12),\n",
              " ('Gustwalker Hatchling', 0.37),\n",
              " ('Control Ward', 8.14),\n",
              " ('Mosstomper Seedling', 0.95),\n",
              " (\"Winter's Approach\", 0.06),\n",
              " ('Verdant Barrier', 0.23),\n",
              " ('Your Cut', 0.04),\n",
              " ('Riftmaker', 2.09),\n",
              " ('Spirit Visage', 2.21),\n",
              " ('Fimbulwinter', 0.35),\n",
              " ('Boots of Swiftness', 3.74),\n",
              " (\"Spellthief's Edge\", 0.31),\n",
              " ('Winged Moonplate', 1.22),\n",
              " (\"Executioner's Calling\", 1.61),\n",
              " ('Umbral Glaive', 1.54),\n",
              " ('Kindlegem', 3.88),\n",
              " ('Health Potion', 2.46),\n",
              " ('Chemtech Putrifier', 2.24),\n",
              " ('Leeching Leer', 0.14),\n",
              " ('Frostfang', 0.57),\n",
              " ('Silvermere Dawn', 0.08),\n",
              " ('Sunfire Aegis', 4.53),\n",
              " ('Amplifying Tome', 5.61),\n",
              " ('Night Harvester', 2.0),\n",
              " (\"Guinsoo's Rageblade\", 2.22),\n",
              " (\"Liandry's Anguish\", 7.23),\n",
              " ('Shard of True Ice', 11.21),\n",
              " ('Demonic Embrace', 4.67),\n",
              " ('Vampiric Scepter', 2.73),\n",
              " ('Hullbreaker', 0.84),\n",
              " ('Tear of the Goddess', 2.33),\n",
              " (\"Doran's Shield\", 4.49),\n",
              " (\"Dead Man's Plate\", 1.9),\n",
              " ('Steel Shoulderguards', 0.08),\n",
              " ('Watchful Wardstone', 0.02),\n",
              " ('Black Cleaver', 3.35),\n",
              " (\"Luden's Tempest\", 7.74),\n",
              " (\"Doran's Blade\", 9.18),\n",
              " ('Runesteel Spaulders', 0.43),\n",
              " ('Bloodthirster', 2.12),\n",
              " ('Everfrost', 2.36),\n",
              " (\"Doran's Ring\", 4.63),\n",
              " ('Pauldrons of Whiterock', 1.66),\n",
              " (\"Shurelya's Battlesong\", 2.51),\n",
              " ('Boots', 2.15),\n",
              " ('Crystalline Bracer', 0.44),\n",
              " ('Negatron Cloak', 1.26),\n",
              " ('Rod of Ages', 0.96),\n",
              " (\"Anathema's Chains\", 0.26),\n",
              " ('Needlessly Large Rod', 5.35),\n",
              " ('Ravenous Hydra', 6.84),\n",
              " ('Relic Shield', 0.13),\n",
              " ('Lost Chapter', 0.63),\n",
              " ('Total Biscuit of Everlasting Will', 0.43),\n",
              " ('Bandleglass Mirror', 0.52),\n",
              " ('Thornmail', 5.64),\n",
              " (\"Targon's Buckler\", 0.67),\n",
              " ('Minion Dematerializer', 0.07),\n",
              " ('Catalyst of Aeons', 0.09),\n",
              " ('Vigilant Wardstone', 0.27),\n",
              " (\"Sorcerer's Shoes\", 21.37),\n",
              " ('Oblivion Orb', 2.71),\n",
              " ('Bramble Vest', 2.94),\n",
              " ('Titanic Hydra', 2.09),\n",
              " (\"Bami's Cinder\", 0.79),\n",
              " ('Bulwark of the Mountain', 2.99),\n",
              " ('Faerie Charm', 0.56),\n",
              " ('Crown of the Shattered Queen', 0.74),\n",
              " ('Shadowflame', 7.39),\n",
              " (\"Caulfield's Warhammer\", 5.44),\n",
              " ('Tiamat', 1.61),\n",
              " ('Serrated Dirk', 2.55),\n",
              " ('Trinity Force', 2.35),\n",
              " ('Iceborn Gauntlet', 1.71),\n",
              " ('Locket of the Iron Solari', 2.02),\n",
              " ('Spectral Sickle', 0.03),\n",
              " ('Rejuvenation Bead', 0.13),\n",
              " ('Void Staff', 2.73),\n",
              " (\"Seeker's Armguard\", 1.98),\n",
              " ('Kircheis Shard', 0.45),\n",
              " ('Harrowing Crescent', 0.04)]"
            ]
          },
          "metadata": {},
          "execution_count": 64
        }
      ]
    },
    {
      "cell_type": "code",
      "source": [
        "# Output file of champions ban rates\n",
        "with open(\"/content/drive/MyDrive/BigData/Output/itemsNames_pick_rate\", \"w\") as file:\n",
        "    file.write(str(itemsName_pick_rate))"
      ],
      "metadata": {
        "id": "9E5m8rJdbak6"
      },
      "execution_count": null,
      "outputs": []
    },
    {
      "cell_type": "code",
      "source": [
        "# sorted banned champions\n",
        "sorted_items_pick_rates = sorted(itemsName_pick_rate, key=lambda x: x[1], reverse=True)"
      ],
      "metadata": {
        "id": "k55xf1txbak7"
      },
      "execution_count": null,
      "outputs": []
    },
    {
      "cell_type": "code",
      "source": [
        "sorted_items_pick_rates"
      ],
      "metadata": {
        "id": "qz1g52Nvbak7",
        "colab": {
          "base_uri": "https://localhost:8080/"
        },
        "outputId": "379b46d2-92e5-4b77-adaf-9f370eefcabc"
      },
      "execution_count": null,
      "outputs": [
        {
          "output_type": "execute_result",
          "data": {
            "text/plain": [
              "[(\"Sorcerer's Shoes\", 21.37),\n",
              " (\"Berserker's Greaves\", 20.8),\n",
              " ('Plated Steelcaps', 19.33),\n",
              " ('Ionian Boots of Lucidity', 14.07),\n",
              " ('Shard of True Ice', 11.21),\n",
              " (\"Mercury's Treads\", 10.55),\n",
              " (\"Zhonya's Hourglass\", 10.41),\n",
              " ('Kraken Slayer', 10.26),\n",
              " ('Blade of The Ruined King', 9.77),\n",
              " ('Long Sword', 9.29),\n",
              " (\"Doran's Blade\", 9.18),\n",
              " ('Control Ward', 8.14),\n",
              " (\"Luden's Tempest\", 7.74),\n",
              " ('Shadowflame', 7.39),\n",
              " (\"Liandry's Anguish\", 7.23),\n",
              " ('Infinity Edge', 7.18),\n",
              " ('The Collector', 7.01),\n",
              " ('Refillable Potion', 6.99),\n",
              " ('Ravenous Hydra', 6.84),\n",
              " ('Immortal Shieldbow', 6.46),\n",
              " (\"Death's Dance\", 6.27),\n",
              " ('Thornmail', 5.64),\n",
              " ('Amplifying Tome', 5.61),\n",
              " (\"Lord Dominik's Regards\", 5.53),\n",
              " (\"Caulfield's Warhammer\", 5.44),\n",
              " (\"Rabadon's Deathcap\", 5.37),\n",
              " ('Needlessly Large Rod', 5.35),\n",
              " ('Divine Sunderer', 5.28),\n",
              " ('Ruby Crystal', 5.16),\n",
              " ('Eclipse', 4.9),\n",
              " ('Galeforce', 4.83),\n",
              " ('Cloak of Agility', 4.71),\n",
              " ('Demonic Embrace', 4.67),\n",
              " (\"Jak'Sho, The Protean\", 4.64),\n",
              " (\"Doran's Ring\", 4.63),\n",
              " ('Sunfire Aegis', 4.53),\n",
              " ('Pickaxe', 4.49),\n",
              " (\"Doran's Shield\", 4.49),\n",
              " (\"Nashor's Tooth\", 4.41),\n",
              " ('Phantom Dancer', 3.99),\n",
              " ('Hextech Rocketbelt', 3.97),\n",
              " ('Cloth Armor', 3.92),\n",
              " ('Kindlegem', 3.88),\n",
              " (\"Rylai's Crystal Scepter\", 3.82),\n",
              " ('Dark Seal', 3.79),\n",
              " ('Boots of Swiftness', 3.74),\n",
              " ('Rapid Firecannon', 3.52),\n",
              " (\"Giant's Belt\", 3.5),\n",
              " ('Heartsteel', 3.47),\n",
              " ('Black Cleaver', 3.35),\n",
              " ('Muramana', 3.29),\n",
              " ('Blasting Wand', 3.25),\n",
              " ('Chain Vest', 3.24),\n",
              " ('Morellonomicon', 3.14),\n",
              " ('B. F. Sword', 3.11),\n",
              " (\"Serylda's Grudge\", 3.02),\n",
              " ('Bulwark of the Mountain', 2.99),\n",
              " ('Essence Reaver', 2.95),\n",
              " ('Bramble Vest', 2.94),\n",
              " ('Duskblade of Draktharr', 2.82),\n",
              " ('Vampiric Scepter', 2.73),\n",
              " ('Void Staff', 2.73),\n",
              " ('Oblivion Orb', 2.71),\n",
              " ('Mortal Reminder', 2.57),\n",
              " ('Serrated Dirk', 2.55),\n",
              " (\"Shurelya's Battlesong\", 2.51),\n",
              " ('Goredrinker', 2.46),\n",
              " ('Health Potion', 2.46),\n",
              " ('Fiendish Codex', 2.43),\n",
              " (\"Prowler's Claw\", 2.43),\n",
              " ('Last Whisper', 2.42),\n",
              " ('Mobility Boots', 2.36),\n",
              " ('Everfrost', 2.36),\n",
              " ('Trinity Force', 2.35),\n",
              " ('Tear of the Goddess', 2.33),\n",
              " ('Hextech Alternator', 2.28),\n",
              " ('Chemtech Putrifier', 2.24),\n",
              " (\"Guinsoo's Rageblade\", 2.22),\n",
              " ('Spirit Visage', 2.21),\n",
              " (\"Wit's End\", 2.2),\n",
              " ('Frozen Heart', 2.19),\n",
              " ('Dagger', 2.17),\n",
              " ('Boots', 2.15),\n",
              " ('Bloodthirster', 2.12),\n",
              " ('Riftmaker', 2.09),\n",
              " ('Titanic Hydra', 2.09),\n",
              " ('Force of Nature', 2.06),\n",
              " ('Locket of the Iron Solari', 2.02),\n",
              " ('Corrupting Potion', 2.0),\n",
              " ('Night Harvester', 2.0),\n",
              " ('Null-Magic Mantle', 1.99),\n",
              " (\"Seeker's Armguard\", 1.98),\n",
              " (\"Seraph's Embrace\", 1.97),\n",
              " ('Maw of Malmortius', 1.96),\n",
              " ('Guardian Angel', 1.95),\n",
              " (\"Mejai's Soulstealer\", 1.9),\n",
              " (\"Dead Man's Plate\", 1.9),\n",
              " (\"Youmuu's Ghostblade\", 1.89),\n",
              " ('Broken Stopwatch', 1.79),\n",
              " ('Stopwatch', 1.72),\n",
              " ('Iceborn Gauntlet', 1.71),\n",
              " ('Pauldrons of Whiterock', 1.66),\n",
              " ('Stridebreaker', 1.64),\n",
              " ('Zeal', 1.61),\n",
              " (\"Executioner's Calling\", 1.61),\n",
              " ('Tiamat', 1.61),\n",
              " ('Moonstone Renewer', 1.57),\n",
              " ('Umbral Glaive', 1.54),\n",
              " ('Lich Bane', 1.5),\n",
              " (\"Runaan's Hurricane\", 1.35),\n",
              " ('Recurve Bow', 1.26),\n",
              " ('Negatron Cloak', 1.26),\n",
              " (\"Warden's Mail\", 1.22),\n",
              " ('Winged Moonplate', 1.22),\n",
              " ('Imperial Mandate', 1.14),\n",
              " ('Black Mist Scythe', 1.13),\n",
              " ('Blighting Jewel', 1.12),\n",
              " ('Forbidden Idol', 1.11),\n",
              " ('Horizon Focus', 1.07),\n",
              " (\"Sterak's Gage\", 1.05),\n",
              " ('Aegis of the Legion', 1.03),\n",
              " ('Navori Quickblades', 1.01),\n",
              " ('Cosmic Drive', 0.99),\n",
              " ('Edge of Night', 0.96),\n",
              " ('Rod of Ages', 0.96),\n",
              " ('Mosstomper Seedling', 0.95),\n",
              " ('Evenshroud', 0.94),\n",
              " (\"Spectre's Cowl\", 0.92),\n",
              " ('Ardent Censer', 0.92),\n",
              " (\"Randuin's Omen\", 0.88),\n",
              " ('Sheen', 0.85),\n",
              " ('Hullbreaker', 0.84),\n",
              " ('Hexdrinker', 0.8),\n",
              " ('Hearthbound Axe', 0.8),\n",
              " (\"Bami's Cinder\", 0.79),\n",
              " ('Gargoyle Stoneplate', 0.77),\n",
              " (\"Zeke's Convergence\", 0.76),\n",
              " ('Crown of the Shattered Queen', 0.74),\n",
              " ('Glacial Buckler', 0.73),\n",
              " ('Chempunk Chainsword', 0.72),\n",
              " ('Slightly Magical Footwear', 0.72),\n",
              " (\"Banshee's Veil\", 0.71),\n",
              " ('Noonquiver', 0.68),\n",
              " (\"Targon's Buckler\", 0.67),\n",
              " ('Redemption', 0.66),\n",
              " ('Staff of Flowing Water', 0.64),\n",
              " ('Spear Of Shojin', 0.64),\n",
              " ('Radiant Virtue', 0.63),\n",
              " ('Lost Chapter', 0.63),\n",
              " ('Broken Stopwatch', 0.62),\n",
              " ('Scorchclaw Pup', 0.62),\n",
              " ('Phage', 0.59),\n",
              " ('Frostfang', 0.57),\n",
              " ('Faerie Charm', 0.56),\n",
              " ('Bandleglass Mirror', 0.52),\n",
              " ('Stormrazor', 0.5),\n",
              " (\"Warmog's Armor\", 0.49),\n",
              " ('Axiom Arc', 0.48),\n",
              " (\"Knight's Vow\", 0.45),\n",
              " ('Aether Wisp', 0.45),\n",
              " ('Kircheis Shard', 0.45),\n",
              " ('Crystalline Bracer', 0.44),\n",
              " ('Turbo Chemtank', 0.43),\n",
              " ('Runesteel Spaulders', 0.43),\n",
              " ('Total Biscuit of Everlasting Will', 0.43),\n",
              " ('Gustwalker Hatchling', 0.37),\n",
              " (\"Mikael's Blessing\", 0.35),\n",
              " ('Fimbulwinter', 0.35),\n",
              " ('Rageknife', 0.34),\n",
              " ('Abyssal Mask', 0.31),\n",
              " ('Cull', 0.31),\n",
              " (\"Spellthief's Edge\", 0.31),\n",
              " ('Quicksilver Sash', 0.3),\n",
              " ('Manamune', 0.29),\n",
              " ('Vigilant Wardstone', 0.27),\n",
              " (\"Anathema's Chains\", 0.26),\n",
              " (\"Serpent's Fang\", 0.23),\n",
              " ('Verdant Barrier', 0.23),\n",
              " ('Mercurial Scimitar', 0.22),\n",
              " ('Sapphire Crystal', 0.21),\n",
              " ('Perfectly Timed Stopwatch', 0.14),\n",
              " ('The Unspoken Parasite', 0.14),\n",
              " ('Leeching Leer', 0.14),\n",
              " ('Relic Shield', 0.13),\n",
              " ('Rejuvenation Bead', 0.13),\n",
              " (\"Archangel's Staff\", 0.12),\n",
              " ('Ironspike Whip', 0.11),\n",
              " ('Catalyst of Aeons', 0.09),\n",
              " ('Wyrmfallen Sacrifice', 0.08),\n",
              " ('Silvermere Dawn', 0.08),\n",
              " ('Steel Shoulderguards', 0.08),\n",
              " ('Commencing Stopwatch', 0.07),\n",
              " ('Minion Dematerializer', 0.07),\n",
              " ('Eye of Luden', 0.06),\n",
              " (\"Winter's Approach\", 0.06),\n",
              " ('Bloodward', 0.05),\n",
              " ('Leviathan', 0.05),\n",
              " ('Emberknife', 0.05),\n",
              " ('Typhoon', 0.04),\n",
              " (\"Liandry's Lament\", 0.04),\n",
              " ('Hailblade', 0.04),\n",
              " ('Your Cut', 0.04),\n",
              " ('Harrowing Crescent', 0.04),\n",
              " ('Syzygy', 0.03),\n",
              " ('Frozen Fist', 0.03),\n",
              " ('Upgraded Aeropack', 0.03),\n",
              " ('Elixir of Sorcery', 0.03),\n",
              " ('Spectral Sickle', 0.03),\n",
              " (\"Sandshrike's Claw\", 0.02),\n",
              " (\"Draktharr's Shadowcarver\", 0.02),\n",
              " ('Vespertide', 0.02),\n",
              " ('Elixir of Wrath', 0.02),\n",
              " ('Eternal Winter', 0.02),\n",
              " ('Deicide', 0.02),\n",
              " ('Watchful Wardstone', 0.02),\n",
              " (\"Icathia's Curse\", 0.01),\n",
              " ('Elixir of Iron', 0.01),\n",
              " ('Ceaseless Hunger', 0.01),\n",
              " ('Infinity Force', 0.01),\n",
              " ('Reliquary of the Golden Dawn', 0.01),\n",
              " (\"Shurelya's Requiem\", 0.01),\n",
              " ('Starcaster', 0.01),\n",
              " ('Seat of Command', 0.01),\n",
              " ('Caesura', 0.01),\n",
              " ('Primordial Dawn', 0.01),\n",
              " (\"Kalista's Black Spear\", 0.0),\n",
              " ('Dreamshatter', 0.0),\n",
              " ('Equinox', 0.0),\n",
              " ('Infinite Convergence', 0.0)]"
            ]
          },
          "metadata": {},
          "execution_count": 67
        }
      ]
    },
    {
      "cell_type": "code",
      "source": [
        "# top 15 picked items to plot\n",
        "top_items_pick_rates = sorted_items_pick_rates[:15]\n",
        "figure(figsize=(35, 10), dpi=80)\n",
        "plt.bar(*zip(*top_items_pick_rates))\n",
        "plt.title(\"Top 15 picked items\")\n",
        "plt.xlabel('Item Name')\n",
        "plt.ylabel('Pick Rate')\n",
        "plt.show()"
      ],
      "metadata": {
        "id": "wtknKYYibak7",
        "colab": {
          "base_uri": "https://localhost:8080/",
          "height": 438
        },
        "outputId": "793f645c-b0c8-4849-f4d8-c2d6113d3079"
      },
      "execution_count": null,
      "outputs": [
        {
          "output_type": "display_data",
          "data": {
            "text/plain": [
              "<Figure size 2800x800 with 1 Axes>"
            ],
            "image/png": "[encoded data removed]"
          },
          "metadata": {
            "needs_background": "light"
          }
        }
      ]
    },
    {
      "cell_type": "markdown",
      "source": [
        "### 2.   Item win rate: \n",
        "\n",
        "\n",
        "\n",
        "*   We firstly found the participants who winning in all Ranked Matches\n",
        "*   We found the items assosiated with the winning participants.\n",
        "*   We found the count of each winning item.\n",
        "*   Finally, we found the items win rates.\n",
        "\n"
      ],
      "metadata": {
        "id": "zx_h-eamYrL5"
      }
    },
    {
      "cell_type": "code",
      "execution_count": null,
      "metadata": {
        "id": "gzu_ET7fYrL5"
      },
      "outputs": [],
      "source": [
        "# Get winning participants\n",
        "winning_participants = participants.filter(lambda x: x['win'] == True)"
      ]
    },
    {
      "cell_type": "code",
      "source": [
        "# Get all items bought by winning participants\n",
        "winning_items = winning_participants.map(lambda x: [x['item0'], x['item1'], x['item2'], x['item3'], x['item4'], x['item5']]).flatMap(lambda x: x)"
      ],
      "metadata": {
        "id": "nVO2YxmVm6VM"
      },
      "execution_count": null,
      "outputs": []
    },
    {
      "cell_type": "code",
      "source": [
        "# Get the count of each item\n",
        "items_win = winning_items.map(lambda item: (item, 1))\n",
        "items_win_count = items_win.reduceByKey(lambda a, b: a + b)"
      ],
      "metadata": {
        "id": "4SSEoTqPm6VN"
      },
      "execution_count": null,
      "outputs": []
    },
    {
      "cell_type": "code",
      "source": [
        "# Get the the items pick rates\n",
        "items_win_rate = items_win_count.join(items_pick_count).mapValues(lambda x: round(x[0] *100 / x[1], 2))"
      ],
      "metadata": {
        "id": "W8V13calm6VN"
      },
      "execution_count": null,
      "outputs": []
    },
    {
      "cell_type": "code",
      "source": [
        "print(items_win_count.take(10))\n",
        "print(items_win_rate.take(10))"
      ],
      "metadata": {
        "id": "bvd-Kppdm6VN",
        "colab": {
          "base_uri": "https://localhost:8080/"
        },
        "outputId": "682505a9-730c-49d0-c894-36959371d67e"
      },
      "execution_count": null,
      "outputs": [
        {
          "output_type": "stream",
          "name": "stdout",
          "text": [
            "[(0, 155706), (3864, 3016), (3024, 1855), (6664, 1256), (7000, 69), (6665, 13061), (3193, 2350), (6609, 1934), (7001, 96), (3082, 3154)]\n",
            "[(0, 43.7), (3864, 50.2), (3024, 47.88), (6664, 54.9), (7000, 85.19), (6665, 53.2), (3193, 57.33), (6609, 50.64), (7001, 62.75), (3082, 48.83)]\n"
          ]
        }
      ]
    },
    {
      "cell_type": "code",
      "source": [
        "# Get the win rate for each item name\n",
        "itemsId_win_rate_list = [list(i) for i in items_win_rate.collect()]\n",
        "itemsName_win_rate = []\n",
        "for j in itemsId_win_rate_list:\n",
        "  try:\n",
        "     name = items_rdd.map(lambda x: x['data'][str(j[0])]['name'] ).collect()[0]\n",
        "     itemsName_win_rate.append(tuple([name, j[1]]))\n",
        "  except:\n",
        "    pass"
      ],
      "metadata": {
        "id": "EFLa-Yocm6VN"
      },
      "execution_count": null,
      "outputs": []
    },
    {
      "cell_type": "code",
      "source": [
        "itemsName_win_rate"
      ],
      "metadata": {
        "id": "9XEXgab6m6VN",
        "colab": {
          "base_uri": "https://localhost:8080/"
        },
        "outputId": "ad10c99d-05b5-43d4-d470-6a46fdea0570"
      },
      "execution_count": null,
      "outputs": [
        {
          "output_type": "execute_result",
          "data": {
            "text/plain": [
              "[('Black Mist Scythe', 50.2),\n",
              " ('Glacial Buckler', 47.88),\n",
              " ('Turbo Chemtank', 54.9),\n",
              " (\"Sandshrike's Claw\", 85.19),\n",
              " (\"Jak'Sho, The Protean\", 53.2),\n",
              " ('Gargoyle Stoneplate', 57.33),\n",
              " ('Chempunk Chainsword', 50.64),\n",
              " ('Syzygy', 62.75),\n",
              " (\"Warden's Mail\", 48.83),\n",
              " ('Guardian Angel', 61.96),\n",
              " (\"Draktharr's Shadowcarver\", 60.71),\n",
              " (\"Giant's Belt\", 47.5),\n",
              " ('Radiant Virtue', 53.79),\n",
              " (\"Warmog's Armor\", 57.57),\n",
              " ('Mercurial Scimitar', 57.3),\n",
              " ('Heartsteel', 52.49),\n",
              " ('Quicksilver Sash', 51.93),\n",
              " (\"Death's Dance\", 56.74),\n",
              " (\"Runaan's Hurricane\", 55.15),\n",
              " ('Frozen Fist', 59.21),\n",
              " (\"Youmuu's Ghostblade\", 52.78),\n",
              " ('Zeal', 47.28),\n",
              " ('Edge of Night', 55.33),\n",
              " ('Noonquiver', 29.22),\n",
              " ('Typhoon', 62.0),\n",
              " ('Infinity Edge', 58.36),\n",
              " ('Galeforce', 50.98),\n",
              " (\"Randuin's Omen\", 53.06),\n",
              " ('Wyrmfallen Sacrifice', 59.3),\n",
              " ('Kraken Slayer', 50.88),\n",
              " ('Staff of Flowing Water', 57.47),\n",
              " ('Bloodward', 65.32),\n",
              " (\"Rabadon's Deathcap\", 58.98),\n",
              " ('Immortal Shieldbow', 51.77),\n",
              " ('Mortal Reminder', 52.66),\n",
              " ('Moonstone Renewer', 50.27),\n",
              " ('Hextech Alternator', 44.84),\n",
              " (\"Icathia's Curse\", 70.83),\n",
              " ('Cloak of Agility', 42.84),\n",
              " ('Vespertide', 67.5),\n",
              " ('Elixir of Iron', 61.54),\n",
              " ('Last Whisper', 48.56),\n",
              " (\"Wit's End\", 56.19),\n",
              " ('Commencing Stopwatch', 44.89),\n",
              " ('Upgraded Aeropack', 64.38),\n",
              " ('Navori Quickblades', 55.08),\n",
              " ('Elixir of Sorcery', 50.69),\n",
              " ('Stopwatch', 54.59),\n",
              " (\"Lord Dominik's Regards\", 53.93),\n",
              " ('The Collector', 55.16),\n",
              " ('Abyssal Mask', 60.57),\n",
              " ('Elixir of Wrath', 50.88),\n",
              " (\"Liandry's Lament\", 61.93),\n",
              " ('Broken Stopwatch', 52.45),\n",
              " ('Rageknife', 42.78),\n",
              " ('Eye of Luden', 64.69),\n",
              " ('Rapid Firecannon', 54.49),\n",
              " ('Slightly Magical Footwear', 34.9),\n",
              " ('Eternal Winter', 56.67),\n",
              " ('Refillable Potion', 45.78),\n",
              " ('Perfectly Timed Stopwatch', 48.61),\n",
              " ('Stormrazor', 54.74),\n",
              " ('Ceaseless Hunger', 60.0),\n",
              " (\"Kalista's Black Spear\", 8.33),\n",
              " ('Hextech Rocketbelt', 51.46),\n",
              " ('Broken Stopwatch', 42.87),\n",
              " (\"Seraph's Embrace\", 53.67),\n",
              " ('Dreamshatter', 50.0),\n",
              " ('Blade of The Ruined King', 52.56),\n",
              " ('Corrupting Potion', 46.29),\n",
              " (\"Mejai's Soulstealer\", 76.62),\n",
              " ('Deicide', 65.98),\n",
              " ('Dark Seal', 50.69),\n",
              " ('Muramana', 52.54),\n",
              " ('Blasting Wand', 47.75),\n",
              " ('Infinity Force', 70.69),\n",
              " ('Hexdrinker', 51.51),\n",
              " ('Cull', 40.38),\n",
              " (\"Spectre's Cowl\", 51.67),\n",
              " ('Sapphire Crystal', 40.61),\n",
              " ('Reliquary of the Golden Dawn', 65.79),\n",
              " ('Lich Bane', 55.16),\n",
              " ('Ruby Crystal', 46.8),\n",
              " ('Phage', 53.09),\n",
              " ('Maw of Malmortius', 55.92),\n",
              " (\"Shurelya's Requiem\", 62.3),\n",
              " (\"Zhonya's Hourglass\", 53.61),\n",
              " ('Cloth Armor', 46.15),\n",
              " ('Starcaster', 65.96),\n",
              " (\"Banshee's Veil\", 54.94),\n",
              " ('Ionian Boots of Lucidity', 50.97),\n",
              " ('Phantom Dancer', 53.97),\n",
              " ('Goredrinker', 49.93),\n",
              " ('Seat of Command', 61.22),\n",
              " ('Plated Steelcaps', 49.99),\n",
              " ('Chain Vest', 47.23),\n",
              " ('Stridebreaker', 53.45),\n",
              " ('Equinox', 82.35),\n",
              " ('Divine Sunderer', 50.97),\n",
              " ('Caesura', 63.41),\n",
              " ('Null-Magic Mantle', 45.42),\n",
              " ('Aegis of the Legion', 45.82),\n",
              " ('Spear Of Shojin', 60.48),\n",
              " ('Leviathan', 59.26),\n",
              " (\"Zeke's Convergence\", 58.29),\n",
              " ('The Unspoken Parasite', 56.12),\n",
              " ('Hearthbound Axe', 44.44),\n",
              " ('Duskblade of Draktharr', 49.34),\n",
              " ('Redemption', 59.31),\n",
              " ('Emberknife', 45.21),\n",
              " ('Primordial Dawn', 66.67),\n",
              " ('Eclipse', 50.69),\n",
              " ('Long Sword', 43.08),\n",
              " ('Fiendish Codex', 44.98),\n",
              " ('Infinite Convergence', 45.0),\n",
              " ('Morellonomicon', 50.49),\n",
              " ('Pickaxe', 46.65),\n",
              " ('Imperial Mandate', 52.36),\n",
              " (\"Prowler's Claw\", 50.88),\n",
              " (\"Sterak's Gage\", 59.24),\n",
              " (\"Knight's Vow\", 60.17),\n",
              " (\"Serylda's Grudge\", 56.14),\n",
              " ('Frozen Heart', 55.58),\n",
              " ('B. F. Sword', 58.02),\n",
              " (\"Mikael's Blessing\", 58.24),\n",
              " ('Hailblade', 44.23),\n",
              " (\"Mercury's Treads\", 50.88),\n",
              " (\"Serpent's Fang\", 51.09),\n",
              " ('Ardent Censer', 56.82),\n",
              " ('Axiom Arc', 54.61),\n",
              " ('Force of Nature', 55.56),\n",
              " ('Sheen', 38.04),\n",
              " ('Aether Wisp', 46.51),\n",
              " ('Evenshroud', 51.77),\n",
              " ('Dagger', 39.33),\n",
              " ('Forbidden Idol', 54.44),\n",
              " (\"Nashor's Tooth\", 52.46),\n",
              " ('Recurve Bow', 40.19),\n",
              " (\"Archangel's Staff\", 51.37),\n",
              " (\"Rylai's Crystal Scepter\", 55.73),\n",
              " ('Essence Reaver', 50.91),\n",
              " ('Horizon Focus', 55.39),\n",
              " ('Manamune', 49.28),\n",
              " ('Mobility Boots', 48.83),\n",
              " ('Scorchclaw Pup', 27.2),\n",
              " ('Ironspike Whip', 34.78),\n",
              " ('Cosmic Drive', 53.94),\n",
              " (\"Berserker's Greaves\", 50.49),\n",
              " ('Blighting Jewel', 50.85),\n",
              " ('Gustwalker Hatchling', 27.53),\n",
              " ('Control Ward', 47.62),\n",
              " ('Mosstomper Seedling', 26.25),\n",
              " (\"Winter's Approach\", 51.08),\n",
              " ('Verdant Barrier', 47.53),\n",
              " ('Your Cut', 70.1),\n",
              " ('Riftmaker', 51.39),\n",
              " ('Spirit Visage', 56.22),\n",
              " ('Fimbulwinter', 54.71),\n",
              " ('Boots of Swiftness', 52.09),\n",
              " (\"Spellthief's Edge\", 45.14),\n",
              " ('Winged Moonplate', 50.19),\n",
              " (\"Executioner's Calling\", 40.69),\n",
              " ('Umbral Glaive', 49.18),\n",
              " ('Health Potion', 47.34),\n",
              " ('Chemtech Putrifier', 55.2),\n",
              " ('Kindlegem', 43.24),\n",
              " ('Frostfang', 26.96),\n",
              " ('Silvermere Dawn', 57.46),\n",
              " ('Leeching Leer', 32.67),\n",
              " ('Sunfire Aegis', 55.14),\n",
              " ('Amplifying Tome', 45.64),\n",
              " (\"Guinsoo's Rageblade\", 55.72),\n",
              " ('Night Harvester', 50.78),\n",
              " (\"Liandry's Anguish\", 51.27),\n",
              " ('Shard of True Ice', 52.23),\n",
              " ('Demonic Embrace', 55.18),\n",
              " ('Hullbreaker', 56.32),\n",
              " ('Vampiric Scepter', 43.67),\n",
              " ('Tear of the Goddess', 40.08),\n",
              " (\"Doran's Shield\", 48.61),\n",
              " (\"Dead Man's Plate\", 57.76),\n",
              " ('Steel Shoulderguards', 46.55),\n",
              " ('Watchful Wardstone', 57.41),\n",
              " ('Black Cleaver', 55.08),\n",
              " (\"Luden's Tempest\", 51.05),\n",
              " (\"Doran's Blade\", 48.03),\n",
              " ('Runesteel Spaulders', 43.08),\n",
              " ('Bloodthirster', 58.78),\n",
              " ('Everfrost', 48.66),\n",
              " (\"Doran's Ring\", 48.23),\n",
              " ('Pauldrons of Whiterock', 50.53),\n",
              " (\"Shurelya's Battlesong\", 51.44),\n",
              " ('Crystalline Bracer', 50.41),\n",
              " ('Negatron Cloak', 48.44),\n",
              " ('Boots', 33.7),\n",
              " ('Rod of Ages', 50.12),\n",
              " (\"Anathema's Chains\", 54.92),\n",
              " ('Needlessly Large Rod', 53.56),\n",
              " ('Ravenous Hydra', 53.57),\n",
              " ('Relic Shield', 43.79),\n",
              " ('Total Biscuit of Everlasting Will', 38.05),\n",
              " ('Bandleglass Mirror', 37.26),\n",
              " ('Lost Chapter', 31.37),\n",
              " ('Thornmail', 54.25),\n",
              " (\"Targon's Buckler\", 43.04),\n",
              " ('Minion Dematerializer', 39.73),\n",
              " ('Catalyst of Aeons', 43.8),\n",
              " ('Vigilant Wardstone', 65.36),\n",
              " (\"Sorcerer's Shoes\", 51.41),\n",
              " ('Oblivion Orb', 43.43),\n",
              " ('Titanic Hydra', 59.16),\n",
              " (\"Bami's Cinder\", 47.79),\n",
              " ('Bulwark of the Mountain', 51.32),\n",
              " ('Bramble Vest', 44.96),\n",
              " ('Faerie Charm', 40.32),\n",
              " ('Crown of the Shattered Queen', 54.45),\n",
              " ('Shadowflame', 53.94),\n",
              " ('Tiamat', 51.0),\n",
              " (\"Caulfield's Warhammer\", 45.72),\n",
              " ('Trinity Force', 51.37),\n",
              " ('Iceborn Gauntlet', 52.14),\n",
              " ('Locket of the Iron Solari', 50.56),\n",
              " ('Serrated Dirk', 44.22),\n",
              " ('Spectral Sickle', 52.2),\n",
              " ('Rejuvenation Bead', 41.7),\n",
              " ('Void Staff', 52.9),\n",
              " (\"Seeker's Armguard\", 44.98),\n",
              " ('Kircheis Shard', 45.58),\n",
              " ('Harrowing Crescent', 20.28)]"
            ]
          },
          "metadata": {},
          "execution_count": 75
        }
      ]
    },
    {
      "cell_type": "code",
      "source": [
        "# Output file of champions ban rates\n",
        "with open(\"/content/drive/MyDrive/BigData/Output/itemsName_win_rate\", \"w\") as file:\n",
        "    file.write(str(itemsName_win_rate))"
      ],
      "metadata": {
        "id": "TYOAf2BVm6VN"
      },
      "execution_count": null,
      "outputs": []
    },
    {
      "cell_type": "code",
      "source": [
        "# sorted banned champions\n",
        "sorted_items_win_rates = sorted(itemsName_win_rate, key=lambda x: x[1], reverse=True)"
      ],
      "metadata": {
        "id": "vUc4fPyJm6VN"
      },
      "execution_count": null,
      "outputs": []
    },
    {
      "cell_type": "code",
      "source": [
        "sorted_items_win_rates"
      ],
      "metadata": {
        "id": "gKuaQ66lm6VN",
        "colab": {
          "base_uri": "https://localhost:8080/"
        },
        "outputId": "b7cf9bd6-5add-41fd-b411-a5ff72bd3318"
      },
      "execution_count": null,
      "outputs": [
        {
          "output_type": "execute_result",
          "data": {
            "text/plain": [
              "[(\"Sandshrike's Claw\", 85.19),\n",
              " ('Equinox', 82.35),\n",
              " (\"Mejai's Soulstealer\", 76.62),\n",
              " (\"Icathia's Curse\", 70.83),\n",
              " ('Infinity Force', 70.69),\n",
              " ('Your Cut', 70.1),\n",
              " ('Vespertide', 67.5),\n",
              " ('Primordial Dawn', 66.67),\n",
              " ('Deicide', 65.98),\n",
              " ('Starcaster', 65.96),\n",
              " ('Reliquary of the Golden Dawn', 65.79),\n",
              " ('Vigilant Wardstone', 65.36),\n",
              " ('Bloodward', 65.32),\n",
              " ('Eye of Luden', 64.69),\n",
              " ('Upgraded Aeropack', 64.38),\n",
              " ('Caesura', 63.41),\n",
              " ('Syzygy', 62.75),\n",
              " (\"Shurelya's Requiem\", 62.3),\n",
              " ('Typhoon', 62.0),\n",
              " ('Guardian Angel', 61.96),\n",
              " (\"Liandry's Lament\", 61.93),\n",
              " ('Elixir of Iron', 61.54),\n",
              " ('Seat of Command', 61.22),\n",
              " (\"Draktharr's Shadowcarver\", 60.71),\n",
              " ('Abyssal Mask', 60.57),\n",
              " ('Spear Of Shojin', 60.48),\n",
              " (\"Knight's Vow\", 60.17),\n",
              " ('Ceaseless Hunger', 60.0),\n",
              " ('Redemption', 59.31),\n",
              " ('Wyrmfallen Sacrifice', 59.3),\n",
              " ('Leviathan', 59.26),\n",
              " (\"Sterak's Gage\", 59.24),\n",
              " ('Frozen Fist', 59.21),\n",
              " ('Titanic Hydra', 59.16),\n",
              " (\"Rabadon's Deathcap\", 58.98),\n",
              " ('Bloodthirster', 58.78),\n",
              " ('Infinity Edge', 58.36),\n",
              " (\"Zeke's Convergence\", 58.29),\n",
              " (\"Mikael's Blessing\", 58.24),\n",
              " ('B. F. Sword', 58.02),\n",
              " (\"Dead Man's Plate\", 57.76),\n",
              " (\"Warmog's Armor\", 57.57),\n",
              " ('Staff of Flowing Water', 57.47),\n",
              " ('Silvermere Dawn', 57.46),\n",
              " ('Watchful Wardstone', 57.41),\n",
              " ('Gargoyle Stoneplate', 57.33),\n",
              " ('Mercurial Scimitar', 57.3),\n",
              " ('Ardent Censer', 56.82),\n",
              " (\"Death's Dance\", 56.74),\n",
              " ('Eternal Winter', 56.67),\n",
              " ('Hullbreaker', 56.32),\n",
              " ('Spirit Visage', 56.22),\n",
              " (\"Wit's End\", 56.19),\n",
              " (\"Serylda's Grudge\", 56.14),\n",
              " ('The Unspoken Parasite', 56.12),\n",
              " ('Maw of Malmortius', 55.92),\n",
              " (\"Rylai's Crystal Scepter\", 55.73),\n",
              " (\"Guinsoo's Rageblade\", 55.72),\n",
              " ('Frozen Heart', 55.58),\n",
              " ('Force of Nature', 55.56),\n",
              " ('Horizon Focus', 55.39),\n",
              " ('Edge of Night', 55.33),\n",
              " ('Chemtech Putrifier', 55.2),\n",
              " ('Demonic Embrace', 55.18),\n",
              " ('The Collector', 55.16),\n",
              " ('Lich Bane', 55.16),\n",
              " (\"Runaan's Hurricane\", 55.15),\n",
              " ('Sunfire Aegis', 55.14),\n",
              " ('Navori Quickblades', 55.08),\n",
              " ('Black Cleaver', 55.08),\n",
              " (\"Banshee's Veil\", 54.94),\n",
              " (\"Anathema's Chains\", 54.92),\n",
              " ('Turbo Chemtank', 54.9),\n",
              " ('Stormrazor', 54.74),\n",
              " ('Fimbulwinter', 54.71),\n",
              " ('Axiom Arc', 54.61),\n",
              " ('Stopwatch', 54.59),\n",
              " ('Rapid Firecannon', 54.49),\n",
              " ('Crown of the Shattered Queen', 54.45),\n",
              " ('Forbidden Idol', 54.44),\n",
              " ('Thornmail', 54.25),\n",
              " ('Phantom Dancer', 53.97),\n",
              " ('Cosmic Drive', 53.94),\n",
              " ('Shadowflame', 53.94),\n",
              " (\"Lord Dominik's Regards\", 53.93),\n",
              " ('Radiant Virtue', 53.79),\n",
              " (\"Seraph's Embrace\", 53.67),\n",
              " (\"Zhonya's Hourglass\", 53.61),\n",
              " ('Ravenous Hydra', 53.57),\n",
              " ('Needlessly Large Rod', 53.56),\n",
              " ('Stridebreaker', 53.45),\n",
              " (\"Jak'Sho, The Protean\", 53.2),\n",
              " ('Phage', 53.09),\n",
              " (\"Randuin's Omen\", 53.06),\n",
              " ('Void Staff', 52.9),\n",
              " (\"Youmuu's Ghostblade\", 52.78),\n",
              " ('Mortal Reminder', 52.66),\n",
              " ('Blade of The Ruined King', 52.56),\n",
              " ('Muramana', 52.54),\n",
              " ('Heartsteel', 52.49),\n",
              " (\"Nashor's Tooth\", 52.46),\n",
              " ('Broken Stopwatch', 52.45),\n",
              " ('Imperial Mandate', 52.36),\n",
              " ('Shard of True Ice', 52.23),\n",
              " ('Spectral Sickle', 52.2),\n",
              " ('Iceborn Gauntlet', 52.14),\n",
              " ('Boots of Swiftness', 52.09),\n",
              " ('Quicksilver Sash', 51.93),\n",
              " ('Immortal Shieldbow', 51.77),\n",
              " ('Evenshroud', 51.77),\n",
              " (\"Spectre's Cowl\", 51.67),\n",
              " ('Hexdrinker', 51.51),\n",
              " ('Hextech Rocketbelt', 51.46),\n",
              " (\"Shurelya's Battlesong\", 51.44),\n",
              " (\"Sorcerer's Shoes\", 51.41),\n",
              " ('Riftmaker', 51.39),\n",
              " (\"Archangel's Staff\", 51.37),\n",
              " ('Trinity Force', 51.37),\n",
              " ('Bulwark of the Mountain', 51.32),\n",
              " (\"Liandry's Anguish\", 51.27),\n",
              " (\"Serpent's Fang\", 51.09),\n",
              " (\"Winter's Approach\", 51.08),\n",
              " (\"Luden's Tempest\", 51.05),\n",
              " ('Tiamat', 51.0),\n",
              " ('Galeforce', 50.98),\n",
              " ('Ionian Boots of Lucidity', 50.97),\n",
              " ('Divine Sunderer', 50.97),\n",
              " ('Essence Reaver', 50.91),\n",
              " ('Kraken Slayer', 50.88),\n",
              " ('Elixir of Wrath', 50.88),\n",
              " (\"Prowler's Claw\", 50.88),\n",
              " (\"Mercury's Treads\", 50.88),\n",
              " ('Blighting Jewel', 50.85),\n",
              " ('Night Harvester', 50.78),\n",
              " ('Elixir of Sorcery', 50.69),\n",
              " ('Dark Seal', 50.69),\n",
              " ('Eclipse', 50.69),\n",
              " ('Chempunk Chainsword', 50.64),\n",
              " ('Locket of the Iron Solari', 50.56),\n",
              " ('Pauldrons of Whiterock', 50.53),\n",
              " ('Morellonomicon', 50.49),\n",
              " (\"Berserker's Greaves\", 50.49),\n",
              " ('Crystalline Bracer', 50.41),\n",
              " ('Moonstone Renewer', 50.27),\n",
              " ('Black Mist Scythe', 50.2),\n",
              " ('Winged Moonplate', 50.19),\n",
              " ('Rod of Ages', 50.12),\n",
              " ('Dreamshatter', 50.0),\n",
              " ('Plated Steelcaps', 49.99),\n",
              " ('Goredrinker', 49.93),\n",
              " ('Duskblade of Draktharr', 49.34),\n",
              " ('Manamune', 49.28),\n",
              " ('Umbral Glaive', 49.18),\n",
              " (\"Warden's Mail\", 48.83),\n",
              " ('Mobility Boots', 48.83),\n",
              " ('Everfrost', 48.66),\n",
              " ('Perfectly Timed Stopwatch', 48.61),\n",
              " (\"Doran's Shield\", 48.61),\n",
              " ('Last Whisper', 48.56),\n",
              " ('Negatron Cloak', 48.44),\n",
              " (\"Doran's Ring\", 48.23),\n",
              " (\"Doran's Blade\", 48.03),\n",
              " ('Glacial Buckler', 47.88),\n",
              " (\"Bami's Cinder\", 47.79),\n",
              " ('Blasting Wand', 47.75),\n",
              " ('Control Ward', 47.62),\n",
              " ('Verdant Barrier', 47.53),\n",
              " (\"Giant's Belt\", 47.5),\n",
              " ('Health Potion', 47.34),\n",
              " ('Zeal', 47.28),\n",
              " ('Chain Vest', 47.23),\n",
              " ('Ruby Crystal', 46.8),\n",
              " ('Pickaxe', 46.65),\n",
              " ('Steel Shoulderguards', 46.55),\n",
              " ('Aether Wisp', 46.51),\n",
              " ('Corrupting Potion', 46.29),\n",
              " ('Cloth Armor', 46.15),\n",
              " ('Aegis of the Legion', 45.82),\n",
              " ('Refillable Potion', 45.78),\n",
              " (\"Caulfield's Warhammer\", 45.72),\n",
              " ('Amplifying Tome', 45.64),\n",
              " ('Kircheis Shard', 45.58),\n",
              " ('Null-Magic Mantle', 45.42),\n",
              " ('Emberknife', 45.21),\n",
              " (\"Spellthief's Edge\", 45.14),\n",
              " ('Infinite Convergence', 45.0),\n",
              " ('Fiendish Codex', 44.98),\n",
              " (\"Seeker's Armguard\", 44.98),\n",
              " ('Bramble Vest', 44.96),\n",
              " ('Commencing Stopwatch', 44.89),\n",
              " ('Hextech Alternator', 44.84),\n",
              " ('Hearthbound Axe', 44.44),\n",
              " ('Hailblade', 44.23),\n",
              " ('Serrated Dirk', 44.22),\n",
              " ('Catalyst of Aeons', 43.8),\n",
              " ('Relic Shield', 43.79),\n",
              " ('Vampiric Scepter', 43.67),\n",
              " ('Oblivion Orb', 43.43),\n",
              " ('Kindlegem', 43.24),\n",
              " ('Long Sword', 43.08),\n",
              " ('Runesteel Spaulders', 43.08),\n",
              " (\"Targon's Buckler\", 43.04),\n",
              " ('Broken Stopwatch', 42.87),\n",
              " ('Cloak of Agility', 42.84),\n",
              " ('Rageknife', 42.78),\n",
              " ('Rejuvenation Bead', 41.7),\n",
              " (\"Executioner's Calling\", 40.69),\n",
              " ('Sapphire Crystal', 40.61),\n",
              " ('Cull', 40.38),\n",
              " ('Faerie Charm', 40.32),\n",
              " ('Recurve Bow', 40.19),\n",
              " ('Tear of the Goddess', 40.08),\n",
              " ('Minion Dematerializer', 39.73),\n",
              " ('Dagger', 39.33),\n",
              " ('Total Biscuit of Everlasting Will', 38.05),\n",
              " ('Sheen', 38.04),\n",
              " ('Bandleglass Mirror', 37.26),\n",
              " ('Slightly Magical Footwear', 34.9),\n",
              " ('Ironspike Whip', 34.78),\n",
              " ('Boots', 33.7),\n",
              " ('Leeching Leer', 32.67),\n",
              " ('Lost Chapter', 31.37),\n",
              " ('Noonquiver', 29.22),\n",
              " ('Gustwalker Hatchling', 27.53),\n",
              " ('Scorchclaw Pup', 27.2),\n",
              " ('Frostfang', 26.96),\n",
              " ('Mosstomper Seedling', 26.25),\n",
              " ('Harrowing Crescent', 20.28),\n",
              " (\"Kalista's Black Spear\", 8.33)]"
            ]
          },
          "metadata": {},
          "execution_count": 78
        }
      ]
    },
    {
      "cell_type": "code",
      "source": [
        "# top 15 picked items to plot\n",
        "top_items_win_rates = sorted_items_win_rates[:15]\n",
        "figure(figsize=(30, 10), dpi=80)\n",
        "plt.bar(*zip(*top_items_win_rates))\n",
        "plt.title(\"Top 15 winning items\")\n",
        "plt.xlabel('Item Name')\n",
        "plt.ylabel('Win Rate')\n",
        "plt.show()"
      ],
      "metadata": {
        "id": "7Znu3fFnm6VO",
        "colab": {
          "base_uri": "https://localhost:8080/",
          "height": 509
        },
        "outputId": "cd8e3faa-92f8-4a32-afe9-eba750c8da5d"
      },
      "execution_count": null,
      "outputs": [
        {
          "output_type": "display_data",
          "data": {
            "text/plain": [
              "<Figure size 2400x800 with 1 Axes>"
            ],
            "image/png": "[encoded data removed]"
          },
          "metadata": {
            "needs_background": "light"
          }
        }
      ]
    },
    {
      "cell_type": "markdown",
      "metadata": {
        "id": "NE-U_gsb2Asv"
      },
      "source": [
        "# Requirement 4\n",
        "## Item Synergies (item with champion, item with class) \n"
      ]
    },
    {
      "cell_type": "markdown",
      "metadata": {
        "id": "Z4It2-C52fUg"
      },
      "source": [
        "### 1.   Item with champion Synergy: \n",
        "\n",
        "\n",
        "\n",
        "\n",
        "\n"
      ]
    },
    {
      "cell_type": "code",
      "source": [
        "def all_champion_items_duos(matches):\n",
        "  \"\"\"\n",
        "  This function finds all possible champions items duos\n",
        "  \"\"\"\n",
        "  champion_items= []\n",
        "  champions_items_duos = []\n",
        "\n",
        "  # Get all participants in all matches\n",
        "  participants = matches[\"info\"][\"participants\"]\n",
        "\n",
        "  # Get the champion names of all participants\n",
        "  for i in participants:\n",
        "    for k in range(6):\n",
        "      if i[\"item\"+str(k)] !=0:\n",
        "        champion_items.append(tuple([ i[\"championName\"], i['item'+str(k)]] ))\n",
        "\n",
        "  # Form all possible duos between champions and items\n",
        "  for i in champion_items:\n",
        "      champions_items_duos.append((i, 1))\n",
        "  \n",
        "  return champions_items_duos"
      ],
      "metadata": {
        "id": "Ws0CCDFz2Asv"
      },
      "execution_count": null,
      "outputs": []
    },
    {
      "cell_type": "code",
      "source": [
        "def winning_champion_items_duos(matches):\n",
        "  \"\"\"\n",
        "  This function finds winning duos only\n",
        "  \"\"\"\n",
        "  winning_champion_items= []\n",
        "  winning_champions_items_duos = []\n",
        "  # Get all participants in all matches\n",
        "  participants = matches[\"info\"][\"participants\"]\n",
        "  # Get the champion names of all winning participants\n",
        "  for i in participants:\n",
        "    if i[\"win\"]:\n",
        "      for k in range(6):\n",
        "        if i[\"item\"+str(k)] !=0:\n",
        "          winning_champion_items.append(tuple([ i[\"championName\"], i['item'+str(k)]] ))\n",
        "\n",
        "  # Form all possible duos between winning champions and items\n",
        "  for i in winning_champion_items:\n",
        "      winning_champions_items_duos.append((i, 1))\n",
        "  \n",
        "  return winning_champions_items_duos"
      ],
      "metadata": {
        "id": "2PbyeTX62Asv"
      },
      "execution_count": null,
      "outputs": []
    },
    {
      "cell_type": "code",
      "source": [
        "# Get all possible champion items duos from all matches\n",
        "all_champion_items_duos = ranked_matches_rdd.map(all_champion_items_duos)\n",
        "\n",
        "# Get the number of count of each duos champions\n",
        "all_champion_items_duos_count = all_champion_items_duos.flatMap(lambda x: x).reduceByKey(lambda a, b: a + b)\n",
        "\n",
        "# Get the winning champion items duos\n",
        "winning_champion_items_duos = ranked_matches_rdd.map(winning_champion_items_duos)\n",
        "\n",
        "# Get the count of each winning duos\n",
        "winning_champion_items_duos_count = winning_champion_items_duos.flatMap(lambda x: x).reduceByKey(lambda a, b: a + b)\n",
        "\n",
        "# Get champion synergies or duos\n",
        "champions_items_synergies = winning_champion_items_duos_count.join(all_champion_items_duos_count).mapValues(lambda x: round(x[0] *100 / x[1], 2))"
      ],
      "metadata": {
        "id": "QJ62w1lv9s_h"
      },
      "execution_count": null,
      "outputs": []
    },
    {
      "cell_type": "code",
      "source": [
        "all_champion_items_duos_count.take(50)"
      ],
      "metadata": {
        "colab": {
          "base_uri": "https://localhost:8080/"
        },
        "id": "s04BZ3P0AT2q",
        "outputId": "14ddef17-8649-4387-d1bf-151d958c52dc"
      },
      "execution_count": null,
      "outputs": [
        {
          "output_type": "execute_result",
          "data": {
            "text/plain": [
              "[(('Zed', 2031), 1205),\n",
              " (('Zed', 3047), 828),\n",
              " (('MasterYi', 3857), 4),\n",
              " (('Caitlyn', 3026), 379),\n",
              " (('Irelia', 3047), 2552),\n",
              " (('Ezreal', 3110), 917),\n",
              " (('Jax', 3047), 2327),\n",
              " (('Twitch', 6672), 2605),\n",
              " (('Trundle', 6632), 1484),\n",
              " (('Malphite', 3111), 569),\n",
              " (('Varus', 4635), 140),\n",
              " (('Illaoi', 3193), 39),\n",
              " (('Graves', 3133), 411),\n",
              " (('Senna', 3094), 1535),\n",
              " (('MonkeyKing', 6632), 2283),\n",
              " (('Garen', 3047), 1035),\n",
              " (('Nami', 2010), 62),\n",
              " (('Viego', 3156), 403),\n",
              " (('Talon', 3071), 394),\n",
              " (('LeeSin', 3134), 126),\n",
              " (('FiddleSticks', 3157), 1677),\n",
              " (('Leona', 3024), 258),\n",
              " (('Jayce', 3070), 141),\n",
              " (('Brand', 3116), 1724),\n",
              " (('Kayn', 3142), 888),\n",
              " (('Ekko', 1054), 9),\n",
              " (('Teemo', 1018), 25),\n",
              " (('Veigar', 1058), 1016),\n",
              " (('Varus', 3051), 136),\n",
              " (('TwistedFate', 3094), 581),\n",
              " (('Evelynn', 3102), 250),\n",
              " (('Vladimir', 4645), 483),\n",
              " (('Jayce', 3158), 628),\n",
              " (('Fiora', 3156), 389),\n",
              " (('Lucian', 3026), 255),\n",
              " (('Seraphine', 2003), 94),\n",
              " (('Gnar', 1037), 87),\n",
              " (('Lissandra', 3157), 626),\n",
              " (('Vi', 3075), 395),\n",
              " (('KogMaw', 1055), 305),\n",
              " (('Gragas', 2421), 83),\n",
              " (('Qiyana', 3133), 313),\n",
              " (('Cassiopeia', 2420), 47),\n",
              " (('Zilean', 1033), 14),\n",
              " (('Zed', 3143), 6),\n",
              " (('Nasus', 3084), 196),\n",
              " (('MissFortune', 2422), 244),\n",
              " (('Graves', 3077), 43),\n",
              " (('Kayn', 3134), 357),\n",
              " (('Seraphine', 3107), 36)]"
            ]
          },
          "metadata": {},
          "execution_count": 38
        }
      ]
    },
    {
      "cell_type": "code",
      "source": [
        "winning_champion_items_duos_count.take(50)"
      ],
      "metadata": {
        "id": "-rgjmPouAYNs",
        "colab": {
          "base_uri": "https://localhost:8080/"
        },
        "outputId": "04e548de-1502-4ed0-8bba-c72fc5c656cb"
      },
      "execution_count": null,
      "outputs": [
        {
          "output_type": "execute_result",
          "data": {
            "text/plain": [
              "[(('Caitlyn', 3026), 256),\n",
              " (('Irelia', 3047), 1270),\n",
              " (('Ezreal', 3110), 485),\n",
              " (('Jax', 3047), 1179),\n",
              " (('Trundle', 6632), 756),\n",
              " (('Malphite', 3111), 255),\n",
              " (('Twitch', 6672), 1353),\n",
              " (('Illaoi', 3193), 16),\n",
              " (('MonkeyKing', 6632), 1207),\n",
              " (('Garen', 3047), 550),\n",
              " (('Senna', 3094), 857),\n",
              " (('Nami', 2010), 24),\n",
              " (('FiddleSticks', 3157), 926),\n",
              " (('Leona', 3024), 144),\n",
              " (('Kayn', 3142), 479),\n",
              " (('Ekko', 1054), 9),\n",
              " (('Veigar', 1058), 469),\n",
              " (('Evelynn', 3102), 136),\n",
              " (('Vladimir', 4645), 270),\n",
              " (('Jayce', 3158), 267),\n",
              " (('Fiora', 3156), 223),\n",
              " (('Lucian', 3026), 142),\n",
              " (('Brand', 3116), 1019),\n",
              " (('Lissandra', 3157), 334),\n",
              " (('Cassiopeia', 2420), 30),\n",
              " (('Zed', 2031), 558),\n",
              " (('TwistedFate', 3094), 301),\n",
              " (('Zilean', 1033), 6),\n",
              " (('Zed', 3143), 5),\n",
              " (('Jayce', 3070), 35),\n",
              " (('Graves', 3077), 14),\n",
              " (('Kayn', 3134), 154),\n",
              " (('Seraphine', 2003), 43),\n",
              " (('Seraphine', 3107), 21),\n",
              " (('Katarina', 1042), 18),\n",
              " (('Tristana', 3033), 232),\n",
              " (('Aphelios', 1042), 27),\n",
              " (('Sona', 3850), 44),\n",
              " (('Belveth', 1042), 84),\n",
              " (('Akshan', 1053), 58),\n",
              " (('Volibear', 3158), 258),\n",
              " (('Maokai', 3066), 62),\n",
              " (('Chogath', 1054), 171),\n",
              " (('Teemo', 1058), 401),\n",
              " (('KogMaw', 3143), 21),\n",
              " (('KogMaw', 1055), 142),\n",
              " (('Sion', 3111), 327),\n",
              " (('Syndra', 3070), 33),\n",
              " (('Graves', 3133), 172),\n",
              " (('MissFortune', 2422), 96)]"
            ]
          },
          "metadata": {},
          "execution_count": 39
        }
      ]
    },
    {
      "cell_type": "code",
      "source": [
        "champions_items_synergies.take(50)"
      ],
      "metadata": {
        "id": "JPe8F0NzIcRA",
        "colab": {
          "base_uri": "https://localhost:8080/"
        },
        "outputId": "982dccb4-9055-4969-900a-09d6c8e95f10"
      },
      "execution_count": null,
      "outputs": [
        {
          "output_type": "execute_result",
          "data": {
            "text/plain": [
              "[(('Caitlyn', 3026), 67.55),\n",
              " (('Irelia', 3047), 49.76),\n",
              " (('Ezreal', 3110), 52.89),\n",
              " (('Jax', 3047), 50.67),\n",
              " (('Trundle', 6632), 50.94),\n",
              " (('Malphite', 3111), 44.82),\n",
              " (('Twitch', 6672), 51.94),\n",
              " (('Illaoi', 3193), 41.03),\n",
              " (('MonkeyKing', 6632), 52.87),\n",
              " (('Garen', 3047), 53.14),\n",
              " (('Senna', 3094), 55.83),\n",
              " (('Nami', 2010), 38.71),\n",
              " (('FiddleSticks', 3157), 55.22),\n",
              " (('Leona', 3024), 55.81),\n",
              " (('Kayn', 3142), 53.94),\n",
              " (('Ekko', 1054), 100.0),\n",
              " (('Veigar', 1058), 46.16),\n",
              " (('Evelynn', 3102), 54.4),\n",
              " (('Vladimir', 4645), 55.9),\n",
              " (('Jayce', 3158), 42.52),\n",
              " (('Fiora', 3156), 57.33),\n",
              " (('Lucian', 3026), 55.69),\n",
              " (('Brand', 3116), 59.11),\n",
              " (('Lissandra', 3157), 53.35),\n",
              " (('Cassiopeia', 2420), 63.83),\n",
              " (('Zed', 2031), 46.31),\n",
              " (('TwistedFate', 3094), 51.81),\n",
              " (('Zilean', 1033), 42.86),\n",
              " (('Zed', 3143), 83.33),\n",
              " (('Jayce', 3070), 24.82),\n",
              " (('Graves', 3077), 32.56),\n",
              " (('Kayn', 3134), 43.14),\n",
              " (('Seraphine', 2003), 45.74),\n",
              " (('Seraphine', 3107), 58.33),\n",
              " (('Katarina', 1042), 25.35),\n",
              " (('Tristana', 3033), 51.44),\n",
              " (('Aphelios', 1042), 31.4),\n",
              " (('Sona', 3850), 63.77),\n",
              " (('Belveth', 1042), 40.78),\n",
              " (('Akshan', 1053), 38.16),\n",
              " (('Volibear', 3158), 49.71),\n",
              " (('Maokai', 3066), 43.66),\n",
              " (('Chogath', 1054), 46.59),\n",
              " (('Teemo', 1058), 57.78),\n",
              " (('KogMaw', 3143), 45.65),\n",
              " (('KogMaw', 1055), 46.56),\n",
              " (('Sion', 3111), 48.44),\n",
              " (('Syndra', 3070), 32.35),\n",
              " (('Graves', 3133), 41.85),\n",
              " (('MissFortune', 2422), 39.34)]"
            ]
          },
          "metadata": {},
          "execution_count": 40
        }
      ]
    },
    {
      "cell_type": "code",
      "source": [
        "# Get the pick rate for each item name\n",
        "itemsId_duos_list = [list(i) for i in champions_items_synergies.collect()]\n",
        "itemsName_duos = []\n",
        "for j in itemsId_duos_list:\n",
        "  try:\n",
        "    name = items_rdd.map(lambda x: x['data'][str(j[0][1])]['name'] ).collect()[0]\n",
        "    itemsName_duos.append([tuple([j[0][0], name]), j[1]])\n",
        "  except:\n",
        "    pass"
      ],
      "metadata": {
        "id": "pxPH8-CgATMU"
      },
      "execution_count": null,
      "outputs": []
    },
    {
      "cell_type": "code",
      "source": [
        "itemsName_duos"
      ],
      "metadata": {
        "id": "vVnYSMssKZeT"
      },
      "execution_count": null,
      "outputs": []
    },
    {
      "cell_type": "code",
      "source": [
        "# Output file of champions ban rates\n",
        "with open(\"/content/drive/MyDrive/BigData/Output/itemsName_champions_duos\", \"w\") as file:\n",
        "    file.write(str(champions_items_synergies.collect()))"
      ],
      "metadata": {
        "id": "4RZ2EEMwKZ4a"
      },
      "execution_count": null,
      "outputs": []
    },
    {
      "cell_type": "code",
      "source": [
        "# sorted banned champions\n",
        "top_items_champions_duos = champions_items_synergies.top(5, key=lambda x:x[1])"
      ],
      "metadata": {
        "id": "Rv77MiUMKZ4a"
      },
      "execution_count": null,
      "outputs": []
    },
    {
      "cell_type": "code",
      "source": [
        "top_items_champions_duos.take(5)"
      ],
      "metadata": {
        "id": "ZcQrLZIPvyh5"
      },
      "execution_count": null,
      "outputs": []
    },
    {
      "cell_type": "code",
      "source": [
        "figure(figsize=(15, 10))\n",
        "plt.bar(*zip(*top_items_champions_duos))\n",
        "plt.title(\"Top 5 champions items duos\")\n",
        "plt.xlabel('Champion-Item Name')\n",
        "plt.ylabel('Win Rate')\n",
        "plt.show()"
      ],
      "metadata": {
        "id": "PuCfMvYZvXTj"
      },
      "execution_count": null,
      "outputs": []
    },
    {
      "cell_type": "code",
      "source": [
        "print(list(top_items_champions_duos))"
      ],
      "metadata": {
        "colab": {
          "base_uri": "https://localhost:8080/"
        },
        "id": "P8F1cSszzAtk",
        "outputId": "7dafce04-ae96-4ed6-c911-94a13a94aae7"
      },
      "execution_count": null,
      "outputs": [
        {
          "output_type": "stream",
          "name": "stdout",
          "text": [
            "[(('Ekko', 1054), 100.0), (('Talon', 6671), 100.0), (('Seraphine', 3155), 100.0), (('Teemo', 3026), 100.0), (('Seraphine', 3179), 100.0)]\n"
          ]
        }
      ]
    },
    {
      "cell_type": "code",
      "source": [],
      "metadata": {
        "id": "BCi9EvTuzKiU"
      },
      "execution_count": null,
      "outputs": []
    },
    {
      "cell_type": "code",
      "source": [
        "top_items_champions_duosss = [(('Ekko', \"Doran's Shield\"), 100.0), (('Talon', \"Galeforce\"), 100.0), (('Seraphine', \"Hexdrinker\"), 100.0), (('Teemo', \"Guardian Angel\"), 100.0), (('Seraphine', \"Umbral Glaive\"), 100.0)]"
      ],
      "metadata": {
        "id": "Vlr4KZi3zMri"
      },
      "execution_count": null,
      "outputs": []
    },
    {
      "cell_type": "code",
      "source": [
        "a,b=zip(*list(top_items_champions_duosss))\n",
        "duos=[]\n",
        "for i in a:\n",
        "  duos.append(str(i))\n",
        "plt.figure(figsize=(15, 10));\n",
        "plt.xticks(rotation=50)\n",
        "plt.title(\"Top 5 champions items duos\")\n",
        "plt.xlabel('Champion-Item Name')\n",
        "plt.ylabel('Win Rate')\n",
        "plt.bar(duos,b);"
      ],
      "metadata": {
        "id": "CD9-kD1x2Asw",
        "colab": {
          "base_uri": "https://localhost:8080/",
          "height": 731
        },
        "outputId": "af456381-73ba-4d27-9182-901c19d93983"
      },
      "execution_count": null,
      "outputs": [
        {
          "output_type": "display_data",
          "data": {
            "text/plain": [
              "<Figure size 1080x720 with 1 Axes>"
            ],
            "image/png": "[encoded data removed]"
          },
          "metadata": {
            "needs_background": "light"
          }
        }
      ]
    },
    {
      "cell_type": "markdown",
      "metadata": {
        "id": "zypJp3ybw1aB"
      },
      "source": [
        "### 2.   Item with class Synergy: \n",
        "\n",
        "\n",
        "\n",
        "\n",
        "\n"
      ]
    },
    {
      "cell_type": "code",
      "source": [
        "def all_class_items_duos(matches):\n",
        "  \"\"\"\n",
        "  This function finds all possible champions items duos\n",
        "  \"\"\"\n",
        "  class_items= []\n",
        "  class_items_duos = []\n",
        "\n",
        "  # Get all participants in all matches\n",
        "  participants = matches[\"info\"][\"participants\"]\n",
        "\n",
        "  # Get the champion names of all participants\n",
        "  for i in participants:\n",
        "    for k in range(6):\n",
        "      if i[\"item\"+str(k)] !=0:\n",
        "        class_items.append(tuple([ i[\"lane\"], i['item'+str(k)]] ))\n",
        "\n",
        "  # Form all possible duos between champions and items\n",
        "  for i in class_items:\n",
        "      class_items_duos.append((i, 1))\n",
        "  \n",
        "  return class_items_duos"
      ],
      "metadata": {
        "id": "ElifzH8nw1aB"
      },
      "execution_count": null,
      "outputs": []
    },
    {
      "cell_type": "code",
      "source": [
        "def winning_class_items_duos(matches):\n",
        "  \"\"\"\n",
        "  This function finds winning duos only\n",
        "  \"\"\"\n",
        "  winning_class_items= []\n",
        "  winning_class_items_duos = []\n",
        "  # Get all participants in all matches\n",
        "  participants = matches[\"info\"][\"participants\"]\n",
        "  # Get the champion names of all winning participants\n",
        "  for i in participants:\n",
        "    if i[\"win\"]:\n",
        "      for k in range(6):\n",
        "        if i[\"item\"+str(k)] !=0:\n",
        "          winning_class_items.append(tuple([ i[\"lane\"], i['item'+str(k)]] ))\n",
        "\n",
        "  # Form all possible duos between winning champions and items\n",
        "  for i in winning_class_items:\n",
        "      winning_class_items_duos.append((i, 1))\n",
        "  \n",
        "  return winning_class_items_duos"
      ],
      "metadata": {
        "id": "C4ZwNbUbw1aC"
      },
      "execution_count": null,
      "outputs": []
    },
    {
      "cell_type": "code",
      "source": [
        "# Get all possible champion items duos from all matches\n",
        "all_class_items_duos = ranked_matches_rdd.map(all_class_items_duos)\n",
        "\n",
        "# Get the number of count of each duos champions\n",
        "all_class_items_duos_count = all_class_items_duos.flatMap(lambda x: x).reduceByKey(lambda a, b: a + b)\n",
        "\n",
        "# Get the winning champion items duos\n",
        "winning_class_items_duoss = ranked_matches_rdd.map(winning_class_items_duos)\n",
        "\n",
        "# Get the count of each winning duos\n",
        "winning_class_items_duos_count = winning_class_items_duoss.flatMap(lambda x: x).reduceByKey(lambda a, b: a + b)\n",
        "\n",
        "# Get champion synergies or duos\n",
        "class_items_synergies = winning_class_items_duos_count.join(all_class_items_duos_count).mapValues(lambda x: round(x[0] *100 / x[1], 2))"
      ],
      "metadata": {
        "id": "eVoFWHU8w1aC"
      },
      "execution_count": null,
      "outputs": []
    },
    {
      "cell_type": "code",
      "source": [
        "winning_class_items_duoss.take(10)"
      ],
      "metadata": {
        "colab": {
          "base_uri": "https://localhost:8080/"
        },
        "outputId": "8f58d0dc-3285-48c8-908f-5d5de866dbb9",
        "id": "m7RUkTp5w1aC"
      },
      "execution_count": null,
      "outputs": [
        {
          "output_type": "execute_result",
          "data": {
            "text/plain": [
              "[[(('JUNGLE', 6333), 1),\n",
              "  (('JUNGLE', 6692), 1),\n",
              "  (('JUNGLE', 3035), 1),\n",
              "  (('JUNGLE', 3071), 1),\n",
              "  (('JUNGLE', 3047), 1),\n",
              "  (('JUNGLE', 3152), 1),\n",
              "  (('JUNGLE', 3157), 1),\n",
              "  (('JUNGLE', 3089), 1),\n",
              "  (('JUNGLE', 4645), 1),\n",
              "  (('JUNGLE', 3020), 1),\n",
              "  (('JUNGLE', 3102), 1),\n",
              "  (('MIDDLE', 3135), 1),\n",
              "  (('MIDDLE', 3157), 1),\n",
              "  (('MIDDLE', 6653), 1),\n",
              "  (('MIDDLE', 3020), 1),\n",
              "  (('MIDDLE', 4645), 1),\n",
              "  (('MIDDLE', 1058), 1),\n",
              "  (('BOTTOM', 3006), 1),\n",
              "  (('BOTTOM', 2420), 1),\n",
              "  (('BOTTOM', 6673), 1),\n",
              "  (('BOTTOM', 6333), 1),\n",
              "  (('BOTTOM', 1031), 1),\n",
              "  (('BOTTOM', 3153), 1),\n",
              "  (('BOTTOM', 3853), 1),\n",
              "  (('BOTTOM', 4645), 1),\n",
              "  (('BOTTOM', 4630), 1),\n",
              "  (('BOTTOM', 6655), 1),\n",
              "  (('BOTTOM', 3020), 1)],\n",
              " [(('JUNGLE', 3074), 1),\n",
              "  (('JUNGLE', 6692), 1),\n",
              "  (('JUNGLE', 3047), 1),\n",
              "  (('JUNGLE', 3068), 1),\n",
              "  (('JUNGLE', 3153), 1),\n",
              "  (('JUNGLE', 4633), 1),\n",
              "  (('JUNGLE', 2421), 1),\n",
              "  (('JUNGLE', 3047), 1),\n",
              "  (('JUNGLE', 3065), 1),\n",
              "  (('JUNGLE', 3116), 1),\n",
              "  (('JUNGLE', 4637), 1),\n",
              "  (('MIDDLE', 3072), 1),\n",
              "  (('MIDDLE', 6673), 1),\n",
              "  (('MIDDLE', 3031), 1),\n",
              "  (('MIDDLE', 3006), 1),\n",
              "  (('BOTTOM', 1055), 1),\n",
              "  (('BOTTOM', 3123), 1),\n",
              "  (('BOTTOM', 1018), 1),\n",
              "  (('BOTTOM', 3091), 1),\n",
              "  (('BOTTOM', 6673), 1),\n",
              "  (('BOTTOM', 3006), 1),\n",
              "  (('BOTTOM', 3853), 1),\n",
              "  (('BOTTOM', 3157), 1),\n",
              "  (('BOTTOM', 3158), 1),\n",
              "  (('BOTTOM', 6653), 1),\n",
              "  (('BOTTOM', 1052), 1)],\n",
              " [(('TOP', 3135), 1),\n",
              "  (('TOP', 6655), 1),\n",
              "  (('TOP', 3157), 1),\n",
              "  (('TOP', 3089), 1),\n",
              "  (('TOP', 4645), 1),\n",
              "  (('TOP', 3020), 1),\n",
              "  (('JUNGLE', 3082), 1),\n",
              "  (('JUNGLE', 3047), 1),\n",
              "  (('JUNGLE', 3068), 1),\n",
              "  (('JUNGLE', 4637), 1),\n",
              "  (('JUNGLE', 3075), 1),\n",
              "  (('JUNGLE', 4401), 1),\n",
              "  (('MIDDLE', 3100), 1),\n",
              "  (('MIDDLE', 6655), 1),\n",
              "  (('MIDDLE', 3157), 1),\n",
              "  (('MIDDLE', 3135), 1),\n",
              "  (('MIDDLE', 3158), 1),\n",
              "  (('MIDDLE', 3165), 1),\n",
              "  (('BOTTOM', 3036), 1),\n",
              "  (('BOTTOM', 3026), 1),\n",
              "  (('BOTTOM', 6671), 1),\n",
              "  (('BOTTOM', 3031), 1),\n",
              "  (('BOTTOM', 3006), 1),\n",
              "  (('BOTTOM', 3046), 1),\n",
              "  (('BOTTOM', 3179), 1),\n",
              "  (('BOTTOM', 3142), 1),\n",
              "  (('BOTTOM', 3857), 1),\n",
              "  (('BOTTOM', 6692), 1),\n",
              "  (('BOTTOM', 3158), 1),\n",
              "  (('BOTTOM', 3035), 1)],\n",
              " [(('TOP', 3153), 1),\n",
              "  (('TOP', 6632), 1),\n",
              "  (('TOP', 3047), 1),\n",
              "  (('TOP', 3091), 1),\n",
              "  (('TOP', 1036), 1),\n",
              "  (('TOP', 1036), 1),\n",
              "  (('JUNGLE', 3020), 1),\n",
              "  (('JUNGLE', 4645), 1),\n",
              "  (('JUNGLE', 3152), 1),\n",
              "  (('JUNGLE', 1082), 1),\n",
              "  (('JUNGLE', 3100), 1),\n",
              "  (('JUNGLE', 3089), 1),\n",
              "  (('MIDDLE', 6672), 1),\n",
              "  (('MIDDLE', 3033), 1),\n",
              "  (('MIDDLE', 3153), 1),\n",
              "  (('MIDDLE', 3091), 1),\n",
              "  (('MIDDLE', 3006), 1),\n",
              "  (('MIDDLE', 3031), 1),\n",
              "  (('BOTTOM', 3042), 1),\n",
              "  (('BOTTOM', 3078), 1),\n",
              "  (('BOTTOM', 6694), 1),\n",
              "  (('BOTTOM', 3158), 1),\n",
              "  (('BOTTOM', 3110), 1),\n",
              "  (('BOTTOM', 1037), 1),\n",
              "  (('BOTTOM', 6616), 1),\n",
              "  (('BOTTOM', 3853), 1),\n",
              "  (('BOTTOM', 3108), 1),\n",
              "  (('BOTTOM', 3158), 1),\n",
              "  (('BOTTOM', 4005), 1),\n",
              "  (('BOTTOM', 3504), 1)],\n",
              " [(('TOP', 3110), 1),\n",
              "  (('TOP', 2420), 1),\n",
              "  (('TOP', 3047), 1),\n",
              "  (('TOP', 3153), 1),\n",
              "  (('TOP', 1011), 1),\n",
              "  (('TOP', 6632), 1),\n",
              "  (('JUNGLE', 3121), 1),\n",
              "  (('JUNGLE', 3143), 1),\n",
              "  (('JUNGLE', 3068), 1),\n",
              "  (('JUNGLE', 3075), 1),\n",
              "  (('JUNGLE', 3158), 1),\n",
              "  (('MIDDLE', 1038), 1),\n",
              "  (('MIDDLE', 6673), 1),\n",
              "  (('MIDDLE', 3031), 1),\n",
              "  (('MIDDLE', 3006), 1),\n",
              "  (('MIDDLE', 6333), 1),\n",
              "  (('MIDDLE', 1029), 1),\n",
              "  (('BOTTOM', 1055), 1),\n",
              "  (('BOTTOM', 3031), 1),\n",
              "  (('BOTTOM', 6672), 1),\n",
              "  (('BOTTOM', 6676), 1),\n",
              "  (('BOTTOM', 3006), 1),\n",
              "  (('BOTTOM', 3035), 1),\n",
              "  (('BOTTOM', 2424), 1),\n",
              "  (('BOTTOM', 3853), 1),\n",
              "  (('BOTTOM', 6653), 1),\n",
              "  (('BOTTOM', 3020), 1),\n",
              "  (('BOTTOM', 3191), 1),\n",
              "  (('BOTTOM', 3108), 1)],\n",
              " [(('TOP', 3508), 1),\n",
              "  (('TOP', 3158), 1),\n",
              "  (('TOP', 6693), 1),\n",
              "  (('TOP', 6676), 1),\n",
              "  (('TOP', 3031), 1),\n",
              "  (('TOP', 3036), 1),\n",
              "  (('JUNGLE', 6692), 1),\n",
              "  (('JUNGLE', 3047), 1),\n",
              "  (('JUNGLE', 3071), 1),\n",
              "  (('JUNGLE', 6333), 1),\n",
              "  (('JUNGLE', 3026), 1),\n",
              "  (('MIDDLE', 3157), 1),\n",
              "  (('MIDDLE', 6655), 1),\n",
              "  (('MIDDLE', 4645), 1),\n",
              "  (('MIDDLE', 3089), 1),\n",
              "  (('MIDDLE', 3158), 1),\n",
              "  (('JUNGLE', 6673), 1),\n",
              "  (('JUNGLE', 3153), 1),\n",
              "  (('JUNGLE', 3046), 1),\n",
              "  (('JUNGLE', 3091), 1),\n",
              "  (('JUNGLE', 3006), 1),\n",
              "  (('JUNGLE', 3124), 1),\n",
              "  (('BOTTOM', 3179), 1),\n",
              "  (('BOTTOM', 3031), 1),\n",
              "  (('BOTTOM', 3864), 1),\n",
              "  (('BOTTOM', 3009), 1),\n",
              "  (('BOTTOM', 6692), 1),\n",
              "  (('BOTTOM', 3036), 1)],\n",
              " [(('NONE', 2033), 1),\n",
              "  (('NONE', 1039), 1),\n",
              "  (('NONE', 2031), 1),\n",
              "  (('NONE', 1082), 1),\n",
              "  (('NONE', 2031), 1),\n",
              "  (('NONE', 3070), 1),\n",
              "  (('NONE', 2003), 1),\n",
              "  (('NONE', 3850), 1),\n",
              "  (('NONE', 2003), 1)],\n",
              " [(('JUNGLE', 6631), 1),\n",
              "  (('JUNGLE', 3075), 1),\n",
              "  (('JUNGLE', 3047), 1),\n",
              "  (('JUNGLE', 6667), 1),\n",
              "  (('JUNGLE', 3153), 1),\n",
              "  (('JUNGLE', 2055), 1),\n",
              "  (('JUNGLE', 3006), 1),\n",
              "  (('JUNGLE', 3124), 1),\n",
              "  (('MIDDLE', 6692), 1),\n",
              "  (('MIDDLE', 3074), 1),\n",
              "  (('MIDDLE', 3158), 1),\n",
              "  (('MIDDLE', 1036), 1),\n",
              "  (('MIDDLE', 1036), 1),\n",
              "  (('BOTTOM', 3078), 1),\n",
              "  (('BOTTOM', 3077), 1),\n",
              "  (('BOTTOM', 3047), 1),\n",
              "  (('BOTTOM', 6694), 1),\n",
              "  (('BOTTOM', 3853), 1),\n",
              "  (('BOTTOM', 3020), 1),\n",
              "  (('BOTTOM', 6655), 1),\n",
              "  (('BOTTOM', 4628), 1)],\n",
              " [(('JUNGLE', 3075), 1),\n",
              "  (('JUNGLE', 2031), 1),\n",
              "  (('JUNGLE', 1054), 1),\n",
              "  (('JUNGLE', 6662), 1),\n",
              "  (('JUNGLE', 3047), 1),\n",
              "  (('JUNGLE', 3157), 1),\n",
              "  (('JUNGLE', 2031), 1),\n",
              "  (('JUNGLE', 4636), 1),\n",
              "  (('JUNGLE', 3020), 1),\n",
              "  (('JUNGLE', 4645), 1),\n",
              "  (('JUNGLE', 3916), 1),\n",
              "  (('MIDDLE', 3041), 1),\n",
              "  (('MIDDLE', 3157), 1),\n",
              "  (('MIDDLE', 3165), 1),\n",
              "  (('MIDDLE', 6655), 1),\n",
              "  (('MIDDLE', 3020), 1),\n",
              "  (('BOTTOM', 3086), 1),\n",
              "  (('BOTTOM', 6671), 1),\n",
              "  (('BOTTOM', 3009), 1),\n",
              "  (('BOTTOM', 1042), 1),\n",
              "  (('BOTTOM', 1011), 1),\n",
              "  (('BOTTOM', 3859), 1),\n",
              "  (('BOTTOM', 6665), 1),\n",
              "  (('BOTTOM', 3111), 1)],\n",
              " [(('TOP', 3181), 1),\n",
              "  (('TOP', 3748), 1),\n",
              "  (('TOP', 3047), 1),\n",
              "  (('TOP', 2055), 1),\n",
              "  (('TOP', 1028), 1),\n",
              "  (('TOP', 1028), 1),\n",
              "  (('JUNGLE', 6333), 1),\n",
              "  (('JUNGLE', 3077), 1),\n",
              "  (('JUNGLE', 2031), 1),\n",
              "  (('JUNGLE', 3153), 1),\n",
              "  (('JUNGLE', 3047), 1),\n",
              "  (('JUNGLE', 1053), 1),\n",
              "  (('MIDDLE', 1054), 1),\n",
              "  (('MIDDLE', 6692), 1),\n",
              "  (('MIDDLE', 3047), 1),\n",
              "  (('MIDDLE', 3153), 1),\n",
              "  (('MIDDLE', 1031), 1),\n",
              "  (('BOTTOM', 1055), 1),\n",
              "  (('BOTTOM', 6672), 1),\n",
              "  (('BOTTOM', 3047), 1),\n",
              "  (('BOTTOM', 3072), 1),\n",
              "  (('BOTTOM', 3853), 1),\n",
              "  (('BOTTOM', 3108), 1),\n",
              "  (('BOTTOM', 6655), 1),\n",
              "  (('BOTTOM', 3191), 1),\n",
              "  (('BOTTOM', 3020), 1)]]"
            ]
          },
          "metadata": {},
          "execution_count": 59
        }
      ]
    },
    {
      "cell_type": "code",
      "source": [
        "all_class_items_duos.take(10)"
      ],
      "metadata": {
        "colab": {
          "base_uri": "https://localhost:8080/"
        },
        "outputId": "e0bbfd36-d324-4ba1-9440-59b8d28ff259",
        "id": "lDz5LbNFw1aC"
      },
      "execution_count": null,
      "outputs": [
        {
          "output_type": "execute_result",
          "data": {
            "text/plain": [
              "[[(('JUNGLE', 6333), 1),\n",
              "  (('JUNGLE', 6692), 1),\n",
              "  (('JUNGLE', 3035), 1),\n",
              "  (('JUNGLE', 3071), 1),\n",
              "  (('JUNGLE', 3047), 1),\n",
              "  (('JUNGLE', 3152), 1),\n",
              "  (('JUNGLE', 3157), 1),\n",
              "  (('JUNGLE', 3089), 1),\n",
              "  (('JUNGLE', 4645), 1),\n",
              "  (('JUNGLE', 3020), 1),\n",
              "  (('JUNGLE', 3102), 1),\n",
              "  (('MIDDLE', 3135), 1),\n",
              "  (('MIDDLE', 3157), 1),\n",
              "  (('MIDDLE', 6653), 1),\n",
              "  (('MIDDLE', 3020), 1),\n",
              "  (('MIDDLE', 4645), 1),\n",
              "  (('MIDDLE', 1058), 1),\n",
              "  (('BOTTOM', 3006), 1),\n",
              "  (('BOTTOM', 2420), 1),\n",
              "  (('BOTTOM', 6673), 1),\n",
              "  (('BOTTOM', 6333), 1),\n",
              "  (('BOTTOM', 1031), 1),\n",
              "  (('BOTTOM', 3153), 1),\n",
              "  (('BOTTOM', 3853), 1),\n",
              "  (('BOTTOM', 4645), 1),\n",
              "  (('BOTTOM', 4630), 1),\n",
              "  (('BOTTOM', 6655), 1),\n",
              "  (('BOTTOM', 3020), 1),\n",
              "  (('TOP', 3068), 1),\n",
              "  (('TOP', 7025), 1),\n",
              "  (('TOP', 4401), 1),\n",
              "  (('TOP', 3047), 1),\n",
              "  (('TOP', 3075), 1),\n",
              "  (('TOP', 1029), 1),\n",
              "  (('JUNGLE', 3158), 1),\n",
              "  (('JUNGLE', 3157), 1),\n",
              "  (('JUNGLE', 3105), 1),\n",
              "  (('JUNGLE', 4401), 1),\n",
              "  (('JUNGLE', 4637), 1),\n",
              "  (('JUNGLE', 7012), 1),\n",
              "  (('MIDDLE', 3006), 1),\n",
              "  (('MIDDLE', 3031), 1),\n",
              "  (('MIDDLE', 7008), 1),\n",
              "  (('MIDDLE', 3153), 1),\n",
              "  (('MIDDLE', 3133), 1),\n",
              "  (('MIDDLE', 1029), 1),\n",
              "  (('BOTTOM', 6694), 1),\n",
              "  (('BOTTOM', 3042), 1),\n",
              "  (('BOTTOM', 2420), 1),\n",
              "  (('BOTTOM', 3006), 1),\n",
              "  (('BOTTOM', 3074), 1),\n",
              "  (('BOTTOM', 7007), 1),\n",
              "  (('BOTTOM', 7012), 1),\n",
              "  (('BOTTOM', 4628), 1),\n",
              "  (('BOTTOM', 3853), 1),\n",
              "  (('BOTTOM', 3916), 1),\n",
              "  (('BOTTOM', 3020), 1)],\n",
              " [(('JUNGLE', 3074), 1),\n",
              "  (('JUNGLE', 6692), 1),\n",
              "  (('JUNGLE', 3047), 1),\n",
              "  (('JUNGLE', 3068), 1),\n",
              "  (('JUNGLE', 3153), 1),\n",
              "  (('JUNGLE', 4633), 1),\n",
              "  (('JUNGLE', 2421), 1),\n",
              "  (('JUNGLE', 3047), 1),\n",
              "  (('JUNGLE', 3065), 1),\n",
              "  (('JUNGLE', 3116), 1),\n",
              "  (('JUNGLE', 4637), 1),\n",
              "  (('MIDDLE', 3072), 1),\n",
              "  (('MIDDLE', 6673), 1),\n",
              "  (('MIDDLE', 3031), 1),\n",
              "  (('MIDDLE', 3006), 1),\n",
              "  (('BOTTOM', 1055), 1),\n",
              "  (('BOTTOM', 3123), 1),\n",
              "  (('BOTTOM', 1018), 1),\n",
              "  (('BOTTOM', 3091), 1),\n",
              "  (('BOTTOM', 6673), 1),\n",
              "  (('BOTTOM', 3006), 1),\n",
              "  (('BOTTOM', 3853), 1),\n",
              "  (('BOTTOM', 3157), 1),\n",
              "  (('BOTTOM', 3158), 1),\n",
              "  (('BOTTOM', 6653), 1),\n",
              "  (('BOTTOM', 1052), 1),\n",
              "  (('TOP', 3084), 1),\n",
              "  (('TOP', 3508), 1),\n",
              "  (('TOP', 6676), 1),\n",
              "  (('TOP', 1018), 1),\n",
              "  (('TOP', 3158), 1),\n",
              "  (('TOP', 1036), 1),\n",
              "  (('JUNGLE', 3152), 1),\n",
              "  (('JUNGLE', 3157), 1),\n",
              "  (('JUNGLE', 3020), 1),\n",
              "  (('JUNGLE', 3115), 1),\n",
              "  (('JUNGLE', 2055), 1),\n",
              "  (('MIDDLE', 2031), 1),\n",
              "  (('MIDDLE', 3047), 1),\n",
              "  (('MIDDLE', 6692), 1),\n",
              "  (('MIDDLE', 6694), 1),\n",
              "  (('MIDDLE', 3134), 1),\n",
              "  (('BOTTOM', 4636), 1),\n",
              "  (('BOTTOM', 3020), 1),\n",
              "  (('BOTTOM', 4645), 1),\n",
              "  (('BOTTOM', 1029), 1),\n",
              "  (('BOTTOM', 3108), 1),\n",
              "  (('BOTTOM', 1052), 1),\n",
              "  (('BOTTOM', 3857), 1),\n",
              "  (('BOTTOM', 3153), 1),\n",
              "  (('BOTTOM', 6672), 1),\n",
              "  (('BOTTOM', 1037), 1),\n",
              "  (('BOTTOM', 3006), 1)],\n",
              " [(('TOP', 3135), 1),\n",
              "  (('TOP', 6655), 1),\n",
              "  (('TOP', 3157), 1),\n",
              "  (('TOP', 3089), 1),\n",
              "  (('TOP', 4645), 1),\n",
              "  (('TOP', 3020), 1),\n",
              "  (('JUNGLE', 3082), 1),\n",
              "  (('JUNGLE', 3047), 1),\n",
              "  (('JUNGLE', 3068), 1),\n",
              "  (('JUNGLE', 4637), 1),\n",
              "  (('JUNGLE', 3075), 1),\n",
              "  (('JUNGLE', 4401), 1),\n",
              "  (('MIDDLE', 3100), 1),\n",
              "  (('MIDDLE', 6655), 1),\n",
              "  (('MIDDLE', 3157), 1),\n",
              "  (('MIDDLE', 3135), 1),\n",
              "  (('MIDDLE', 3158), 1),\n",
              "  (('MIDDLE', 3165), 1),\n",
              "  (('BOTTOM', 3036), 1),\n",
              "  (('BOTTOM', 3026), 1),\n",
              "  (('BOTTOM', 6671), 1),\n",
              "  (('BOTTOM', 3031), 1),\n",
              "  (('BOTTOM', 3006), 1),\n",
              "  (('BOTTOM', 3046), 1),\n",
              "  (('BOTTOM', 3179), 1),\n",
              "  (('BOTTOM', 3142), 1),\n",
              "  (('BOTTOM', 3857), 1),\n",
              "  (('BOTTOM', 6692), 1),\n",
              "  (('BOTTOM', 3158), 1),\n",
              "  (('BOTTOM', 3035), 1),\n",
              "  (('TOP', 3036), 1),\n",
              "  (('TOP', 3508), 1),\n",
              "  (('TOP', 3158), 1),\n",
              "  (('TOP', 6676), 1),\n",
              "  (('TOP', 3031), 1),\n",
              "  (('TOP', 6673), 1),\n",
              "  (('JUNGLE', 3111), 1),\n",
              "  (('JUNGLE', 6630), 1),\n",
              "  (('JUNGLE', 4401), 1),\n",
              "  (('JUNGLE', 3071), 1),\n",
              "  (('JUNGLE', 3072), 1),\n",
              "  (('JUNGLE', 3211), 1),\n",
              "  (('MIDDLE', 6673), 1),\n",
              "  (('MIDDLE', 3026), 1),\n",
              "  (('MIDDLE', 3091), 1),\n",
              "  (('MIDDLE', 3031), 1),\n",
              "  (('MIDDLE', 3006), 1),\n",
              "  (('MIDDLE', 6333), 1),\n",
              "  (('BOTTOM', 6673), 1),\n",
              "  (('BOTTOM', 3091), 1),\n",
              "  (('BOTTOM', 3124), 1),\n",
              "  (('BOTTOM', 3153), 1),\n",
              "  (('BOTTOM', 3085), 1),\n",
              "  (('BOTTOM', 3006), 1),\n",
              "  (('BOTTOM', 3853), 1),\n",
              "  (('BOTTOM', 2065), 1),\n",
              "  (('BOTTOM', 3107), 1),\n",
              "  (('BOTTOM', 3157), 1),\n",
              "  (('BOTTOM', 6616), 1),\n",
              "  (('BOTTOM', 3158), 1)],\n",
              " [(('TOP', 1055), 1),\n",
              "  (('TOP', 6692), 1),\n",
              "  (('TOP', 3047), 1),\n",
              "  (('TOP', 3076), 1),\n",
              "  (('TOP', 3133), 1),\n",
              "  (('TOP', 1036), 1),\n",
              "  (('JUNGLE', 6694), 1),\n",
              "  (('JUNGLE', 6691), 1),\n",
              "  (('JUNGLE', 3158), 1),\n",
              "  (('JUNGLE', 3071), 1),\n",
              "  (('JUNGLE', 3133), 1),\n",
              "  (('JUNGLE', 3134), 1),\n",
              "  (('MIDDLE', 3157), 1),\n",
              "  (('MIDDLE', 3115), 1),\n",
              "  (('MIDDLE', 3152), 1),\n",
              "  (('MIDDLE', 4645), 1),\n",
              "  (('MIDDLE', 3020), 1),\n",
              "  (('MIDDLE', 3135), 1),\n",
              "  (('BOTTOM', 3031), 1),\n",
              "  (('BOTTOM', 6671), 1),\n",
              "  (('BOTTOM', 3006), 1),\n",
              "  (('BOTTOM', 3094), 1),\n",
              "  (('BOTTOM', 3033), 1),\n",
              "  (('BOTTOM', 3853), 1),\n",
              "  (('BOTTOM', 6655), 1),\n",
              "  (('BOTTOM', 3089), 1),\n",
              "  (('BOTTOM', 3158), 1),\n",
              "  (('BOTTOM', 1058), 1),\n",
              "  (('TOP', 3153), 1),\n",
              "  (('TOP', 6632), 1),\n",
              "  (('TOP', 3047), 1),\n",
              "  (('TOP', 3091), 1),\n",
              "  (('TOP', 1036), 1),\n",
              "  (('TOP', 1036), 1),\n",
              "  (('JUNGLE', 3020), 1),\n",
              "  (('JUNGLE', 4645), 1),\n",
              "  (('JUNGLE', 3152), 1),\n",
              "  (('JUNGLE', 1082), 1),\n",
              "  (('JUNGLE', 3100), 1),\n",
              "  (('JUNGLE', 3089), 1),\n",
              "  (('MIDDLE', 6672), 1),\n",
              "  (('MIDDLE', 3033), 1),\n",
              "  (('MIDDLE', 3153), 1),\n",
              "  (('MIDDLE', 3091), 1),\n",
              "  (('MIDDLE', 3006), 1),\n",
              "  (('MIDDLE', 3031), 1),\n",
              "  (('BOTTOM', 3042), 1),\n",
              "  (('BOTTOM', 3078), 1),\n",
              "  (('BOTTOM', 6694), 1),\n",
              "  (('BOTTOM', 3158), 1),\n",
              "  (('BOTTOM', 3110), 1),\n",
              "  (('BOTTOM', 1037), 1),\n",
              "  (('BOTTOM', 6616), 1),\n",
              "  (('BOTTOM', 3853), 1),\n",
              "  (('BOTTOM', 3108), 1),\n",
              "  (('BOTTOM', 3158), 1),\n",
              "  (('BOTTOM', 4005), 1),\n",
              "  (('BOTTOM', 3504), 1)],\n",
              " [(('JUNGLE', 3153), 1),\n",
              "  (('JUNGLE', 6333), 1),\n",
              "  (('JUNGLE', 3047), 1),\n",
              "  (('JUNGLE', 6632), 1),\n",
              "  (('JUNGLE', 1029), 1),\n",
              "  (('TOP', 3067), 1),\n",
              "  (('TOP', 6662), 1),\n",
              "  (('TOP', 3211), 1),\n",
              "  (('TOP', 3047), 1),\n",
              "  (('TOP', 3075), 1),\n",
              "  (('TOP', 3083), 1),\n",
              "  (('MIDDLE', 3157), 1),\n",
              "  (('MIDDLE', 6656), 1),\n",
              "  (('MIDDLE', 4645), 1),\n",
              "  (('MIDDLE', 1058), 1),\n",
              "  (('MIDDLE', 3020), 1),\n",
              "  (('BOTTOM', 3078), 1),\n",
              "  (('BOTTOM', 2421), 1),\n",
              "  (('BOTTOM', 6694), 1),\n",
              "  (('BOTTOM', 3042), 1),\n",
              "  (('BOTTOM', 3191), 1),\n",
              "  (('BOTTOM', 3158), 1),\n",
              "  (('BOTTOM', 3853), 1),\n",
              "  (('BOTTOM', 6655), 1),\n",
              "  (('BOTTOM', 3020), 1),\n",
              "  (('BOTTOM', 4628), 1),\n",
              "  (('TOP', 3110), 1),\n",
              "  (('TOP', 2420), 1),\n",
              "  (('TOP', 3047), 1),\n",
              "  (('TOP', 3153), 1),\n",
              "  (('TOP', 1011), 1),\n",
              "  (('TOP', 6632), 1),\n",
              "  (('JUNGLE', 3121), 1),\n",
              "  (('JUNGLE', 3143), 1),\n",
              "  (('JUNGLE', 3068), 1),\n",
              "  (('JUNGLE', 3075), 1),\n",
              "  (('JUNGLE', 3158), 1),\n",
              "  (('MIDDLE', 1038), 1),\n",
              "  (('MIDDLE', 6673), 1),\n",
              "  (('MIDDLE', 3031), 1),\n",
              "  (('MIDDLE', 3006), 1),\n",
              "  (('MIDDLE', 6333), 1),\n",
              "  (('MIDDLE', 1029), 1),\n",
              "  (('BOTTOM', 1055), 1),\n",
              "  (('BOTTOM', 3031), 1),\n",
              "  (('BOTTOM', 6672), 1),\n",
              "  (('BOTTOM', 6676), 1),\n",
              "  (('BOTTOM', 3006), 1),\n",
              "  (('BOTTOM', 3035), 1),\n",
              "  (('BOTTOM', 2424), 1),\n",
              "  (('BOTTOM', 3853), 1),\n",
              "  (('BOTTOM', 6653), 1),\n",
              "  (('BOTTOM', 3020), 1),\n",
              "  (('BOTTOM', 3191), 1),\n",
              "  (('BOTTOM', 3108), 1)],\n",
              " [(('TOP', 3075), 1),\n",
              "  (('TOP', 6632), 1),\n",
              "  (('TOP', 3082), 1),\n",
              "  (('TOP', 3047), 1),\n",
              "  (('TOP', 3105), 1),\n",
              "  (('TOP', 1029), 1),\n",
              "  (('JUNGLE', 6672), 1),\n",
              "  (('JUNGLE', 3153), 1),\n",
              "  (('JUNGLE', 3085), 1),\n",
              "  (('JUNGLE', 3036), 1),\n",
              "  (('JUNGLE', 3006), 1),\n",
              "  (('JUNGLE', 1038), 1),\n",
              "  (('MIDDLE', 3142), 1),\n",
              "  (('MIDDLE', 6693), 1),\n",
              "  (('MIDDLE', 3156), 1),\n",
              "  (('MIDDLE', 3111), 1),\n",
              "  (('BOTTOM', 6672), 1),\n",
              "  (('BOTTOM', 3047), 1),\n",
              "  (('BOTTOM', 3072), 1),\n",
              "  (('BOTTOM', 6676), 1),\n",
              "  (('BOTTOM', 3036), 1),\n",
              "  (('BOTTOM', 1038), 1),\n",
              "  (('BOTTOM', 3853), 1),\n",
              "  (('BOTTOM', 3157), 1),\n",
              "  (('BOTTOM', 3158), 1),\n",
              "  (('BOTTOM', 1052), 1),\n",
              "  (('BOTTOM', 6653), 1),\n",
              "  (('TOP', 3508), 1),\n",
              "  (('TOP', 3158), 1),\n",
              "  (('TOP', 6693), 1),\n",
              "  (('TOP', 6676), 1),\n",
              "  (('TOP', 3031), 1),\n",
              "  (('TOP', 3036), 1),\n",
              "  (('JUNGLE', 6692), 1),\n",
              "  (('JUNGLE', 3047), 1),\n",
              "  (('JUNGLE', 3071), 1),\n",
              "  (('JUNGLE', 6333), 1),\n",
              "  (('JUNGLE', 3026), 1),\n",
              "  (('MIDDLE', 3157), 1),\n",
              "  (('MIDDLE', 6655), 1),\n",
              "  (('MIDDLE', 4645), 1),\n",
              "  (('MIDDLE', 3089), 1),\n",
              "  (('MIDDLE', 3158), 1),\n",
              "  (('JUNGLE', 6673), 1),\n",
              "  (('JUNGLE', 3153), 1),\n",
              "  (('JUNGLE', 3046), 1),\n",
              "  (('JUNGLE', 3091), 1),\n",
              "  (('JUNGLE', 3006), 1),\n",
              "  (('JUNGLE', 3124), 1),\n",
              "  (('BOTTOM', 3179), 1),\n",
              "  (('BOTTOM', 3031), 1),\n",
              "  (('BOTTOM', 3864), 1),\n",
              "  (('BOTTOM', 3009), 1),\n",
              "  (('BOTTOM', 6692), 1),\n",
              "  (('BOTTOM', 3036), 1)],\n",
              " [(('NONE', 2033), 1),\n",
              "  (('NONE', 1039), 1),\n",
              "  (('NONE', 2031), 1),\n",
              "  (('NONE', 1082), 1),\n",
              "  (('NONE', 2031), 1),\n",
              "  (('NONE', 3070), 1),\n",
              "  (('NONE', 2003), 1),\n",
              "  (('NONE', 3850), 1),\n",
              "  (('NONE', 2003), 1),\n",
              "  (('NONE', 3070), 1),\n",
              "  (('NONE', 2003), 1),\n",
              "  (('NONE', 1056), 1),\n",
              "  (('NONE', 2003), 1),\n",
              "  (('NONE', 1036), 1),\n",
              "  (('NONE', 2003), 1),\n",
              "  (('NONE', 1042), 1),\n",
              "  (('NONE', 3858), 1),\n",
              "  (('NONE', 2031), 1)],\n",
              " [(('JUNGLE', 6631), 1),\n",
              "  (('JUNGLE', 3075), 1),\n",
              "  (('JUNGLE', 3047), 1),\n",
              "  (('JUNGLE', 6667), 1),\n",
              "  (('JUNGLE', 3153), 1),\n",
              "  (('JUNGLE', 2055), 1),\n",
              "  (('JUNGLE', 3006), 1),\n",
              "  (('JUNGLE', 3124), 1),\n",
              "  (('MIDDLE', 6692), 1),\n",
              "  (('MIDDLE', 3074), 1),\n",
              "  (('MIDDLE', 3158), 1),\n",
              "  (('MIDDLE', 1036), 1),\n",
              "  (('MIDDLE', 1036), 1),\n",
              "  (('BOTTOM', 3078), 1),\n",
              "  (('BOTTOM', 3077), 1),\n",
              "  (('BOTTOM', 3047), 1),\n",
              "  (('BOTTOM', 6694), 1),\n",
              "  (('BOTTOM', 3853), 1),\n",
              "  (('BOTTOM', 3020), 1),\n",
              "  (('BOTTOM', 6655), 1),\n",
              "  (('BOTTOM', 4628), 1),\n",
              "  (('TOP', 6630), 1),\n",
              "  (('TOP', 3047), 1),\n",
              "  (('TOP', 1036), 1),\n",
              "  (('TOP', 2031), 1),\n",
              "  (('TOP', 1031), 1),\n",
              "  (('TOP', 1036), 1),\n",
              "  (('JUNGLE', 3133), 1),\n",
              "  (('JUNGLE', 3047), 1),\n",
              "  (('JUNGLE', 6632), 1),\n",
              "  (('JUNGLE', 1031), 1),\n",
              "  (('JUNGLE', 2055), 1),\n",
              "  (('JUNGLE', 1037), 1),\n",
              "  (('MIDDLE', 1055), 1),\n",
              "  (('MIDDLE', 3074), 1),\n",
              "  (('MIDDLE', 2031), 1),\n",
              "  (('MIDDLE', 3158), 1),\n",
              "  (('MIDDLE', 3134), 1),\n",
              "  (('BOTTOM', 2033), 1),\n",
              "  (('BOTTOM', 3153), 1),\n",
              "  (('BOTTOM', 3047), 1),\n",
              "  (('BOTTOM', 6670), 1),\n",
              "  (('BOTTOM', 1036), 1),\n",
              "  (('BOTTOM', 3158), 1),\n",
              "  (('BOTTOM', 4005), 1),\n",
              "  (('BOTTOM', 2055), 1),\n",
              "  (('BOTTOM', 3853), 1),\n",
              "  (('BOTTOM', 3011), 1),\n",
              "  (('BOTTOM', 3114), 1)],\n",
              " [(('JUNGLE', 3075), 1),\n",
              "  (('JUNGLE', 2031), 1),\n",
              "  (('JUNGLE', 1054), 1),\n",
              "  (('JUNGLE', 6662), 1),\n",
              "  (('JUNGLE', 3047), 1),\n",
              "  (('JUNGLE', 3157), 1),\n",
              "  (('JUNGLE', 2031), 1),\n",
              "  (('JUNGLE', 4636), 1),\n",
              "  (('JUNGLE', 3020), 1),\n",
              "  (('JUNGLE', 4645), 1),\n",
              "  (('JUNGLE', 3916), 1),\n",
              "  (('MIDDLE', 3041), 1),\n",
              "  (('MIDDLE', 3157), 1),\n",
              "  (('MIDDLE', 3165), 1),\n",
              "  (('MIDDLE', 6655), 1),\n",
              "  (('MIDDLE', 3020), 1),\n",
              "  (('BOTTOM', 3086), 1),\n",
              "  (('BOTTOM', 6671), 1),\n",
              "  (('BOTTOM', 3009), 1),\n",
              "  (('BOTTOM', 1042), 1),\n",
              "  (('BOTTOM', 1011), 1),\n",
              "  (('BOTTOM', 3859), 1),\n",
              "  (('BOTTOM', 6665), 1),\n",
              "  (('BOTTOM', 3111), 1),\n",
              "  (('TOP', 1055), 1),\n",
              "  (('TOP', 6632), 1),\n",
              "  (('TOP', 3158), 1),\n",
              "  (('TOP', 3077), 1),\n",
              "  (('TOP', 1053), 1),\n",
              "  (('TOP', 1036), 1),\n",
              "  (('JUNGLE', 3133), 1),\n",
              "  (('JUNGLE', 3070), 1),\n",
              "  (('JUNGLE', 2055), 1),\n",
              "  (('JUNGLE', 3158), 1),\n",
              "  (('JUNGLE', 3074), 1),\n",
              "  (('JUNGLE', 1036), 1),\n",
              "  (('MIDDLE', 2031), 1),\n",
              "  (('MIDDLE', 1054), 1),\n",
              "  (('MIDDLE', 1082), 1),\n",
              "  (('MIDDLE', 4636), 1),\n",
              "  (('MIDDLE', 1001), 1),\n",
              "  (('BOTTOM', 6671), 1),\n",
              "  (('BOTTOM', 6676), 1),\n",
              "  (('BOTTOM', 3006), 1),\n",
              "  (('BOTTOM', 1042), 1),\n",
              "  (('BOTTOM', 2065), 1),\n",
              "  (('BOTTOM', 2033), 1),\n",
              "  (('BOTTOM', 3855), 1),\n",
              "  (('BOTTOM', 3111), 1),\n",
              "  (('BOTTOM', 1029), 1)],\n",
              " [(('TOP', 3181), 1),\n",
              "  (('TOP', 3748), 1),\n",
              "  (('TOP', 3047), 1),\n",
              "  (('TOP', 2055), 1),\n",
              "  (('TOP', 1028), 1),\n",
              "  (('TOP', 1028), 1),\n",
              "  (('JUNGLE', 6333), 1),\n",
              "  (('JUNGLE', 3077), 1),\n",
              "  (('JUNGLE', 2031), 1),\n",
              "  (('JUNGLE', 3153), 1),\n",
              "  (('JUNGLE', 3047), 1),\n",
              "  (('JUNGLE', 1053), 1),\n",
              "  (('MIDDLE', 1054), 1),\n",
              "  (('MIDDLE', 6692), 1),\n",
              "  (('MIDDLE', 3047), 1),\n",
              "  (('MIDDLE', 3153), 1),\n",
              "  (('MIDDLE', 1031), 1),\n",
              "  (('BOTTOM', 1055), 1),\n",
              "  (('BOTTOM', 6672), 1),\n",
              "  (('BOTTOM', 3047), 1),\n",
              "  (('BOTTOM', 3072), 1),\n",
              "  (('BOTTOM', 3853), 1),\n",
              "  (('BOTTOM', 3108), 1),\n",
              "  (('BOTTOM', 6655), 1),\n",
              "  (('BOTTOM', 3191), 1),\n",
              "  (('BOTTOM', 3020), 1),\n",
              "  (('TOP', 3153), 1),\n",
              "  (('TOP', 3047), 1),\n",
              "  (('TOP', 6632), 1),\n",
              "  (('TOP', 1031), 1),\n",
              "  (('TOP', 1037), 1),\n",
              "  (('TOP', 3133), 1),\n",
              "  (('JUNGLE', 3153), 1),\n",
              "  (('JUNGLE', 3006), 1),\n",
              "  (('JUNGLE', 6670), 1),\n",
              "  (('MIDDLE', 1055), 1),\n",
              "  (('MIDDLE', 3006), 1),\n",
              "  (('MIDDLE', 6673), 1),\n",
              "  (('MIDDLE', 1053), 1),\n",
              "  (('BOTTOM', 6670), 1),\n",
              "  (('BOTTOM', 2031), 1),\n",
              "  (('BOTTOM', 3006), 1),\n",
              "  (('BOTTOM', 1018), 1),\n",
              "  (('BOTTOM', 1037), 1),\n",
              "  (('BOTTOM', 1039), 1),\n",
              "  (('BOTTOM', 3117), 1),\n",
              "  (('BOTTOM', 3802), 1)]]"
            ]
          },
          "metadata": {},
          "execution_count": 60
        }
      ]
    },
    {
      "cell_type": "code",
      "source": [
        "class_items_synergies.take(10)"
      ],
      "metadata": {
        "id": "dliVvCJkw1aC",
        "colab": {
          "base_uri": "https://localhost:8080/"
        },
        "outputId": "aa654056-ce5e-461a-b4a9-5cb4714b564e"
      },
      "execution_count": null,
      "outputs": [
        {
          "output_type": "execute_result",
          "data": {
            "text/plain": [
              "[(('JUNGLE', 3123), 41.2),\n",
              " (('JUNGLE', 3179), 47.9),\n",
              " (('JUNGLE', 1043), 40.03),\n",
              " (('MIDDLE', 3123), 39.95),\n",
              " (('TOP', 1042), 35.64),\n",
              " (('NONE', 1037), 51.86),\n",
              " (('MIDDLE', 3211), 50.35),\n",
              " (('MIDDLE', 3179), 54.19),\n",
              " (('NONE', 6333), 81.51),\n",
              " (('NONE', 3181), 80.33)]"
            ]
          },
          "metadata": {},
          "execution_count": 61
        }
      ]
    },
    {
      "cell_type": "code",
      "source": [
        "\"\"\"\n",
        "# Get the pick rate for each item name\n",
        "itemsId_duos_list = [list(i) for i in champions_items_synergies.collect()]\n",
        "itemsName_duos = []\n",
        "for j in itemsId_duos_list:\n",
        "  try:\n",
        "     name = items_rdd.map(lambda x: x['data'][str(j[0][1])]['name'] ).collect()[0]\n",
        "     itemsName_duos.append([tuple([j[0][0], name]), j[1]])\n",
        "  except:\n",
        "    pass\n",
        "\"\"\""
      ],
      "metadata": {
        "id": "6AtgTBZaw1aC"
      },
      "execution_count": null,
      "outputs": []
    },
    {
      "cell_type": "code",
      "source": [
        "# Output file of champions ban rates\n",
        "with open(\"/content/drive/MyDrive/BigData/Output/itemsName_class_duos\", \"w\") as file:\n",
        "    file.write(str(class_items_synergies.collect()))"
      ],
      "metadata": {
        "id": "Sc5Uh1dZxoy7"
      },
      "execution_count": null,
      "outputs": []
    },
    {
      "cell_type": "code",
      "source": [
        "# sorted banned champions\n",
        "top_items_class_duos = class_items_synergies.top(50, key=lambda x:x[1])"
      ],
      "metadata": {
        "id": "2fEoaFH7xoy7"
      },
      "execution_count": null,
      "outputs": []
    },
    {
      "cell_type": "code",
      "source": [
        "list(top_items_class_duos)"
      ],
      "metadata": {
        "colab": {
          "base_uri": "https://localhost:8080/"
        },
        "id": "kWlzAut-1A3y",
        "outputId": "8fce90e6-a9fc-4ebd-e73c-829908a777ee"
      },
      "execution_count": null,
      "outputs": [
        {
          "output_type": "execute_result",
          "data": {
            "text/plain": [
              "[(('JUNGLE', 7019), 100.0),\n",
              " (('NONE', 3139), 100.0),\n",
              " (('TOP', 3863), 100.0),\n",
              " (('NONE', 3193), 100.0),\n",
              " (('NONE', 7004), 100.0),\n",
              " (('TOP', 7002), 100.0),\n",
              " (('TOP', 7028), 100.0),\n",
              " (('TOP', 7023), 100.0),\n",
              " (('JUNGLE', 7008), 100.0),\n",
              " (('JUNGLE', 3854), 100.0),\n",
              " (('MIDDLE', 1039), 100.0),\n",
              " (('JUNGLE', 7024), 100.0),\n",
              " (('TOP', 7016), 100.0),\n",
              " (('MIDDLE', 3599), 100.0),\n",
              " (('MIDDLE', 7021), 100.0),\n",
              " (('TOP', 7007), 100.0),\n",
              " (('TOP', 7015), 100.0),\n",
              " (('NONE', 8020), 100.0),\n",
              " (('TOP', 1035), 100.0),\n",
              " (('BOTTOM', 7009), 100.0),\n",
              " (('MIDDLE', 1103), 100.0),\n",
              " (('NONE', 7025), 100.0),\n",
              " (('TOP', 7000), 100.0),\n",
              " (('JUNGLE', 7003), 100.0),\n",
              " (('MIDDLE', 7003), 100.0),\n",
              " (('JUNGLE', 7021), 100.0),\n",
              " (('TOP', 7001), 100.0),\n",
              " (('TOP', 7024), 100.0),\n",
              " (('MIDDLE', 7018), 100.0),\n",
              " (('NONE', 3041), 95.71),\n",
              " (('NONE', 3161), 93.75),\n",
              " (('NONE', 3109), 92.86),\n",
              " (('NONE', 3083), 92.31),\n",
              " (('NONE', 6616), 92.31),\n",
              " (('NONE', 3031), 91.98),\n",
              " (('NONE', 3089), 91.23),\n",
              " (('NONE', 3040), 90.91),\n",
              " (('TOP', 7009), 88.89),\n",
              " (('BOTTOM', 7005), 87.5),\n",
              " (('MIDDLE', 7005), 87.5),\n",
              " (('NONE', 4628), 86.67),\n",
              " (('NONE', 3046), 86.49),\n",
              " (('NONE', 6676), 86.15),\n",
              " (('NONE', 3085), 85.71),\n",
              " (('BOTTOM', 7017), 85.71),\n",
              " (('JUNGLE', 7000), 85.71),\n",
              " (('NONE', 3107), 85.71),\n",
              " (('NONE', 3814), 85.11),\n",
              " (('NONE', 3095), 84.62),\n",
              " (('BOTTOM', 7027), 84.62)]"
            ]
          },
          "metadata": {},
          "execution_count": 71
        }
      ]
    },
    {
      "cell_type": "code",
      "source": [
        "top_items_class_duosss = [(('JUNGLE', \"Reliquary of the Golden Dawn\"), 100.0),\n",
        " (('NONE', \"Mercurial Scimitar\"), 100.0),\n",
        " (('TOP', \"Harrowing Crescent\"), 100.0),\n",
        " (('NONE', \"Gargoyle Stoneplate\"), 100.0),\n",
        " (('TOP', \"Infinite Convergence\"), 100.0)]"
      ],
      "metadata": {
        "id": "BhG2tnkz1ITa"
      },
      "execution_count": null,
      "outputs": []
    },
    {
      "cell_type": "code",
      "source": [
        "a,b=zip(*top_items_class_duosss)\n",
        "duos=[]\n",
        "for i in a:\n",
        "  duos.append(str(i))\n",
        "plt.figure(figsize=(15, 10));\n",
        "plt.xticks(rotation=50)\n",
        "plt.title(\"Top 5 items-class Duos\")\n",
        "plt.xlabel('Class-Item Name')\n",
        "plt.ylabel('Win Rate')\n",
        "plt.bar(duos,b);"
      ],
      "metadata": {
        "colab": {
          "base_uri": "https://localhost:8080/",
          "height": 781
        },
        "id": "O2PMhKv7xoy7",
        "outputId": "1d5fb7bb-43de-452e-e233-cb0e85a4fbfd"
      },
      "execution_count": null,
      "outputs": [
        {
          "output_type": "display_data",
          "data": {
            "text/plain": [
              "<Figure size 1080x720 with 1 Axes>"
            ],
            "image/png": "[encoded data removed]"
          },
          "metadata": {
            "needs_background": "light"
          }
        }
      ]
    },
    {
      "cell_type": "markdown",
      "metadata": {
        "id": "d1PV2br3mPY3"
      },
      "source": [
        "# Requirement 5\n"
      ]
    },
    {
      "cell_type": "markdown",
      "source": [
        "## Item suggestion:\n"
      ],
      "metadata": {
        "id": "RfLL_AtCyvlo"
      }
    },
    {
      "cell_type": "code",
      "source": [
        "def items_suggestion_for_champion(champion_name):\n",
        "    return champions_items_synergies.filter(lambda x: x[0][0] == champion_name).sortBy(lambda x: x[1], ascending = False).collect()"
      ],
      "metadata": {
        "id": "WRZhTdvz2Dn5"
      },
      "execution_count": null,
      "outputs": []
    },
    {
      "cell_type": "code",
      "source": [
        "\"\"\"\n",
        "def items_suggestion_for_champion(champion_name):\n",
        "    champion_items = all_champion_items_duos.filter(lambda x: x[0][0] == champion_name).sortBy(lambda x: x[1], ascending = False)\n",
        "    itemsId_duos_list = [list(i) for i in champion_items.collect()]\n",
        "    itemsName_duos = []\n",
        "     \n",
        "    for j in itemsId_duos_list:\n",
        "       name = items_rdd.map(lambda x: x['data'][str(j[0][1])]['name'] ).collect()[0]\n",
        "       itemsName_duos.append([tuple([j[0][0], name]), j[1]])\n",
        "    \n",
        "    return itemsName_duos\n",
        "\"\"\""
      ],
      "metadata": {
        "id": "sO-blk52uNpO"
      },
      "execution_count": null,
      "outputs": []
    },
    {
      "cell_type": "code",
      "source": [
        "# Get the pick rate for each item name\n",
        "itemsId_duos_list = [list(i) for i in champions_items_synergies.collect()]\n",
        "itemsName_duos = []\n",
        "for j in itemsId_duos_list:\n",
        "  try:\n",
        "    name = items_rdd.map(lambda x: x['data'][str(j[0][1])]['name'] ).collect()[0]\n",
        "    itemsName_duos.append([tuple([j[0][0], name]), j[1]])\n",
        "  except:\n",
        "    pass"
      ],
      "metadata": {
        "id": "Um7pMweP-8Ox"
      },
      "execution_count": null,
      "outputs": []
    },
    {
      "cell_type": "code",
      "source": [
        "items_suggestion_for_champion('Ekko')"
      ],
      "metadata": {
        "colab": {
          "base_uri": "https://localhost:8080/"
        },
        "id": "vcVXhxEouNmi",
        "outputId": "39cbae3f-24bc-4027-ed66-065a405cbfa9"
      },
      "execution_count": null,
      "outputs": [
        {
          "output_type": "execute_result",
          "data": {
            "text/plain": [
              "[(('Ekko', 1054), 100.0),\n",
              " (('Ekko', 3193), 100.0),\n",
              " (('Ekko', 3040), 100.0),\n",
              " (('Ekko', 6675), 100.0),\n",
              " (('Ekko', 8020), 100.0),\n",
              " (('Ekko', 3153), 100.0),\n",
              " (('Ekko', 3850), 100.0),\n",
              " (('Ekko', 3143), 100.0),\n",
              " (('Ekko', 8001), 100.0),\n",
              " (('Ekko', 1035), 100.0),\n",
              " (('Ekko', 3133), 100.0),\n",
              " (('Ekko', 3001), 100.0),\n",
              " (('Ekko', 3139), 100.0),\n",
              " (('Ekko', 3078), 100.0),\n",
              " (('Ekko', 3033), 100.0),\n",
              " (('Ekko', 3094), 100.0),\n",
              " (('Ekko', 3400), 100.0),\n",
              " (('Ekko', 7011), 81.48),\n",
              " (('Ekko', 3041), 80.23),\n",
              " (('Ekko', 3075), 80.0),\n",
              " (('Ekko', 3066), 75.0),\n",
              " (('Ekko', 3140), 70.0),\n",
              " (('Ekko', 6672), 66.67),\n",
              " (('Ekko', 3009), 66.67),\n",
              " (('Ekko', 4644), 62.5),\n",
              " (('Ekko', 6655), 62.5),\n",
              " (('Ekko', 3158), 62.12),\n",
              " (('Ekko', 3089), 60.67),\n",
              " (('Ekko', 6653), 60.0),\n",
              " (('Ekko', 4632), 60.0),\n",
              " (('Ekko', 4637), 59.38),\n",
              " (('Ekko', 4630), 57.74),\n",
              " (('Ekko', 3082), 57.14),\n",
              " (('Ekko', 1033), 57.14),\n",
              " (('Ekko', 3135), 56.34),\n",
              " (('Ekko', 3115), 56.29),\n",
              " (('Ekko', 3047), 55.71),\n",
              " (('Ekko', 3116), 55.56),\n",
              " (('Ekko', 6665), 55.0),\n",
              " (('Ekko', 4645), 54.91),\n",
              " (('Ekko', 1058), 53.85),\n",
              " (('Ekko', 3157), 53.42),\n",
              " (('Ekko', 2003), 53.26),\n",
              " (('Ekko', 3100), 53.17),\n",
              " (('Ekko', 2033), 52.19),\n",
              " (('Ekko', 1028), 52.17),\n",
              " (('Ekko', 3020), 51.88),\n",
              " (('Ekko', 1042), 51.85),\n",
              " (('Ekko', 3152), 51.11),\n",
              " (('Ekko', 2139), 50.0),\n",
              " (('Ekko', 6660), 50.0),\n",
              " (('Ekko', 1055), 50.0),\n",
              " (('Ekko', 1102), 50.0),\n",
              " (('Ekko', 3006), 50.0),\n",
              " (('Ekko', 4636), 50.0),\n",
              " (('Ekko', 1057), 50.0),\n",
              " (('Ekko', 3124), 50.0),\n",
              " (('Ekko', 2015), 50.0),\n",
              " (('Ekko', 1083), 50.0),\n",
              " (('Ekko', 3858), 50.0),\n",
              " (('Ekko', 2423), 50.0),\n",
              " (('Ekko', 6664), 50.0),\n",
              " (('Ekko', 1056), 49.3),\n",
              " (('Ekko', 2421), 49.07),\n",
              " (('Ekko', 2420), 48.87),\n",
              " (('Ekko', 2031), 48.11),\n",
              " (('Ekko', 1082), 47.95),\n",
              " (('Ekko', 3111), 47.14),\n",
              " (('Ekko', 3165), 47.14),\n",
              " (('Ekko', 4629), 47.06),\n",
              " (('Ekko', 3068), 46.15),\n",
              " (('Ekko', 3853), 46.15),\n",
              " (('Ekko', 1052), 45.61),\n",
              " (('Ekko', 3191), 45.59),\n",
              " (('Ekko', 3084), 45.45),\n",
              " (('Ekko', 3108), 45.08),\n",
              " (('Ekko', 1026), 44.63),\n",
              " (('Ekko', 3121), 44.44),\n",
              " (('Ekko', 2055), 44.12),\n",
              " (('Ekko', 3916), 42.86),\n",
              " (('Ekko', 3102), 42.5),\n",
              " (('Ekko', 3860), 41.67),\n",
              " (('Ekko', 1029), 41.03),\n",
              " (('Ekko', 3057), 40.74),\n",
              " (('Ekko', 3145), 40.61),\n",
              " (('Ekko', 1043), 40.43),\n",
              " (('Ekko', 3113), 40.17),\n",
              " (('Ekko', 1103), 39.53),\n",
              " (('Ekko', 2424), 36.84),\n",
              " (('Ekko', 3070), 36.36),\n",
              " (('Ekko', 4633), 35.71),\n",
              " (('Ekko', 1039), 33.33),\n",
              " (('Ekko', 3117), 33.33),\n",
              " (('Ekko', 6656), 33.33),\n",
              " (('Ekko', 6662), 33.33),\n",
              " (('Ekko', 6657), 33.33),\n",
              " (('Ekko', 3065), 33.33),\n",
              " (('Ekko', 4628), 33.33),\n",
              " (('Ekko', 1101), 31.71),\n",
              " (('Ekko', 1001), 30.3),\n",
              " (('Ekko', 2422), 27.71),\n",
              " (('Ekko', 3026), 25.0),\n",
              " (('Ekko', 1031), 25.0),\n",
              " (('Ekko', 3211), 25.0),\n",
              " (('Ekko', 1027), 25.0),\n",
              " (('Ekko', 3110), 25.0),\n",
              " (('Ekko', 3024), 25.0),\n",
              " (('Ekko', 4401), 20.0),\n",
              " (('Ekko', 3067), 20.0),\n",
              " (('Ekko', 3851), 20.0),\n",
              " (('Ekko', 3076), 16.67),\n",
              " (('Ekko', 1011), 16.67),\n",
              " (('Ekko', 3003), 16.67)]"
            ]
          },
          "metadata": {},
          "execution_count": 82
        }
      ]
    },
    {
      "cell_type": "code",
      "source": [
        "items_suggestion_for_champion('Zac')"
      ],
      "metadata": {
        "colab": {
          "base_uri": "https://localhost:8080/"
        },
        "id": "kA4h9mrouNj3",
        "outputId": "69d17c29-fd25-4c22-aeb1-dc5d2e73746c"
      },
      "execution_count": null,
      "outputs": [
        {
          "output_type": "execute_result",
          "data": {
            "text/plain": [
              "[(('Zac', 1035), 100.0),\n",
              " (('Zac', 7027), 100.0),\n",
              " (('Zac', 1036), 100.0),\n",
              " (('Zac', 6656), 100.0),\n",
              " (('Zac', 3803), 100.0),\n",
              " (('Zac', 3026), 100.0),\n",
              " (('Zac', 3057), 100.0),\n",
              " (('Zac', 1027), 100.0),\n",
              " (('Zac', 6653), 100.0),\n",
              " (('Zac', 7004), 100.0),\n",
              " (('Zac', 2139), 100.0),\n",
              " (('Zac', 4005), 100.0),\n",
              " (('Zac', 4643), 100.0),\n",
              " (('Zac', 7026), 100.0),\n",
              " (('Zac', 3053), 100.0),\n",
              " (('Zac', 3853), 100.0),\n",
              " (('Zac', 3748), 100.0),\n",
              " (('Zac', 2033), 87.5),\n",
              " (('Zac', 3100), 80.0),\n",
              " (('Zac', 3857), 80.0),\n",
              " (('Zac', 3041), 77.03),\n",
              " (('Zac', 1006), 76.92),\n",
              " (('Zac', 3024), 75.0),\n",
              " (('Zac', 3110), 73.33),\n",
              " (('Zac', 3191), 66.67),\n",
              " (('Zac', 3009), 66.67),\n",
              " (('Zac', 3850), 66.67),\n",
              " (('Zac', 6616), 66.67),\n",
              " (('Zac', 7005), 66.67),\n",
              " (('Zac', 3117), 66.67),\n",
              " (('Zac', 3801), 63.64),\n",
              " (('Zac', 4637), 63.43),\n",
              " (('Zac', 3082), 60.15),\n",
              " (('Zac', 3143), 59.39),\n",
              " (('Zac', 1082), 58.84),\n",
              " (('Zac', 3065), 57.74),\n",
              " (('Zac', 3001), 57.69),\n",
              " (('Zac', 2003), 57.14),\n",
              " (('Zac', 1101), 57.14),\n",
              " (('Zac', 8020), 57.14),\n",
              " (('Zac', 3083), 56.63),\n",
              " (('Zac', 1033), 56.52),\n",
              " (('Zac', 4633), 55.56),\n",
              " (('Zac', 3158), 55.27),\n",
              " (('Zac', 3066), 55.26),\n",
              " (('Zac', 3068), 55.19),\n",
              " (('Zac', 3067), 54.72),\n",
              " (('Zac', 3075), 54.57),\n",
              " (('Zac', 6665), 53.81),\n",
              " (('Zac', 3020), 53.33),\n",
              " (('Zac', 3211), 53.25),\n",
              " (('Zac', 3193), 53.23),\n",
              " (('Zac', 6667), 53.21),\n",
              " (('Zac', 8001), 53.12),\n",
              " (('Zac', 6662), 52.74),\n",
              " (('Zac', 4401), 52.54),\n",
              " (('Zac', 1054), 52.51),\n",
              " (('Zac', 4645), 52.5),\n",
              " (('Zac', 3860), 52.35),\n",
              " (('Zac', 3047), 51.99),\n",
              " (('Zac', 1011), 51.59),\n",
              " (('Zac', 2031), 51.23),\n",
              " (('Zac', 3105), 50.9),\n",
              " (('Zac', 3084), 50.79),\n",
              " (('Zac', 2420), 50.0),\n",
              " (('Zac', 3855), 50.0),\n",
              " (('Zac', 3152), 50.0),\n",
              " (('Zac', 2421), 50.0),\n",
              " (('Zac', 6664), 50.0),\n",
              " (('Zac', 2055), 49.68),\n",
              " (('Zac', 1029), 49.56),\n",
              " (('Zac', 3111), 49.05),\n",
              " (('Zac', 1026), 48.82),\n",
              " (('Zac', 3076), 47.93),\n",
              " (('Zac', 3165), 47.06),\n",
              " (('Zac', 1057), 46.15),\n",
              " (('Zac', 4629), 46.15),\n",
              " (('Zac', 3089), 45.95),\n",
              " (('Zac', 4636), 44.29),\n",
              " (('Zac', 1028), 43.28),\n",
              " (('Zac', 6660), 42.92),\n",
              " (('Zac', 4630), 42.86),\n",
              " (('Zac', 3916), 42.86),\n",
              " (('Zac', 3116), 42.86),\n",
              " (('Zac', 1058), 41.38),\n",
              " (('Zac', 3135), 41.18),\n",
              " (('Zac', 1031), 41.18),\n",
              " (('Zac', 1052), 39.79),\n",
              " (('Zac', 4628), 39.13),\n",
              " (('Zac', 1001), 38.82),\n",
              " (('Zac', 3859), 38.64),\n",
              " (('Zac', 3108), 38.46),\n",
              " (('Zac', 2422), 37.5),\n",
              " (('Zac', 3145), 36.36),\n",
              " (('Zac', 3157), 34.48),\n",
              " (('Zac', 1039), 33.33),\n",
              " (('Zac', 3190), 33.33),\n",
              " (('Zac', 1056), 27.27),\n",
              " (('Zac', 1103), 25.38),\n",
              " (('Zac', 3742), 25.0),\n",
              " (('Zac', 2424), 20.0),\n",
              " (('Zac', 1102), 12.5),\n",
              " (('Zac', 3109), 12.5),\n",
              " (('Zac', 3858), 12.5)]"
            ]
          },
          "metadata": {},
          "execution_count": 83
        }
      ]
    },
    {
      "cell_type": "code",
      "source": [
        "items_suggestion_for_champion('Qiyana')"
      ],
      "metadata": {
        "colab": {
          "base_uri": "https://localhost:8080/"
        },
        "id": "uqMxs8KcuNhF",
        "outputId": "8659221b-eb55-403d-8d77-f50d52b348e2"
      },
      "execution_count": null,
      "outputs": [
        {
          "output_type": "execute_result",
          "data": {
            "text/plain": [
              "[(('Qiyana', 6631), 100.0),\n",
              " (('Qiyana', 3857), 100.0),\n",
              " (('Qiyana', 3157), 100.0),\n",
              " (('Qiyana', 6035), 100.0),\n",
              " (('Qiyana', 3033), 100.0),\n",
              " (('Qiyana', 3140), 100.0),\n",
              " (('Qiyana', 3153), 100.0),\n",
              " (('Qiyana', 6665), 100.0),\n",
              " (('Qiyana', 3864), 75.0),\n",
              " (('Qiyana', 3161), 74.29),\n",
              " (('Qiyana', 2420), 72.73),\n",
              " (('Qiyana', 6630), 71.43),\n",
              " (('Qiyana', 3004), 70.83),\n",
              " (('Qiyana', 1038), 69.23),\n",
              " (('Qiyana', 1018), 66.67),\n",
              " (('Qiyana', 3026), 63.16),\n",
              " (('Qiyana', 3009), 60.0),\n",
              " (('Qiyana', 3035), 59.43),\n",
              " (('Qiyana', 3123), 58.54),\n",
              " (('Qiyana', 6333), 57.79),\n",
              " (('Qiyana', 1037), 57.58),\n",
              " (('Qiyana', 3142), 56.2),\n",
              " (('Qiyana', 3071), 55.41),\n",
              " (('Qiyana', 3067), 55.0),\n",
              " (('Qiyana', 3814), 54.97),\n",
              " (('Qiyana', 6694), 54.05),\n",
              " (('Qiyana', 1033), 53.85),\n",
              " (('Qiyana', 3158), 53.25),\n",
              " (('Qiyana', 3074), 53.03),\n",
              " (('Qiyana', 1028), 52.17),\n",
              " (('Qiyana', 3042), 51.75),\n",
              " (('Qiyana', 6693), 51.59),\n",
              " (('Qiyana', 7000), 50.0),\n",
              " (('Qiyana', 6609), 50.0),\n",
              " (('Qiyana', 1101), 50.0),\n",
              " (('Qiyana', 3036), 50.0),\n",
              " (('Qiyana', 2423), 50.0),\n",
              " (('Qiyana', 3156), 50.0),\n",
              " (('Qiyana', 2421), 50.0),\n",
              " (('Qiyana', 1031), 47.83),\n",
              " (('Qiyana', 2031), 47.77),\n",
              " (('Qiyana', 6696), 47.71),\n",
              " (('Qiyana', 3133), 47.28),\n",
              " (('Qiyana', 6676), 45.71),\n",
              " (('Qiyana', 1036), 45.29),\n",
              " (('Qiyana', 3077), 45.16),\n",
              " (('Qiyana', 3047), 45.12),\n",
              " (('Qiyana', 3117), 45.0),\n",
              " (('Qiyana', 3179), 44.44),\n",
              " (('Qiyana', 6692), 43.61),\n",
              " (('Qiyana', 6695), 42.86),\n",
              " (('Qiyana', 2010), 42.86),\n",
              " (('Qiyana', 2055), 41.51),\n",
              " (('Qiyana', 3111), 41.44),\n",
              " (('Qiyana', 6691), 41.23),\n",
              " (('Qiyana', 3134), 40.73),\n",
              " (('Qiyana', 2422), 40.0),\n",
              " (('Qiyana', 3155), 39.71),\n",
              " (('Qiyana', 1102), 37.5),\n",
              " (('Qiyana', 1055), 35.59),\n",
              " (('Qiyana', 3070), 34.25),\n",
              " (('Qiyana', 1054), 33.33),\n",
              " (('Qiyana', 2003), 31.58),\n",
              " (('Qiyana', 1001), 31.43),\n",
              " (('Qiyana', 2033), 29.17),\n",
              " (('Qiyana', 1053), 26.32),\n",
              " (('Qiyana', 7001), 25.0),\n",
              " (('Qiyana', 1029), 18.18)]"
            ]
          },
          "metadata": {},
          "execution_count": 84
        }
      ]
    },
    {
      "cell_type": "code",
      "source": [
        "items_suggestion_for_champion('Diana')"
      ],
      "metadata": {
        "colab": {
          "base_uri": "https://localhost:8080/"
        },
        "id": "pQop-ggOuNeb",
        "outputId": "269a593f-7579-452a-9d44-8f35946b6150"
      },
      "execution_count": null,
      "outputs": [
        {
          "output_type": "execute_result",
          "data": {
            "text/plain": [
              "[(('Diana', 3074), 100.0),\n",
              " (('Diana', 3124), 100.0),\n",
              " (('Diana', 3042), 100.0),\n",
              " (('Diana', 3026), 100.0),\n",
              " (('Diana', 3802), 100.0),\n",
              " (('Diana', 3011), 100.0),\n",
              " (('Diana', 6667), 100.0),\n",
              " (('Diana', 3139), 100.0),\n",
              " (('Diana', 3850), 100.0),\n",
              " (('Diana', 4638), 100.0),\n",
              " (('Diana', 7010), 100.0),\n",
              " (('Diana', 3041), 90.41),\n",
              " (('Diana', 4644), 87.5),\n",
              " (('Diana', 7011), 72.73),\n",
              " (('Diana', 3100), 71.77),\n",
              " (('Diana', 3116), 71.43),\n",
              " (('Diana', 4629), 68.75),\n",
              " (('Diana', 8020), 67.65),\n",
              " (('Diana', 6656), 66.67),\n",
              " (('Diana', 7026), 66.67),\n",
              " (('Diana', 8001), 66.67),\n",
              " (('Diana', 4401), 63.64),\n",
              " (('Diana', 3089), 63.15),\n",
              " (('Diana', 3143), 61.54),\n",
              " (('Diana', 1082), 60.76),\n",
              " (('Diana', 6662), 60.0),\n",
              " (('Diana', 3140), 60.0),\n",
              " (('Diana', 3193), 60.0),\n",
              " (('Diana', 3211), 59.09),\n",
              " (('Diana', 3082), 58.82),\n",
              " (('Diana', 1102), 58.62),\n",
              " (('Diana', 4645), 58.58),\n",
              " (('Diana', 4633), 57.84),\n",
              " (('Diana', 1058), 57.79),\n",
              " (('Diana', 2420), 57.35),\n",
              " (('Diana', 3157), 56.21),\n",
              " (('Diana', 4637), 55.86),\n",
              " (('Diana', 3009), 55.56),\n",
              " (('Diana', 2424), 55.56),\n",
              " (('Diana', 4636), 54.93),\n",
              " (('Diana', 3065), 54.55),\n",
              " (('Diana', 3110), 54.17),\n",
              " (('Diana', 2055), 54.05),\n",
              " (('Diana', 1057), 53.85),\n",
              " (('Diana', 3152), 53.39),\n",
              " (('Diana', 3020), 52.88),\n",
              " (('Diana', 6665), 52.72),\n",
              " (('Diana', 3165), 52.68),\n",
              " (('Diana', 3115), 52.61),\n",
              " (('Diana', 3135), 52.41),\n",
              " (('Diana', 3075), 52.29),\n",
              " (('Diana', 3068), 51.96),\n",
              " (('Diana', 1056), 51.54),\n",
              " (('Diana', 3111), 50.99),\n",
              " (('Diana', 6655), 50.0),\n",
              " (('Diana', 3121), 50.0),\n",
              " (('Diana', 1039), 50.0),\n",
              " (('Diana', 6653), 50.0),\n",
              " (('Diana', 4628), 50.0),\n",
              " (('Diana', 3077), 50.0),\n",
              " (('Diana', 2419), 50.0),\n",
              " (('Diana', 6657), 49.37),\n",
              " (('Diana', 2421), 48.78),\n",
              " (('Diana', 2031), 48.61),\n",
              " (('Diana', 3158), 48.0),\n",
              " (('Diana', 3006), 47.83),\n",
              " (('Diana', 6660), 47.48),\n",
              " (('Diana', 3191), 47.31),\n",
              " (('Diana', 1028), 47.09),\n",
              " (('Diana', 4630), 46.61),\n",
              " (('Diana', 1011), 46.39),\n",
              " (('Diana', 3113), 46.15),\n",
              " (('Diana', 3047), 46.1),\n",
              " (('Diana', 3057), 45.83),\n",
              " (('Diana', 3084), 45.76),\n",
              " (('Diana', 1052), 45.48),\n",
              " (('Diana', 2033), 45.16),\n",
              " (('Diana', 3145), 44.59),\n",
              " (('Diana', 1026), 43.58),\n",
              " (('Diana', 1043), 42.98),\n",
              " (('Diana', 3105), 42.17),\n",
              " (('Diana', 2422), 41.54),\n",
              " (('Diana', 3916), 41.31),\n",
              " (('Diana', 2003), 41.24),\n",
              " (('Diana', 3076), 40.96),\n",
              " (('Diana', 1001), 40.45),\n",
              " (('Diana', 3040), 40.0),\n",
              " (('Diana', 1035), 38.46),\n",
              " (('Diana', 1033), 38.46),\n",
              " (('Diana', 1031), 36.51),\n",
              " (('Diana', 3102), 35.48),\n",
              " (('Diana', 3108), 34.65),\n",
              " (('Diana', 1029), 34.44),\n",
              " (('Diana', 3153), 33.33),\n",
              " (('Diana', 3117), 33.33),\n",
              " (('Diana', 3400), 33.33),\n",
              " (('Diana', 1036), 33.33),\n",
              " (('Diana', 1053), 33.33),\n",
              " (('Diana', 3066), 33.33),\n",
              " (('Diana', 3024), 33.33),\n",
              " (('Diana', 3067), 30.86),\n",
              " (('Diana', 3853), 30.77),\n",
              " (('Diana', 3070), 28.57),\n",
              " (('Diana', 3091), 25.0),\n",
              " (('Diana', 1101), 24.0),\n",
              " (('Diana', 1042), 23.64),\n",
              " (('Diana', 1103), 22.47),\n",
              " (('Diana', 3803), 20.0),\n",
              " (('Diana', 4632), 19.35),\n",
              " (('Diana', 4635), 15.38)]"
            ]
          },
          "metadata": {},
          "execution_count": 85
        }
      ]
    },
    {
      "cell_type": "code",
      "source": [
        "items_suggestion_for_champion('Zed')"
      ],
      "metadata": {
        "colab": {
          "base_uri": "https://localhost:8080/"
        },
        "id": "fzNNMkLoykNA",
        "outputId": "b7884a43-8bc3-4fc7-c300-ebcacb0e704b"
      },
      "execution_count": null,
      "outputs": [
        {
          "output_type": "execute_result",
          "data": {
            "text/plain": [
              "[(('Zed', 3400), 100.0),\n",
              " (('Zed', 2140), 100.0),\n",
              " (('Zed', 3855), 100.0),\n",
              " (('Zed', 6632), 100.0),\n",
              " (('Zed', 3089), 100.0),\n",
              " (('Zed', 2033), 100.0),\n",
              " (('Zed', 6673), 100.0),\n",
              " (('Zed', 3916), 100.0),\n",
              " (('Zed', 3051), 100.0),\n",
              " (('Zed', 3091), 100.0),\n",
              " (('Zed', 3004), 100.0),\n",
              " (('Zed', 3066), 100.0),\n",
              " (('Zed', 1026), 100.0),\n",
              " (('Zed', 3044), 100.0),\n",
              " (('Zed', 3181), 100.0),\n",
              " (('Zed', 2138), 100.0),\n",
              " (('Zed', 3115), 100.0),\n",
              " (('Zed', 7000), 94.12),\n",
              " (('Zed', 3143), 83.33),\n",
              " (('Zed', 3857), 80.0),\n",
              " (('Zed', 3508), 78.38),\n",
              " (('Zed', 2421), 76.47),\n",
              " (('Zed', 1038), 68.89),\n",
              " (('Zed', 6665), 66.67),\n",
              " (('Zed', 3046), 66.67),\n",
              " (('Zed', 2420), 65.0),\n",
              " (('Zed', 7001), 64.71),\n",
              " (('Zed', 3031), 63.64),\n",
              " (('Zed', 3026), 62.35),\n",
              " (('Zed', 3140), 61.9),\n",
              " (('Zed', 7002), 61.54),\n",
              " (('Zed', 3065), 60.0),\n",
              " (('Zed', 3814), 58.35),\n",
              " (('Zed', 6675), 57.14),\n",
              " (('Zed', 6696), 56.25),\n",
              " (('Zed', 3179), 55.66),\n",
              " (('Zed', 3033), 55.56),\n",
              " (('Zed', 3071), 55.02),\n",
              " (('Zed', 3009), 54.55),\n",
              " (('Zed', 6695), 54.55),\n",
              " (('Zed', 6694), 54.02),\n",
              " (('Zed', 3161), 53.33),\n",
              " (('Zed', 3142), 53.28),\n",
              " (('Zed', 3156), 53.01),\n",
              " (('Zed', 6676), 52.4),\n",
              " (('Zed', 6693), 52.29),\n",
              " (('Zed', 3158), 51.66),\n",
              " (('Zed', 3036), 51.28),\n",
              " (('Zed', 3074), 51.16),\n",
              " (('Zed', 6609), 50.32),\n",
              " (('Zed', 3068), 50.0),\n",
              " (('Zed', 3139), 50.0),\n",
              " (('Zed', 1043), 50.0),\n",
              " (('Zed', 3095), 50.0),\n",
              " (('Zed', 3748), 50.0),\n",
              " (('Zed', 3742), 50.0),\n",
              " (('Zed', 3070), 50.0),\n",
              " (('Zed', 3084), 50.0),\n",
              " (('Zed', 6035), 50.0),\n",
              " (('Zed', 1029), 50.0),\n",
              " (('Zed', 3862), 50.0),\n",
              " (('Zed', 1055), 49.21),\n",
              " (('Zed', 3067), 49.04),\n",
              " (('Zed', 3035), 48.47),\n",
              " (('Zed', 6692), 47.82),\n",
              " (('Zed', 3134), 47.59),\n",
              " (('Zed', 6691), 47.5),\n",
              " (('Zed', 1028), 47.03),\n",
              " (('Zed', 1031), 47.0),\n",
              " (('Zed', 3117), 46.67),\n",
              " (('Zed', 3153), 46.67),\n",
              " (('Zed', 2031), 46.31),\n",
              " (('Zed', 1018), 45.0),\n",
              " (('Zed', 2055), 43.97),\n",
              " (('Zed', 6333), 43.57),\n",
              " (('Zed', 3133), 43.1),\n",
              " (('Zed', 3047), 42.75),\n",
              " (('Zed', 3155), 42.62),\n",
              " (('Zed', 3111), 42.29),\n",
              " (('Zed', 3072), 41.67),\n",
              " (('Zed', 2003), 41.6),\n",
              " (('Zed', 1036), 41.33),\n",
              " (('Zed', 1033), 40.74),\n",
              " (('Zed', 3077), 40.18),\n",
              " (('Zed', 2424), 40.0),\n",
              " (('Zed', 1037), 38.07),\n",
              " (('Zed', 3864), 37.5),\n",
              " (('Zed', 1053), 37.22),\n",
              " (('Zed', 3123), 36.97),\n",
              " (('Zed', 1054), 36.84),\n",
              " (('Zed', 1001), 36.82),\n",
              " (('Zed', 2422), 34.04),\n",
              " (('Zed', 3053), 33.33),\n",
              " (('Zed', 3086), 33.33),\n",
              " (('Zed', 3082), 33.33),\n",
              " (('Zed', 3075), 33.33),\n",
              " (('Zed', 6630), 27.27),\n",
              " (('Zed', 1101), 22.22),\n",
              " (('Zed', 6671), 20.0),\n",
              " (('Zed', 1103), 18.18),\n",
              " (('Zed', 3057), 16.67)]"
            ]
          },
          "metadata": {},
          "execution_count": 86
        }
      ]
    },
    {
      "cell_type": "code",
      "source": [
        "items_suggestion_for_champion('Caitlyn')"
      ],
      "metadata": {
        "colab": {
          "base_uri": "https://localhost:8080/"
        },
        "id": "rkJ1HgTB1bQz",
        "outputId": "84a141c6-f40a-48a2-e2b6-299e88f96cd9"
      },
      "execution_count": null,
      "outputs": [
        {
          "output_type": "execute_result",
          "data": {
            "text/plain": [
              "[(('Caitlyn', 3053), 100.0),\n",
              " (('Caitlyn', 2423), 100.0),\n",
              " (('Caitlyn', 3067), 100.0),\n",
              " (('Caitlyn', 4628), 100.0),\n",
              " (('Caitlyn', 3857), 100.0),\n",
              " (('Caitlyn', 1082), 100.0),\n",
              " (('Caitlyn', 3020), 100.0),\n",
              " (('Caitlyn', 7001), 100.0),\n",
              " (('Caitlyn', 3068), 100.0),\n",
              " (('Caitlyn', 3100), 100.0),\n",
              " (('Caitlyn', 3742), 100.0),\n",
              " (('Caitlyn', 4636), 100.0),\n",
              " (('Caitlyn', 3179), 100.0),\n",
              " (('Caitlyn', 3142), 75.0),\n",
              " (('Caitlyn', 6693), 75.0),\n",
              " (('Caitlyn', 3084), 75.0),\n",
              " (('Caitlyn', 7007), 73.68),\n",
              " (('Caitlyn', 3814), 69.23),\n",
              " (('Caitlyn', 6694), 68.75),\n",
              " (('Caitlyn', 3026), 67.55),\n",
              " (('Caitlyn', 3044), 66.67),\n",
              " (('Caitlyn', 3071), 66.67),\n",
              " (('Caitlyn', 3091), 66.67),\n",
              " (('Caitlyn', 3400), 66.67),\n",
              " (('Caitlyn', 3085), 65.0),\n",
              " (('Caitlyn', 3748), 62.5),\n",
              " (('Caitlyn', 1029), 60.53),\n",
              " (('Caitlyn', 2140), 60.0),\n",
              " (('Caitlyn', 3051), 60.0),\n",
              " (('Caitlyn', 3143), 60.0),\n",
              " (('Caitlyn', 3072), 59.71),\n",
              " (('Caitlyn', 3070), 58.62),\n",
              " (('Caitlyn', 3031), 58.57),\n",
              " (('Caitlyn', 3111), 58.33),\n",
              " (('Caitlyn', 3042), 58.33),\n",
              " (('Caitlyn', 3158), 58.33),\n",
              " (('Caitlyn', 3009), 58.33),\n",
              " (('Caitlyn', 2033), 57.89),\n",
              " (('Caitlyn', 1038), 57.54),\n",
              " (('Caitlyn', 7006), 57.45),\n",
              " (('Caitlyn', 2421), 56.82),\n",
              " (('Caitlyn', 3139), 56.6),\n",
              " (('Caitlyn', 6676), 56.18),\n",
              " (('Caitlyn', 3047), 55.95),\n",
              " (('Caitlyn', 3508), 55.56),\n",
              " (('Caitlyn', 3156), 55.45),\n",
              " (('Caitlyn', 3046), 55.35),\n",
              " (('Caitlyn', 6692), 55.34),\n",
              " (('Caitlyn', 3155), 54.32),\n",
              " (('Caitlyn', 3094), 54.08),\n",
              " (('Caitlyn', 3133), 53.85),\n",
              " (('Caitlyn', 1053), 53.63),\n",
              " (('Caitlyn', 2055), 53.45),\n",
              " (('Caitlyn', 3036), 53.44),\n",
              " (('Caitlyn', 3095), 53.32),\n",
              " (('Caitlyn', 6675), 52.94),\n",
              " (('Caitlyn', 1083), 52.69),\n",
              " (('Caitlyn', 2420), 51.72),\n",
              " (('Caitlyn', 3153), 51.47),\n",
              " (('Caitlyn', 6671), 51.16),\n",
              " (('Caitlyn', 6672), 51.12),\n",
              " (('Caitlyn', 3140), 50.82),\n",
              " (('Caitlyn', 3006), 50.78),\n",
              " (('Caitlyn', 3033), 50.76),\n",
              " (('Caitlyn', 1033), 50.0),\n",
              " (('Caitlyn', 3161), 50.0),\n",
              " (('Caitlyn', 1031), 50.0),\n",
              " (('Caitlyn', 3211), 50.0),\n",
              " (('Caitlyn', 6035), 50.0),\n",
              " (('Caitlyn', 3157), 50.0),\n",
              " (('Caitlyn', 2422), 50.0),\n",
              " (('Caitlyn', 1043), 50.0),\n",
              " (('Caitlyn', 1055), 48.98),\n",
              " (('Caitlyn', 6696), 48.57),\n",
              " (('Caitlyn', 2003), 47.15),\n",
              " (('Caitlyn', 3035), 46.64),\n",
              " (('Caitlyn', 3134), 46.46),\n",
              " (('Caitlyn', 1037), 46.27),\n",
              " (('Caitlyn', 3004), 46.15),\n",
              " (('Caitlyn', 6695), 45.45),\n",
              " (('Caitlyn', 2031), 45.02),\n",
              " (('Caitlyn', 6673), 44.87),\n",
              " (('Caitlyn', 3086), 44.7),\n",
              " (('Caitlyn', 3123), 44.69),\n",
              " (('Caitlyn', 1036), 44.67),\n",
              " (('Caitlyn', 3124), 44.44),\n",
              " (('Caitlyn', 1018), 44.06),\n",
              " (('Caitlyn', 3077), 42.86),\n",
              " (('Caitlyn', 2015), 42.47),\n",
              " (('Caitlyn', 6691), 37.58),\n",
              " (('Caitlyn', 3864), 36.36),\n",
              " (('Caitlyn', 1042), 35.12),\n",
              " (('Caitlyn', 3082), 33.33),\n",
              " (('Caitlyn', 3074), 33.33),\n",
              " (('Caitlyn', 6333), 33.33),\n",
              " (('Caitlyn', 1057), 33.33),\n",
              " (('Caitlyn', 1001), 30.51),\n",
              " (('Caitlyn', 6609), 25.0),\n",
              " (('Caitlyn', 6670), 22.7),\n",
              " (('Caitlyn', 1054), 20.0),\n",
              " (('Caitlyn', 1028), 20.0),\n",
              " (('Caitlyn', 2010), 6.67)]"
            ]
          },
          "metadata": {},
          "execution_count": 87
        }
      ]
    },
    {
      "cell_type": "code",
      "source": [
        "items_suggestion_for_champion('Irelia')"
      ],
      "metadata": {
        "colab": {
          "base_uri": "https://localhost:8080/"
        },
        "id": "NJo4V86f1cH5",
        "outputId": "95267126-9194-4a4a-abaa-967193775387"
      },
      "execution_count": null,
      "outputs": [
        {
          "output_type": "execute_result",
          "data": {
            "text/plain": [
              "[(('Irelia', 3095), 100.0),\n",
              " (('Irelia', 6695), 100.0),\n",
              " (('Irelia', 3742), 100.0),\n",
              " (('Irelia', 3031), 100.0),\n",
              " (('Irelia', 3801), 100.0),\n",
              " (('Irelia', 3046), 100.0),\n",
              " (('Irelia', 3400), 100.0),\n",
              " (('Irelia', 7025), 100.0),\n",
              " (('Irelia', 6696), 100.0),\n",
              " (('Irelia', 3121), 100.0),\n",
              " (('Irelia', 6693), 100.0),\n",
              " (('Irelia', 3004), 100.0),\n",
              " (('Irelia', 3066), 100.0),\n",
              " (('Irelia', 3083), 100.0),\n",
              " (('Irelia', 6676), 100.0),\n",
              " (('Irelia', 3161), 85.71),\n",
              " (('Irelia', 6694), 80.0),\n",
              " (('Irelia', 3072), 72.73),\n",
              " (('Irelia', 3748), 68.66),\n",
              " (('Irelia', 3140), 67.86),\n",
              " (('Irelia', 3124), 66.67),\n",
              " (('Irelia', 3181), 66.67),\n",
              " (('Irelia', 3857), 66.67),\n",
              " (('Irelia', 7015), 66.67),\n",
              " (('Irelia', 3139), 66.67),\n",
              " (('Irelia', 3026), 64.99),\n",
              " (('Irelia', 1038), 64.47),\n",
              " (('Irelia', 3053), 64.06),\n",
              " (('Irelia', 3193), 63.64),\n",
              " (('Irelia', 1057), 63.16),\n",
              " (('Irelia', 6672), 62.5),\n",
              " (('Irelia', 2422), 61.54),\n",
              " (('Irelia', 3078), 60.87),\n",
              " (('Irelia', 3071), 60.87),\n",
              " (('Irelia', 3065), 60.47),\n",
              " (('Irelia', 3042), 60.0),\n",
              " (('Irelia', 1027), 60.0),\n",
              " (('Irelia', 6035), 60.0),\n",
              " (('Irelia', 7008), 60.0),\n",
              " (('Irelia', 6677), 60.0),\n",
              " (('Irelia', 4401), 60.0),\n",
              " (('Irelia', 3143), 59.52),\n",
              " (('Irelia', 3074), 58.02),\n",
              " (('Irelia', 3508), 57.14),\n",
              " (('Irelia', 6692), 57.14),\n",
              " (('Irelia', 6673), 56.52),\n",
              " (('Irelia', 6333), 56.43),\n",
              " (('Irelia', 6662), 55.56),\n",
              " (('Irelia', 3110), 55.38),\n",
              " (('Irelia', 3158), 55.22),\n",
              " (('Irelia', 3082), 54.96),\n",
              " (('Irelia', 6630), 54.96),\n",
              " (('Irelia', 2420), 54.64),\n",
              " (('Irelia', 1083), 54.17),\n",
              " (('Irelia', 6665), 53.32),\n",
              " (('Irelia', 2421), 53.12),\n",
              " (('Irelia', 1011), 53.12),\n",
              " (('Irelia', 3091), 52.85),\n",
              " (('Irelia', 3156), 52.13),\n",
              " (('Irelia', 1029), 51.73),\n",
              " (('Irelia', 3033), 51.72),\n",
              " (('Irelia', 3155), 51.11),\n",
              " (('Irelia', 1054), 50.79),\n",
              " (('Irelia', 3153), 50.56),\n",
              " (('Irelia', 3077), 50.41),\n",
              " (('Irelia', 3111), 50.33),\n",
              " (('Irelia', 7026), 50.0),\n",
              " (('Irelia', 6631), 50.0),\n",
              " (('Irelia', 6691), 50.0),\n",
              " (('Irelia', 3075), 50.0),\n",
              " (('Irelia', 6675), 50.0),\n",
              " (('Irelia', 3084), 50.0),\n",
              " (('Irelia', 3134), 50.0),\n",
              " (('Irelia', 3211), 50.0),\n",
              " (('Irelia', 6664), 50.0),\n",
              " (('Irelia', 3035), 50.0),\n",
              " (('Irelia', 3047), 49.76),\n",
              " (('Irelia', 1031), 49.22),\n",
              " (('Irelia', 1055), 48.96),\n",
              " (('Irelia', 2033), 48.51),\n",
              " (('Irelia', 6632), 47.29),\n",
              " (('Irelia', 1042), 46.0),\n",
              " (('Irelia', 3051), 45.8),\n",
              " (('Irelia', 3024), 45.76),\n",
              " (('Irelia', 3006), 45.65),\n",
              " (('Irelia', 3123), 45.05),\n",
              " (('Irelia', 3044), 44.12),\n",
              " (('Irelia', 6609), 43.37),\n",
              " (('Irelia', 3133), 43.08),\n",
              " (('Irelia', 2031), 42.7),\n",
              " (('Irelia', 1037), 42.67),\n",
              " (('Irelia', 1033), 42.51),\n",
              " (('Irelia', 1036), 42.15),\n",
              " (('Irelia', 1018), 42.11),\n",
              " (('Irelia', 6670), 41.67),\n",
              " (('Irelia', 2055), 41.29),\n",
              " (('Irelia', 3076), 40.0),\n",
              " (('Irelia', 1028), 39.32),\n",
              " (('Irelia', 6029), 39.29),\n",
              " (('Irelia', 3105), 39.25),\n",
              " (('Irelia', 2010), 38.89),\n",
              " (('Irelia', 2003), 38.2),\n",
              " (('Irelia', 3070), 36.84),\n",
              " (('Irelia', 3057), 34.58),\n",
              " (('Irelia', 3068), 33.33),\n",
              " (('Irelia', 3067), 33.33),\n",
              " (('Irelia', 1053), 31.06),\n",
              " (('Irelia', 1001), 20.97),\n",
              " (('Irelia', 6660), 20.0),\n",
              " (('Irelia', 1043), 17.33),\n",
              " (('Irelia', 3036), 16.67)]"
            ]
          },
          "metadata": {},
          "execution_count": 88
        }
      ]
    },
    {
      "cell_type": "code",
      "source": [
        "items_suggestion_for_champion('Ezreal')"
      ],
      "metadata": {
        "colab": {
          "base_uri": "https://localhost:8080/"
        },
        "id": "Ypjal3ht1bu7",
        "outputId": "7a3ec6a2-1d29-4f77-cec7-9ca53e40396a"
      },
      "execution_count": null,
      "outputs": [
        {
          "output_type": "execute_result",
          "data": {
            "text/plain": [
              "[(('Ezreal', 1102), 100.0),\n",
              " (('Ezreal', 3193), 100.0),\n",
              " (('Ezreal', 1103), 100.0),\n",
              " (('Ezreal', 3862), 100.0),\n",
              " (('Ezreal', 4635), 100.0),\n",
              " (('Ezreal', 6677), 100.0),\n",
              " (('Ezreal', 4636), 100.0),\n",
              " (('Ezreal', 3863), 100.0),\n",
              " (('Ezreal', 3041), 100.0),\n",
              " (('Ezreal', 3124), 100.0),\n",
              " (('Ezreal', 7001), 100.0),\n",
              " (('Ezreal', 7024), 100.0),\n",
              " (('Ezreal', 3053), 100.0),\n",
              " (('Ezreal', 3143), 100.0),\n",
              " (('Ezreal', 7017), 94.12),\n",
              " (('Ezreal', 6035), 84.21),\n",
              " (('Ezreal', 3046), 83.33),\n",
              " (('Ezreal', 3400), 80.0),\n",
              " (('Ezreal', 4630), 77.78),\n",
              " (('Ezreal', 3211), 75.0),\n",
              " (('Ezreal', 1011), 72.22),\n",
              " (('Ezreal', 7002), 71.43),\n",
              " (('Ezreal', 3814), 71.43),\n",
              " (('Ezreal', 7018), 70.59),\n",
              " (('Ezreal', 2420), 69.35),\n",
              " (('Ezreal', 1052), 68.97),\n",
              " (('Ezreal', 4645), 68.97),\n",
              " (('Ezreal', 6676), 66.67),\n",
              " (('Ezreal', 3094), 66.67),\n",
              " (('Ezreal', 7005), 66.67),\n",
              " (('Ezreal', 6653), 66.67),\n",
              " (('Ezreal', 4644), 64.89),\n",
              " (('Ezreal', 3086), 63.64),\n",
              " (('Ezreal', 3157), 62.96),\n",
              " (('Ezreal', 1026), 60.0),\n",
              " (('Ezreal', 3065), 60.0),\n",
              " (('Ezreal', 2424), 60.0),\n",
              " (('Ezreal', 3135), 60.0),\n",
              " (('Ezreal', 3077), 59.44),\n",
              " (('Ezreal', 3155), 58.99),\n",
              " (('Ezreal', 3748), 58.82),\n",
              " (('Ezreal', 3089), 58.82),\n",
              " (('Ezreal', 3071), 58.33),\n",
              " (('Ezreal', 1033), 58.1),\n",
              " (('Ezreal', 3100), 57.41),\n",
              " (('Ezreal', 3139), 57.14),\n",
              " (('Ezreal', 3140), 57.14),\n",
              " (('Ezreal', 1029), 56.25),\n",
              " (('Ezreal', 3006), 56.0),\n",
              " (('Ezreal', 3153), 55.97),\n",
              " (('Ezreal', 3156), 55.58),\n",
              " (('Ezreal', 3111), 55.56),\n",
              " (('Ezreal', 4628), 55.56),\n",
              " (('Ezreal', 1038), 55.29),\n",
              " (('Ezreal', 1027), 54.9),\n",
              " (('Ezreal', 3074), 54.4),\n",
              " (('Ezreal', 6694), 53.98),\n",
              " (('Ezreal', 6675), 53.2),\n",
              " (('Ezreal', 3110), 52.89),\n",
              " (('Ezreal', 6692), 52.87),\n",
              " (('Ezreal', 3004), 52.66),\n",
              " (('Ezreal', 1053), 52.4),\n",
              " (('Ezreal', 6672), 52.16),\n",
              " (('Ezreal', 3026), 51.69),\n",
              " (('Ezreal', 2003), 51.45),\n",
              " (('Ezreal', 3161), 51.06),\n",
              " (('Ezreal', 3042), 50.76),\n",
              " (('Ezreal', 2010), 50.42),\n",
              " (('Ezreal', 3078), 50.25),\n",
              " (('Ezreal', 6691), 50.25),\n",
              " (('Ezreal', 3165), 50.0),\n",
              " (('Ezreal', 3117), 50.0),\n",
              " (('Ezreal', 6655), 50.0),\n",
              " (('Ezreal', 6657), 50.0),\n",
              " (('Ezreal', 2419), 50.0),\n",
              " (('Ezreal', 3113), 50.0),\n",
              " (('Ezreal', 6696), 50.0),\n",
              " (('Ezreal', 3085), 50.0),\n",
              " (('Ezreal', 3142), 50.0),\n",
              " (('Ezreal', 3076), 50.0),\n",
              " (('Ezreal', 3158), 49.52),\n",
              " (('Ezreal', 1055), 49.31),\n",
              " (('Ezreal', 6632), 49.13),\n",
              " (('Ezreal', 3035), 48.86),\n",
              " (('Ezreal', 1031), 48.84),\n",
              " (('Ezreal', 3082), 48.24),\n",
              " (('Ezreal', 6609), 47.89),\n",
              " (('Ezreal', 3024), 47.71),\n",
              " (('Ezreal', 3508), 47.44),\n",
              " (('Ezreal', 3033), 46.51),\n",
              " (('Ezreal', 6671), 46.43),\n",
              " (('Ezreal', 3072), 45.95),\n",
              " (('Ezreal', 1037), 45.87),\n",
              " (('Ezreal', 6693), 45.16),\n",
              " (('Ezreal', 2421), 45.1),\n",
              " (('Ezreal', 1036), 44.58),\n",
              " (('Ezreal', 6673), 44.06),\n",
              " (('Ezreal', 6662), 43.95),\n",
              " (('Ezreal', 1042), 43.64),\n",
              " (('Ezreal', 2055), 43.53),\n",
              " (('Ezreal', 7007), 42.86),\n",
              " (('Ezreal', 3084), 42.86),\n",
              " (('Ezreal', 3020), 42.62),\n",
              " (('Ezreal', 2031), 42.27),\n",
              " (('Ezreal', 3047), 41.59),\n",
              " (('Ezreal', 3134), 41.26),\n",
              " (('Ezreal', 3133), 40.94),\n",
              " (('Ezreal', 3102), 40.0),\n",
              " (('Ezreal', 3802), 40.0),\n",
              " (('Ezreal', 3095), 40.0),\n",
              " (('Ezreal', 1054), 40.0),\n",
              " (('Ezreal', 3036), 39.81),\n",
              " (('Ezreal', 2422), 37.95),\n",
              " (('Ezreal', 3864), 36.36),\n",
              " (('Ezreal', 1001), 35.61),\n",
              " (('Ezreal', 3067), 34.74),\n",
              " (('Ezreal', 1028), 34.67),\n",
              " (('Ezreal', 3123), 33.53),\n",
              " (('Ezreal', 3070), 33.39),\n",
              " (('Ezreal', 3115), 33.33),\n",
              " (('Ezreal', 3116), 33.33),\n",
              " (('Ezreal', 3853), 33.33),\n",
              " (('Ezreal', 1018), 32.33),\n",
              " (('Ezreal', 3057), 31.16),\n",
              " (('Ezreal', 1083), 30.91),\n",
              " (('Ezreal', 3108), 30.0),\n",
              " (('Ezreal', 6333), 28.57),\n",
              " (('Ezreal', 3051), 25.16),\n",
              " (('Ezreal', 3801), 25.0),\n",
              " (('Ezreal', 1043), 25.0),\n",
              " (('Ezreal', 1082), 25.0),\n",
              " (('Ezreal', 1057), 25.0),\n",
              " (('Ezreal', 3009), 25.0),\n",
              " (('Ezreal', 6670), 23.88),\n",
              " (('Ezreal', 1058), 22.92),\n",
              " (('Ezreal', 3031), 22.22),\n",
              " (('Ezreal', 2033), 21.74),\n",
              " (('Ezreal', 3040), 21.43),\n",
              " (('Ezreal', 3145), 20.69),\n",
              " (('Ezreal', 2140), 20.0),\n",
              " (('Ezreal', 3091), 20.0),\n",
              " (('Ezreal', 1056), 18.18),\n",
              " (('Ezreal', 3191), 16.67),\n",
              " (('Ezreal', 6695), 6.67)]"
            ]
          },
          "metadata": {},
          "execution_count": 81
        }
      ]
    },
    {
      "cell_type": "code",
      "source": [
        "items_suggestion_for_champion('Jax')"
      ],
      "metadata": {
        "id": "GSinBZrE1f6M"
      },
      "execution_count": null,
      "outputs": []
    },
    {
      "cell_type": "markdown",
      "source": [
        "# Extra Requirement"
      ],
      "metadata": {
        "id": "ng3K_2Opm2kN"
      }
    },
    {
      "cell_type": "markdown",
      "metadata": {
        "id": "kExWD70LCtWJ"
      },
      "source": [
        "### 1.   Best lanes for champions: \n",
        "\n",
        "\n",
        "\n",
        "\n",
        "\n"
      ]
    },
    {
      "cell_type": "code",
      "source": [
        "def all_champion_lanes_duos(matches):\n",
        "  \"\"\"\n",
        "  This function finds all possible champions items duos\n",
        "  \"\"\"\n",
        "  champion_lanes= []\n",
        "  champions_lanes_duos = []\n",
        "\n",
        "  # Get all participants in all matches\n",
        "  participants = matches[\"info\"][\"participants\"]\n",
        "\n",
        "  # Get the champion names of all participants\n",
        "  for i in participants:\n",
        "    champion_lanes.append(tuple([ i[\"championName\"], i[\"lane\"]] ))\n",
        "\n",
        "  # Form all possible duos between champions and items\n",
        "  for i in champion_lanes:\n",
        "      champions_lanes_duos.append((i, 1))\n",
        "  \n",
        "  return champions_lanes_duos"
      ],
      "metadata": {
        "id": "-nL4xkjFCtWJ"
      },
      "execution_count": null,
      "outputs": []
    },
    {
      "cell_type": "code",
      "source": [
        "def winning_champion_lanes_duos(matches):\n",
        "  \"\"\"\n",
        "  This function finds winning duos only\n",
        "  \"\"\"\n",
        "  winning_champion_lanes= []\n",
        "  winning_champions_lanes_duos = []\n",
        "  # Get all participants in all matches\n",
        "  participants = matches[\"info\"][\"participants\"]\n",
        "  # Get the champion names of all winning participants\n",
        "  for i in participants:\n",
        "    if i[\"win\"]:\n",
        "      winning_champion_lanes.append(tuple([ i[\"championName\"], i[\"lane\"]] ))\n",
        "\n",
        "  # Form all possible duos between winning champions and items\n",
        "  for i in winning_champion_lanes:\n",
        "      winning_champions_lanes_duos.append((i, 1))\n",
        "  \n",
        "  return winning_champions_lanes_duos"
      ],
      "metadata": {
        "id": "gsG8pFUjCtWK"
      },
      "execution_count": null,
      "outputs": []
    },
    {
      "cell_type": "code",
      "source": [
        "# Get all possible champion items duos from all matches\n",
        "all_champion_lanes_duos = ranked_matches_rdd.map(all_champion_lanes_duos)\n",
        "\n",
        "# Get the number of count of each duos champions\n",
        "all_champion_lanes_duos_count = all_champion_lanes_duos.flatMap(lambda x: x).reduceByKey(lambda a, b: a + b)\n",
        "\n",
        "# Get the winning champion items duos\n",
        "winning_champion_lanes_duos = ranked_matches_rdd.map(winning_champion_lanes_duos)\n",
        "\n",
        "# Get the count of each winning duos\n",
        "winning_champion_lanes_duos_count = winning_champion_lanes_duos.flatMap(lambda x: x).reduceByKey(lambda a, b: a + b)\n",
        "\n",
        "# Get champion synergies or duos\n",
        "champions_items_synergies = winning_champion_lanes_duos_count.join(all_champion_lanes_duos_count).mapValues(lambda x: round(x[0] *100 / x[1], 2))"
      ],
      "metadata": {
        "id": "1qd74JBgCtWK"
      },
      "execution_count": null,
      "outputs": []
    },
    {
      "cell_type": "code",
      "source": [
        "all_champion_lanes_duos_count.take(50)"
      ],
      "metadata": {
        "colab": {
          "base_uri": "https://localhost:8080/"
        },
        "outputId": "17d7bdeb-4c53-48e4-ed72-06d2e9079955",
        "id": "e7ZAC_MPCtWK"
      },
      "execution_count": null,
      "outputs": [
        {
          "output_type": "execute_result",
          "data": {
            "text/plain": [
              "[(('Vayne', 'JUNGLE'), 200),\n",
              " (('Fiora', 'TOP'), 3243),\n",
              " (('DrMundo', 'NONE'), 505),\n",
              " (('Warwick', 'NONE'), 507),\n",
              " (('Neeko', 'MIDDLE'), 773),\n",
              " (('Jax', 'MIDDLE'), 209),\n",
              " (('Taliyah', 'BOTTOM'), 90),\n",
              " (('AurelionSol', 'TOP'), 19),\n",
              " (('Lillia', 'JUNGLE'), 2033),\n",
              " (('Kindred', 'JUNGLE'), 2443),\n",
              " (('LeeSin', 'NONE'), 400),\n",
              " (('Urgot', 'TOP'), 1332),\n",
              " (('Diana', 'MIDDLE'), 1259),\n",
              " (('Ekko', 'NONE'), 474),\n",
              " (('Xayah', 'BOTTOM'), 1612),\n",
              " (('Nasus', 'BOTTOM'), 91),\n",
              " (('Jayce', 'NONE'), 103),\n",
              " (('Blitzcrank', 'MIDDLE'), 394),\n",
              " (('Volibear', 'NONE'), 269),\n",
              " (('Zyra', 'MIDDLE'), 202),\n",
              " (('TwistedFate', 'NONE'), 75),\n",
              " (('Evelynn', 'NONE'), 180),\n",
              " (('Zac', 'NONE'), 216),\n",
              " (('Varus', 'TOP'), 178),\n",
              " (('Hecarim', 'BOTTOM'), 6),\n",
              " (('MasterYi', 'JUNGLE'), 5022),\n",
              " (('Samira', 'BOTTOM'), 4483),\n",
              " (('Malphite', 'NONE'), 223),\n",
              " (('Kaisa', 'TOP'), 132),\n",
              " (('Jax', 'NONE'), 350),\n",
              " (('Zed', 'NONE'), 573),\n",
              " (('Zilean', 'MIDDLE'), 248),\n",
              " (('Tristana', 'MIDDLE'), 746),\n",
              " (('Veigar', 'TOP'), 190),\n",
              " (('Katarina', 'TOP'), 285),\n",
              " (('Annie', 'TOP'), 49),\n",
              " (('Ivern', 'JUNGLE'), 318),\n",
              " (('Velkoz', 'TOP'), 83),\n",
              " (('Nautilus', 'JUNGLE'), 77),\n",
              " (('Vladimir', 'BOTTOM'), 39),\n",
              " (('KogMaw', 'NONE'), 98),\n",
              " (('Gnar', 'BOTTOM'), 31),\n",
              " (('Nilah', 'TOP'), 55),\n",
              " (('Vex', 'MIDDLE'), 2563),\n",
              " (('MissFortune', 'BOTTOM'), 7397),\n",
              " (('DrMundo', 'TOP'), 4106),\n",
              " (('Senna', 'BOTTOM'), 3691),\n",
              " (('Teemo', 'JUNGLE'), 716),\n",
              " (('Lulu', 'BOTTOM'), 2958),\n",
              " (('Shyvana', 'JUNGLE'), 1441)]"
            ]
          },
          "metadata": {},
          "execution_count": 92
        }
      ]
    },
    {
      "cell_type": "code",
      "source": [
        "winning_champion_lanes_duos_count.take(50)"
      ],
      "metadata": {
        "colab": {
          "base_uri": "https://localhost:8080/"
        },
        "outputId": "777dd20b-8736-4ecd-f324-68824e2e904a",
        "id": "q-ePja2iCtWK"
      },
      "execution_count": null,
      "outputs": [
        {
          "output_type": "execute_result",
          "data": {
            "text/plain": [
              "[(('Vayne', 'JUNGLE'), 95),\n",
              " (('Fiora', 'TOP'), 1584),\n",
              " (('DrMundo', 'NONE'), 246),\n",
              " (('Warwick', 'NONE'), 293),\n",
              " (('Neeko', 'MIDDLE'), 392),\n",
              " (('Jax', 'MIDDLE'), 103),\n",
              " (('Taliyah', 'BOTTOM'), 51),\n",
              " (('AurelionSol', 'TOP'), 10),\n",
              " (('Lillia', 'JUNGLE'), 1067),\n",
              " (('Kindred', 'JUNGLE'), 1181),\n",
              " (('LeeSin', 'NONE'), 185),\n",
              " (('Ekko', 'NONE'), 255),\n",
              " (('Diana', 'MIDDLE'), 650),\n",
              " (('Xayah', 'BOTTOM'), 767),\n",
              " (('Volibear', 'NONE'), 141),\n",
              " (('Blitzcrank', 'MIDDLE'), 183),\n",
              " (('Urgot', 'TOP'), 672),\n",
              " (('Zyra', 'MIDDLE'), 119),\n",
              " (('Evelynn', 'NONE'), 88),\n",
              " (('Jayce', 'NONE'), 48),\n",
              " (('Varus', 'TOP'), 99),\n",
              " (('TwistedFate', 'NONE'), 29),\n",
              " (('Zac', 'NONE'), 116),\n",
              " (('Nasus', 'BOTTOM'), 37),\n",
              " (('Hecarim', 'BOTTOM'), 3),\n",
              " (('MasterYi', 'JUNGLE'), 2566),\n",
              " (('Samira', 'BOTTOM'), 2305),\n",
              " (('Malphite', 'NONE'), 123),\n",
              " (('Kaisa', 'TOP'), 76),\n",
              " (('Jax', 'NONE'), 168),\n",
              " (('Zed', 'NONE'), 284),\n",
              " (('Zilean', 'MIDDLE'), 129),\n",
              " (('Veigar', 'TOP'), 109),\n",
              " (('Katarina', 'TOP'), 154),\n",
              " (('Annie', 'TOP'), 32),\n",
              " (('Tristana', 'MIDDLE'), 408),\n",
              " (('Ivern', 'JUNGLE'), 169),\n",
              " (('Velkoz', 'TOP'), 37),\n",
              " (('Nautilus', 'JUNGLE'), 45),\n",
              " (('Vladimir', 'BOTTOM'), 24),\n",
              " (('Nilah', 'TOP'), 30),\n",
              " (('KogMaw', 'NONE'), 49),\n",
              " (('Gnar', 'BOTTOM'), 16),\n",
              " (('Vex', 'MIDDLE'), 1281),\n",
              " (('MissFortune', 'BOTTOM'), 3783),\n",
              " (('Senna', 'BOTTOM'), 1829),\n",
              " (('Lulu', 'BOTTOM'), 1467),\n",
              " (('Shaco', 'JUNGLE'), 1863),\n",
              " (('Shyvana', 'MIDDLE'), 46),\n",
              " (('Soraka', 'BOTTOM'), 1213)]"
            ]
          },
          "metadata": {},
          "execution_count": 93
        }
      ]
    },
    {
      "cell_type": "code",
      "source": [
        "champions_items_synergies.take(50)"
      ],
      "metadata": {
        "colab": {
          "base_uri": "https://localhost:8080/"
        },
        "outputId": "3566bb4b-ee0e-4886-ea40-ffddf9ad7859",
        "id": "2V91muZKCtWK"
      },
      "execution_count": null,
      "outputs": [
        {
          "output_type": "execute_result",
          "data": {
            "text/plain": [
              "[(('Vayne', 'JUNGLE'), 47.5),\n",
              " (('Fiora', 'TOP'), 48.84),\n",
              " (('DrMundo', 'NONE'), 48.71),\n",
              " (('Warwick', 'NONE'), 57.79),\n",
              " (('Neeko', 'MIDDLE'), 50.71),\n",
              " (('Jax', 'MIDDLE'), 49.28),\n",
              " (('Taliyah', 'BOTTOM'), 56.67),\n",
              " (('AurelionSol', 'TOP'), 52.63),\n",
              " (('Lillia', 'JUNGLE'), 52.48),\n",
              " (('Kindred', 'JUNGLE'), 48.34),\n",
              " (('LeeSin', 'NONE'), 46.25),\n",
              " (('Ekko', 'NONE'), 53.8),\n",
              " (('Diana', 'MIDDLE'), 51.63),\n",
              " (('Xayah', 'BOTTOM'), 47.58),\n",
              " (('Volibear', 'NONE'), 52.42),\n",
              " (('Blitzcrank', 'MIDDLE'), 46.45),\n",
              " (('Urgot', 'TOP'), 50.45),\n",
              " (('Zyra', 'MIDDLE'), 58.91),\n",
              " (('Evelynn', 'NONE'), 48.89),\n",
              " (('Jayce', 'NONE'), 46.6),\n",
              " (('Varus', 'TOP'), 55.62),\n",
              " (('TwistedFate', 'NONE'), 38.67),\n",
              " (('Zac', 'NONE'), 53.7),\n",
              " (('Nasus', 'BOTTOM'), 40.66),\n",
              " (('Hecarim', 'BOTTOM'), 50.0),\n",
              " (('MasterYi', 'JUNGLE'), 51.1),\n",
              " (('Samira', 'BOTTOM'), 51.42),\n",
              " (('Malphite', 'NONE'), 55.16),\n",
              " (('Kaisa', 'TOP'), 57.58),\n",
              " (('Jax', 'NONE'), 48.0),\n",
              " (('Zed', 'NONE'), 49.56),\n",
              " (('Zilean', 'MIDDLE'), 52.02),\n",
              " (('Veigar', 'TOP'), 57.37),\n",
              " (('Katarina', 'TOP'), 54.04),\n",
              " (('Annie', 'TOP'), 65.31),\n",
              " (('Tristana', 'MIDDLE'), 54.69),\n",
              " (('Ivern', 'JUNGLE'), 53.14),\n",
              " (('Velkoz', 'TOP'), 44.58),\n",
              " (('Nautilus', 'JUNGLE'), 58.44),\n",
              " (('Vladimir', 'BOTTOM'), 61.54),\n",
              " (('Nilah', 'TOP'), 54.55),\n",
              " (('KogMaw', 'NONE'), 50.0),\n",
              " (('Gnar', 'BOTTOM'), 51.61),\n",
              " (('Vex', 'MIDDLE'), 49.98),\n",
              " (('MissFortune', 'BOTTOM'), 51.14),\n",
              " (('Senna', 'BOTTOM'), 49.55),\n",
              " (('Lulu', 'BOTTOM'), 49.59),\n",
              " (('Shaco', 'JUNGLE'), 47.26),\n",
              " (('Shyvana', 'MIDDLE'), 49.46),\n",
              " (('Soraka', 'BOTTOM'), 50.46)]"
            ]
          },
          "metadata": {},
          "execution_count": 94
        }
      ]
    },
    {
      "cell_type": "code",
      "source": [
        "with open(\"/content/drive/MyDrive/BigData/Output/lanes_champions_duos\", \"w\") as file:\n",
        "    file.write(str(champions_items_synergies.collect()))"
      ],
      "metadata": {
        "id": "vhucA7i-CtWK"
      },
      "execution_count": null,
      "outputs": []
    },
    {
      "cell_type": "markdown",
      "source": [
        "## 2. Best Lane for certain champion"
      ],
      "metadata": {
        "id": "o1TNl44pESS6"
      }
    },
    {
      "cell_type": "code",
      "source": [
        "def lanes_suggestion_for_champion(champion_name):\n",
        "    return champions_items_synergies.filter(lambda x: x[0][0] == champion_name).sortBy(lambda x: x[1], ascending = False).collect()"
      ],
      "metadata": {
        "id": "ANr8tUe8ER-n"
      },
      "execution_count": null,
      "outputs": []
    },
    {
      "cell_type": "code",
      "source": [
        "a5 = items_suggestion_for_champion('Diana')"
      ],
      "metadata": {
        "id": "-t8hQNAWEu6_"
      },
      "execution_count": null,
      "outputs": []
    },
    {
      "cell_type": "code",
      "source": [
        "print(a5)"
      ],
      "metadata": {
        "colab": {
          "base_uri": "https://localhost:8080/"
        },
        "id": "SKN5SbSTHZyh",
        "outputId": "63320119-0323-4aa9-ea15-90c8f304ad12"
      },
      "execution_count": null,
      "outputs": [
        {
          "output_type": "stream",
          "name": "stdout",
          "text": [
            "[(('Diana', 'TOP'), 59.06), (('Diana', 'NONE'), 55.65), (('Diana', 'MIDDLE'), 51.63), (('Diana', 'JUNGLE'), 50.89), (('Diana', 'BOTTOM'), 35.9)]\n"
          ]
        }
      ]
    },
    {
      "cell_type": "code",
      "source": [
        "a5 = [(('Diana', 'TOP'), 59.06), (('Diana', 'MIDDLE'), 51.63), (('Diana', 'JUNGLE'), 50.89), (('Diana', 'BOTTOM'), 35.9)]"
      ],
      "metadata": {
        "id": "mNRJqKJHJueC"
      },
      "execution_count": null,
      "outputs": []
    },
    {
      "cell_type": "code",
      "source": [
        "b5 = items_suggestion_for_champion('Irelia')"
      ],
      "metadata": {
        "id": "_p2uuEHrEu7A"
      },
      "execution_count": null,
      "outputs": []
    },
    {
      "cell_type": "code",
      "source": [
        "print(b5)"
      ],
      "metadata": {
        "colab": {
          "base_uri": "https://localhost:8080/"
        },
        "id": "8mA08f6AHfnL",
        "outputId": "44f7d142-d8cd-4b58-a0f4-bcaa74b2e313"
      },
      "execution_count": null,
      "outputs": [
        {
          "output_type": "stream",
          "name": "stdout",
          "text": [
            "[(('Irelia', 'BOTTOM'), 51.79), (('Irelia', 'NONE'), 51.56), (('Irelia', 'MIDDLE'), 49.91), (('Irelia', 'JUNGLE'), 48.36), (('Irelia', 'TOP'), 48.15)]\n"
          ]
        }
      ]
    },
    {
      "cell_type": "code",
      "source": [
        "b5 = [(('Irelia', 'BOTTOM'), 51.79), (('Irelia', 'MIDDLE'), 49.91), (('Irelia', 'JUNGLE'), 48.36), (('Irelia', 'TOP'), 48.15)]"
      ],
      "metadata": {
        "id": "mqy4QDOLJrSl"
      },
      "execution_count": null,
      "outputs": []
    },
    {
      "cell_type": "code",
      "source": [
        "a,b=zip(*list(a5))\n",
        "duos=[]\n",
        "for i in a:\n",
        "    duos.append(str(i[1]))\n",
        "plt.figure(figsize=(15, 10));\n",
        "plt.xticks(rotation=50)\n",
        "plt.title(\"Win rates of lanes for Diana\")\n",
        "plt.xlabel('Lane Name')\n",
        "plt.ylabel('Win Rate')\n",
        "plt.bar(duos,b);"
      ],
      "metadata": {
        "colab": {
          "base_uri": "https://localhost:8080/",
          "height": 651
        },
        "outputId": "30480cb8-cb8c-41ac-a666-11d20f2d7a33",
        "id": "oC7WbhhHCtWL"
      },
      "execution_count": null,
      "outputs": [
        {
          "output_type": "display_data",
          "data": {
            "text/plain": [
              "<Figure size 1080x720 with 1 Axes>"
            ],
            "image/png": "[encoded data removed]"
          },
          "metadata": {
            "needs_background": "light"
          }
        }
      ]
    },
    {
      "cell_type": "code",
      "source": [
        "a,b=zip(*list(b5))\n",
        "duos=[]\n",
        "for i in a:\n",
        "  duos.append(str(i[1]))\n",
        "plt.figure(figsize=(15, 10));\n",
        "plt.xticks(rotation=50)\n",
        "plt.title(\"Win rates of lanes for Irelia\")\n",
        "plt.xlabel('Lane Name')\n",
        "plt.ylabel('Win Rate')\n",
        "plt.bar(duos,b);"
      ],
      "metadata": {
        "colab": {
          "base_uri": "https://localhost:8080/",
          "height": 651
        },
        "outputId": "4cd5c3d5-6a37-4c5f-8097-f4122acba32b",
        "id": "AcOyyv9tFUqH"
      },
      "execution_count": null,
      "outputs": [
        {
          "output_type": "display_data",
          "data": {
            "text/plain": [
              "<Figure size 1080x720 with 1 Axes>"
            ],
            "image/png": "[encoded data removed]"
          },
          "metadata": {
            "needs_background": "light"
          }
        }
      ]
    },
    {
      "cell_type": "code",
      "source": [],
      "metadata": {
        "id": "BNcImqXiIBG8"
      },
      "execution_count": null,
      "outputs": []
    }
  ],
  "metadata": {
    "colab": {
      "provenance": [],
      "toc_visible": true
    },
    "kernelspec": {
      "display_name": "Python 3",
      "name": "python3"
    },
    "language_info": {
      "name": "python"
    }
  },
  "nbformat": 4,
  "nbformat_minor": 0
}