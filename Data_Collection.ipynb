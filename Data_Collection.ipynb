{
  "nbformat": 4,
  "nbformat_minor": 0,
  "metadata": {
    "colab": {
      "provenance": []
    },
    "kernelspec": {
      "name": "python3",
      "display_name": "Python 3"
    },
    "language_info": {
      "name": "python"
    }
  },
  "cells": [
    {
      "cell_type": "markdown",
      "metadata": {
        "id": "4S1FvSiSNiXj"
      },
      "source": [
        "# DATA COLLECTION\n"
      ]
    },
    {
      "cell_type": "code",
      "metadata": {
        "colab": {
          "base_uri": "https://localhost:8080/"
        },
        "id": "Zw3XX3TVNhE_",
        "outputId": "91217ca7-dda9-465b-cddf-3371f4abc491"
      },
      "source": [
        "!pip install riotwatcher"
      ],
      "execution_count": 1,
      "outputs": [
        {
          "output_type": "stream",
          "name": "stdout",
          "text": [
            "Looking in indexes: https://pypi.org/simple, https://us-python.pkg.dev/colab-wheels/public/simple/\n",
            "Collecting riotwatcher\n",
            "  Downloading riotwatcher-3.2.4-py3-none-any.whl (59 kB)\n",
            "\u001b[K     |████████████████████████████████| 59 kB 3.0 MB/s \n",
            "\u001b[?25hRequirement already satisfied: requests in /usr/local/lib/python3.8/dist-packages (from riotwatcher) (2.23.0)\n",
            "Requirement already satisfied: chardet<4,>=3.0.2 in /usr/local/lib/python3.8/dist-packages (from requests->riotwatcher) (3.0.4)\n",
            "Requirement already satisfied: certifi>=2017.4.17 in /usr/local/lib/python3.8/dist-packages (from requests->riotwatcher) (2022.12.7)\n",
            "Requirement already satisfied: urllib3!=1.25.0,!=1.25.1,<1.26,>=1.21.1 in /usr/local/lib/python3.8/dist-packages (from requests->riotwatcher) (1.24.3)\n",
            "Requirement already satisfied: idna<3,>=2.5 in /usr/local/lib/python3.8/dist-packages (from requests->riotwatcher) (2.10)\n",
            "Installing collected packages: riotwatcher\n",
            "Successfully installed riotwatcher-3.2.4\n"
          ]
        }
      ]
    },
    {
      "cell_type": "code",
      "metadata": {
        "id": "87XUhY6EN1It"
      },
      "source": [
        "from riotwatcher import LolWatcher, ApiError\n",
        "import pandas as pd\n",
        "\n",
        "lol_watcher = LolWatcher('RGAPI-c1ed55cf-ad52-49fa-b41e-3cb359d584fc')\n"
      ],
      "execution_count": 2,
      "outputs": []
    },
    {
      "cell_type": "code",
      "metadata": {
        "id": "K78yTevG9YuE"
      },
      "source": [
        "def matchID(rank,div,reg=\"eun1\"):\n",
        "  rank=lol_watcher.league.entries(queue=\"RANKED_SOLO_5x5\", tier=rank,division=div,region=reg)\n",
        "  rank_players=[]\n",
        "  for i in rank:\n",
        "    rank_players.append(i[\"summonerName\"])\n",
        "  puuid=[]\n",
        "  for i in rank_players[:15]:\n",
        "      #print(i)\n",
        "      me = lol_watcher.summoner.by_name(\"eun1\",i)\n",
        "      puuid.append(me[\"puuid\"])\n",
        "  Matchesid=[]\n",
        "  for i in puuid:\n",
        "    matches = lol_watcher.match.matchlist_by_puuid(\"Europe\",i)\n",
        "    Matchesid.append(matches)\n",
        "  Matchesid = [item for sublist in Matchesid for item in sublist]\n",
        "  return Matchesid\n",
        "\n"
      ],
      "execution_count": 3,
      "outputs": []
    },
    {
      "cell_type": "code",
      "metadata": {
        "id": "1Zz8x2V_OJoH"
      },
      "source": [
        "DIAMOND = lol_watcher.league.entries(queue=\"RANKED_SOLO_5x5\", tier=\"DIAMOND\",division=\"II\",region=\"eun1\")\n"
      ],
      "execution_count": null,
      "outputs": []
    },
    {
      "cell_type": "code",
      "metadata": {
        "id": "QeKmfLng8EJC"
      },
      "source": [
        "DIAMOND = matchID(rank=\"DIAMOND\",div=\"II\",)\n",
        "PLATINUM = matchID(rank=\"PLATINUM\",div=\"III\")\n",
        "GOLD = matchID(rank=\"GOLD\",div=\"III\")\n",
        "SILVER = matchID(rank=\"SILVER\",div=\"III\")\n",
        "BRONZE = matchID(rank=\"BRONZE\",div=\"III\")\n",
        "IRON = matchID(rank=\"IRON\",div=\"III\")"
      ],
      "execution_count": null,
      "outputs": []
    },
    {
      "cell_type": "code",
      "metadata": {
        "id": "F8BZv16y9Mf2"
      },
      "source": [
        "ALLTOGETH=DIAMOND+PLATINUM+GOLD+SILVER+BRONZE+IRON"
      ],
      "execution_count": null,
      "outputs": []
    },
    {
      "cell_type": "code",
      "metadata": {
        "id": "JvFbqEHw-4-Z"
      },
      "source": [
        "MATCH_INFO=[]\n",
        "for i in ALLTOGETH:\n",
        "  MATCH_INFO.append(lol_watcher.match.by_id(\"Europe\", i))"
      ],
      "execution_count": null,
      "outputs": []
    },
    {
      "cell_type": "code",
      "metadata": {
        "colab": {
          "base_uri": "https://localhost:8080/"
        },
        "id": "XSAzOr40DGDM",
        "outputId": "d0d769be-9dcb-4e73-a6ad-f550c0affa33"
      },
      "source": [
        "len(ALLTOGETH)"
      ],
      "execution_count": null,
      "outputs": [
        {
          "output_type": "execute_result",
          "data": {
            "text/plain": [
              "1793"
            ]
          },
          "metadata": {},
          "execution_count": 34
        }
      ]
    },
    {
      "cell_type": "code",
      "metadata": {
        "id": "2rlyIkfECTW4"
      },
      "source": [
        "import json\n",
        "with open('data.json', 'w') as f:\n",
        "    json.dump(MATCH_INFO, f)"
      ],
      "execution_count": null,
      "outputs": []
    },
    {
      "cell_type": "code",
      "metadata": {
        "id": "qlTRF4HcJ07r"
      },
      "source": [
        "!cp data.json /content/drive/MyDrive/BigData/Data2"
      ],
      "execution_count": null,
      "outputs": []
    },
    {
      "cell_type": "code",
      "metadata": {
        "id": "hqfT89AdK3tK"
      },
      "source": [],
      "execution_count": null,
      "outputs": []
    }
  ]
}